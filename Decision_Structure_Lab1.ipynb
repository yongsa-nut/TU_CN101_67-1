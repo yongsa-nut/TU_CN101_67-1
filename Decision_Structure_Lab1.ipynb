{
  "nbformat": 4,
  "nbformat_minor": 0,
  "metadata": {
    "colab": {
      "provenance": [],
      "authorship_tag": "ABX9TyMDO6ffiH6X/9/gNdWVuxAj",
      "include_colab_link": true
    },
    "kernelspec": {
      "name": "python3",
      "display_name": "Python 3"
    },
    "language_info": {
      "name": "python"
    }
  },
  "cells": [
    {
      "cell_type": "markdown",
      "metadata": {
        "id": "view-in-github",
        "colab_type": "text"
      },
      "source": [
        "<a href=\"https://colab.research.google.com/github/yongsa-nut/TU_CN101_67-1/blob/main/Decision_Structure_Lab1.ipynb\" target=\"_parent\"><img src=\"https://colab.research.google.com/assets/colab-badge.svg\" alt=\"Open In Colab\"/></a>"
      ]
    },
    {
      "cell_type": "markdown",
      "source": [
        "## Decision Structure Lab 1"
      ],
      "metadata": {
        "id": "JegPI3soFgAi"
      }
    },
    {
      "cell_type": "markdown",
      "source": [
        "**Q1**: What will the program print out?\n",
        "\n",
        "```python\n",
        "x = 5\n",
        "y = 7\n",
        "if (x*2) > y:\n",
        "  print(\"Greater\")\n",
        "print(\"Done\")\n",
        "```"
      ],
      "metadata": {
        "id": "r-5GW6VKPUHl"
      }
    },
    {
      "cell_type": "code",
      "source": [],
      "metadata": {
        "id": "MXVeI6TzPTx0"
      },
      "execution_count": null,
      "outputs": []
    },
    {
      "cell_type": "markdown",
      "source": [
        "**Q2**: What will the program print out?\n",
        "\n",
        "```python\n",
        "x = 20\n",
        "y = 12\n",
        "print(f\"{x > y}, {x < y}, {x == y}, {x != y}\")\n",
        "```"
      ],
      "metadata": {
        "id": "h93doGvuPVkE"
      }
    },
    {
      "cell_type": "code",
      "execution_count": null,
      "metadata": {
        "id": "0Gjs5VjuE7Q2"
      },
      "outputs": [],
      "source": []
    },
    {
      "cell_type": "markdown",
      "source": [
        "**Q3**: What will the program print out?\n",
        "\n",
        "```python\n",
        "a = 30\n",
        "b = 20\n",
        "c = 40\n",
        "print((a != b) or (b > c))\n",
        "print((c > b) and (a > b))\n",
        "```"
      ],
      "metadata": {
        "id": "UPyhZV9PPYOX"
      }
    },
    {
      "cell_type": "code",
      "source": [],
      "metadata": {
        "id": "O6KOS_r0PYhN"
      },
      "execution_count": null,
      "outputs": []
    },
    {
      "cell_type": "markdown",
      "source": [
        "**Q4**: What will the program print out?\n",
        "```python\n",
        "x = 5\n",
        "if x > 3:\n",
        "  print(\"Hello\")\n",
        "else:\n",
        "  print(\"Goodbye\")\n",
        "```"
      ],
      "metadata": {
        "id": "SKvVvoqfPjmA"
      }
    },
    {
      "cell_type": "code",
      "source": [],
      "metadata": {
        "id": "lT6m1R-sP-3A"
      },
      "execution_count": null,
      "outputs": []
    },
    {
      "cell_type": "markdown",
      "source": [
        "**Q5**: What will the program print out?\n",
        "```python\n",
        "age = 18\n",
        "if age >= 18:\n",
        "    print(\"You can vote\")\n",
        "\n",
        "if age >= 30:\n",
        "    print(\"You are old\")\n",
        "else:\n",
        "    print(\"You are young\")\n",
        "\n",
        "print('Done')\n",
        "```"
      ],
      "metadata": {
        "id": "JPIl2k5-P_Ny"
      }
    },
    {
      "cell_type": "code",
      "source": [],
      "metadata": {
        "id": "fFsPcPGuQSAL"
      },
      "execution_count": null,
      "outputs": []
    },
    {
      "cell_type": "markdown",
      "source": [
        "**Q6**: What will the program print out?\n",
        "```python\n",
        "score = 75\n",
        "if score >= 90:\n",
        "    print(\"A\")\n",
        "elif score >= 80:\n",
        "    print(\"B\")\n",
        "elif score >= 70:\n",
        "    print(\"C\")\n",
        "else:\n",
        "    print(\"F\")\n",
        "```"
      ],
      "metadata": {
        "id": "Bmk0zfbfQSOn"
      }
    },
    {
      "cell_type": "code",
      "source": [],
      "metadata": {
        "id": "tlx3i90uQZSx"
      },
      "execution_count": null,
      "outputs": []
    },
    {
      "cell_type": "markdown",
      "source": [
        "**Q7**: What will the program print out?\n",
        "```python\n",
        "score = 95\n",
        "if score >= 90:\n",
        "  print(\"A\")\n",
        "if score >= 80:\n",
        "  print(\"B\")\n",
        "if score >= 70:\n",
        "  print(\"C\")\n",
        "else:\n",
        "  print(\"F\")\n",
        "```"
      ],
      "metadata": {
        "id": "bHhiWi0IQcQ2"
      }
    },
    {
      "cell_type": "code",
      "source": [],
      "metadata": {
        "id": "r9UiQSuIQcgS"
      },
      "execution_count": null,
      "outputs": []
    },
    {
      "cell_type": "markdown",
      "source": [
        "**Q8**: What will the program print out?\n",
        "\n",
        "```python\n",
        "a = 5\n",
        "b = 3\n",
        "c = 7\n",
        "if a > b and a > c:\n",
        "    print(\"A is largest\")\n",
        "elif b > a and b > c:\n",
        "    print(\"B is largest\")\n",
        "else:\n",
        "    print(\"C is largest\")\n",
        "```"
      ],
      "metadata": {
        "id": "W5bNRDoRRPux"
      }
    },
    {
      "cell_type": "code",
      "source": [],
      "metadata": {
        "id": "-NVgumjPRP9E"
      },
      "execution_count": null,
      "outputs": []
    },
    {
      "cell_type": "markdown",
      "source": [
        "**Q9**: Fill in the blank to print \"Hello\" if x is greater than 5:"
      ],
      "metadata": {
        "id": "K3veLc2kRvoB"
      }
    },
    {
      "cell_type": "code",
      "source": [
        "x = 7\n",
        "if x __ 5:\n",
        "  print(\"Hello\")"
      ],
      "metadata": {
        "id": "drNuMImQR8zd"
      },
      "execution_count": null,
      "outputs": []
    },
    {
      "cell_type": "markdown",
      "source": [
        "**Q10**: Complete the code to print \"Pass\" if the score is 60 or above, and \"Fail\" otherwise:"
      ],
      "metadata": {
        "id": "GiBeo5-GR_dJ"
      }
    },
    {
      "cell_type": "code",
      "source": [
        "score = 75\n",
        "if score >= 60:\n",
        "  print(____)  #here\n",
        "else:\n",
        "  print(____)  #here"
      ],
      "metadata": {
        "id": "cL8QM5fFSApJ"
      },
      "execution_count": null,
      "outputs": []
    },
    {
      "cell_type": "markdown",
      "source": [
        "**Q11**: Fill in the blank to check if a number is divisible by both 2 and 3 (หารด้วยสอง และ สามลงตัว):"
      ],
      "metadata": {
        "id": "95wEzl5uSJjq"
      }
    },
    {
      "cell_type": "code",
      "source": [
        "num = 12\n",
        "if num % 2 == 0 __ num % 3 == 0:\n",
        "  print(\"Divisible by 2 and 3\")"
      ],
      "metadata": {
        "id": "zFf4ndL1SJ9Q"
      },
      "execution_count": null,
      "outputs": []
    },
    {
      "cell_type": "markdown",
      "source": [
        "**Q12**: Complete the code to print \"Child\" if age is less than 13, \"Teen\" if age is between 13 and 19 (inclusive), and \"Adult\" otherwise:"
      ],
      "metadata": {
        "id": "LNTp_jilST4K"
      }
    },
    {
      "cell_type": "code",
      "source": [
        "age = 15\n",
        "if age < 13:\n",
        "  print(\"__\")\n",
        "elif __ <= age and age <= __:\n",
        "  print(\"Teen\")\n",
        "else:\n",
        "  print(\"__\")"
      ],
      "metadata": {
        "id": "Co_jztM8SUNe"
      },
      "execution_count": null,
      "outputs": []
    },
    {
      "cell_type": "markdown",
      "source": [
        "**Q13**: Fill in the blank so that the program print out 'Second'. (There are multiple answers)"
      ],
      "metadata": {
        "id": "RchWM8GRSkD-"
      }
    },
    {
      "cell_type": "code",
      "source": [
        "num = ____ # here\n",
        "if num > 50:\n",
        "  print('First')\n",
        "else:\n",
        "  print('Second')"
      ],
      "metadata": {
        "id": "AwwgYIzaSrHc"
      },
      "execution_count": null,
      "outputs": []
    },
    {
      "cell_type": "markdown",
      "source": [
        "**Q14**: Fill in the blank so that the program print out 'Here'. (There are multiple answers)"
      ],
      "metadata": {
        "id": "O-hTmfWVTH8-"
      }
    },
    {
      "cell_type": "code",
      "source": [
        "num = ___ # here\n",
        "if num > 19 and num < 9:\n",
        "  print('Not here')\n",
        "elif num <7:\n",
        "  print('Not here')\n",
        "elif num > 15:\n",
        "  print('Not here')\n",
        "else:\n",
        "  print('here')"
      ],
      "metadata": {
        "id": "W0Q2XIH_TISs"
      },
      "execution_count": null,
      "outputs": []
    },
    {
      "cell_type": "markdown",
      "source": [
        "**Q15**: Fill in the blank so that the program print out \"2\""
      ],
      "metadata": {
        "id": "UZnZWWEbVI-V"
      }
    },
    {
      "cell_type": "code",
      "source": [
        "x = 5\n",
        "y = 7\n",
        "z = _\n",
        "if x < y:\n",
        "  if y < z:\n",
        "      print(\"1\")\n",
        "  else:\n",
        "      print(\"2\")\n",
        "else:\n",
        "  if x < z:\n",
        "      print(\"3\")\n",
        "  else:\n",
        "      print(\"4\")"
      ],
      "metadata": {
        "id": "rT3WdVgwVJOv"
      },
      "execution_count": null,
      "outputs": []
    },
    {
      "cell_type": "markdown",
      "source": [
        "**Q16**: Even or Odd?\n",
        "\n",
        "Write a program that receives an input from the user.\n",
        "\n",
        "Print out 'Even' if the input is an even number and print out 'Odd' if the input is an odd number.\n",
        "\n",
        "Hint: Use can use `%` to determine even or odd.\n",
        "\n",
        "Example 1:\n",
        "```\n",
        ">Enter your number: 31\n",
        "Odd\n",
        "```\n",
        "Example 2:\n",
        "```\n",
        ">Enter your number: 24\n",
        "Even\n",
        "```"
      ],
      "metadata": {
        "id": "7JO5xzjTVzQr"
      }
    },
    {
      "cell_type": "code",
      "source": [],
      "metadata": {
        "id": "bKj3uZJFWJ4G"
      },
      "execution_count": null,
      "outputs": []
    },
    {
      "cell_type": "markdown",
      "source": [
        "**Q17**: Tax brackets\n",
        "Write a program to classify the tax rate based on the user's yearl income.\n",
        "\n",
        "The tax bracket for a single person is given below.\n",
        "- Income: 0 - 11,600. Tax = 10%\n",
        "- Income: 11,601 - 47,150. Tax = 12%\n",
        "- Income: 47,151 - 100,525. Tax = 22%\n",
        "- Income: > 100,526. Tax = 24%\n",
        "\n",
        "Example 1:\n",
        "```\n",
        ">Enter your yearly income: 5000\n",
        "Tax = 10%\n",
        "```\n",
        "\n",
        "Example 2:\n",
        "```\n",
        ">Enter your yearly income: 13000\n",
        "Tax = 12%\n",
        "```\n",
        "\n",
        "Example 3\n",
        "```\n",
        ">Enter your yearly income: 67890\n",
        "Tax = 22%\n",
        "```\n",
        "\n",
        "Example 4\n",
        "```\n",
        ">Enter your yearly income: 300000\n",
        "Tax = 24%\n",
        "```\n"
      ],
      "metadata": {
        "id": "-3-j3ebtWbse"
      }
    },
    {
      "cell_type": "code",
      "source": [],
      "metadata": {
        "id": "1wP_Ngy0Wktb"
      },
      "execution_count": null,
      "outputs": []
    },
    {
      "cell_type": "markdown",
      "source": [
        "## การส่ง\n",
        "- File -> Download -> Download .ipynb\n",
        "- Upload to MS Teams"
      ],
      "metadata": {
        "id": "WEJOCTkDEpNk"
      }
    }
  ]
}
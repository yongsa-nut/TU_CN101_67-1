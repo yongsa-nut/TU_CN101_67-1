{
  "nbformat": 4,
  "nbformat_minor": 0,
  "metadata": {
    "colab": {
      "provenance": [],
      "authorship_tag": "ABX9TyMWi24tn78PU/VR3gGroFbc",
      "include_colab_link": true
    },
    "kernelspec": {
      "name": "python3",
      "display_name": "Python 3"
    },
    "language_info": {
      "name": "python"
    }
  },
  "cells": [
    {
      "cell_type": "markdown",
      "metadata": {
        "id": "view-in-github",
        "colab_type": "text"
      },
      "source": [
        "<a href=\"https://colab.research.google.com/github/yongsa-nut/TU_CN101_67-1/blob/main/Decision_Structures_Lab_2_TH_(Sol).ipynb\" target=\"_parent\"><img src=\"https://colab.research.google.com/assets/colab-badge.svg\" alt=\"Open In Colab\"/></a>"
      ]
    },
    {
      "cell_type": "markdown",
      "source": [
        "# Decision Structure Lab 2"
      ],
      "metadata": {
        "id": "Moi118BTgo4B"
      }
    },
    {
      "cell_type": "markdown",
      "source": [
        "เขียน ชื่อ นามสกุล และ id ในช่องด้านล่าง"
      ],
      "metadata": {
        "id": "DgjM2cJtgrXf"
      }
    },
    {
      "cell_type": "code",
      "source": [
        "Solution"
      ],
      "metadata": {
        "id": "wfTCCPBaguX_"
      },
      "execution_count": null,
      "outputs": []
    },
    {
      "cell_type": "markdown",
      "source": [
        "**Q1**: What will the followign code print out?\n",
        "\n",
        "```python\n",
        "x = 30\n",
        "if x > 50:\n",
        "  print(\"A\")\n",
        "elif x > 40:\n",
        " print(\"B\")\n",
        "elif x > 30:\n",
        " print(\"C\")\n",
        "else:\n",
        " print(\"D\")\n",
        "```"
      ],
      "metadata": {
        "id": "T1zfrpNPXRYB"
      }
    },
    {
      "cell_type": "code",
      "execution_count": null,
      "metadata": {
        "id": "_e1s1KJtXGLp"
      },
      "outputs": [],
      "source": [
        "D"
      ]
    },
    {
      "cell_type": "markdown",
      "source": [
        "**Q2**: What will the following code print out?\n",
        "```python\n",
        "x = 5\n",
        "y = 7\n",
        "z = 10\n",
        "print(f\"{x > z}, {z < y}, {x*2 == (y+z)}, {(x+z) != (1+y*2)}\")\n",
        "```"
      ],
      "metadata": {
        "id": "CJSOPiJrXdNm"
      }
    },
    {
      "cell_type": "code",
      "source": [
        "False, False, False, False"
      ],
      "metadata": {
        "id": "ij6j1Kk4XeJz"
      },
      "execution_count": null,
      "outputs": []
    },
    {
      "cell_type": "markdown",
      "source": [
        "**Q3**: What will the following code print out?\n",
        "```python\n",
        "value = 52\n",
        "if value > 45:\n",
        "  print(\"First\", end='')\n",
        "if value > 40:\n",
        "  print(\"Second\", end='')\n",
        "if value > 35:\n",
        "  print(\"Third\", end='')\n",
        "else:\n",
        "  print(\"Fourth\", end='')\n",
        "```"
      ],
      "metadata": {
        "id": "Gl4uPGohYJup"
      }
    },
    {
      "cell_type": "code",
      "source": [
        "FirstSecondThird"
      ],
      "metadata": {
        "id": "UceP89SojrnI"
      },
      "execution_count": null,
      "outputs": []
    },
    {
      "cell_type": "markdown",
      "source": [
        "**Q4**: What will the following code print out?\n",
        "```python\n",
        "name = 'Alice'\n",
        "value = 10\n",
        "if name == 'Anna':\n",
        "  print('Hello', end = ',')\n",
        "  if value > 20:\n",
        "    print('Big')\n",
        "  else:\n",
        "    print('Small')\n",
        "else:\n",
        "  print('Hi', end = ':')\n",
        "  if value < 15:\n",
        "    print('Yes')\n",
        "  else:\n",
        "    print('NO')\n",
        "```"
      ],
      "metadata": {
        "id": "0_3v-afsICZD"
      }
    },
    {
      "cell_type": "code",
      "source": [
        "Hi:Yes"
      ],
      "metadata": {
        "id": "t0b8OFF8YLC2"
      },
      "execution_count": null,
      "outputs": []
    },
    {
      "cell_type": "markdown",
      "source": [
        "**Q5**: Fill in the code (`_`) below with a boolean operator so that the program will output False."
      ],
      "metadata": {
        "id": "cIb52Y_sYLj0"
      }
    },
    {
      "cell_type": "code",
      "source": [
        "x = 20\n",
        "y = 30\n",
        "truth_value = (x != y) and (x == y) # Here\n",
        "print(truth_value)"
      ],
      "metadata": {
        "id": "AZXQpD4dYg5T",
        "outputId": "cbb461d8-96b2-409e-d3f7-1803590df418",
        "colab": {
          "base_uri": "https://localhost:8080/"
        }
      },
      "execution_count": null,
      "outputs": [
        {
          "output_type": "stream",
          "name": "stdout",
          "text": [
            "False\n"
          ]
        }
      ]
    },
    {
      "cell_type": "markdown",
      "source": [
        "**Q6**: Fill in the code below so that the program will output 'Second'."
      ],
      "metadata": {
        "id": "XgA8Az3pYhYG"
      }
    },
    {
      "cell_type": "code",
      "source": [
        "num = 12     # fill in the value here\n",
        "if num < 10 or num > 15:\n",
        "  print('First')\n",
        "else:\n",
        "  if num % 2 == 0 and num <= 13:\n",
        "    print('Second')\n",
        "  else:\n",
        "    print('Third')"
      ],
      "metadata": {
        "id": "YULQFLM3Yhvj",
        "outputId": "9889c520-417a-4cca-adc2-ea54308f3526",
        "colab": {
          "base_uri": "https://localhost:8080/"
        }
      },
      "execution_count": null,
      "outputs": [
        {
          "output_type": "stream",
          "name": "stdout",
          "text": [
            "Second\n"
          ]
        }
      ]
    },
    {
      "cell_type": "markdown",
      "source": [
        "**Q7**: Date formatting\n",
        "\n",
        "เขียนโปรแกรมที่รับข้อมูล วัน (day), เดือน (month), ปี (year) และ format ('US', 'JP', 'TH') จาก user และ print วันเดือนปีตาม format ที่ได้มาดังต่อไปนี้\n",
        "\n",
        "- The 'US' format = Month Day Year.\n",
        "\n",
        "- The 'JP' format = Year Month Day.\n",
        "\n",
        "- The 'TH' format = Day Month Year.\n",
        "\n",
        "Input:\n",
        "- ตัวเลข, วัน\n",
        "- ตัวเลข, เดือน\n",
        "- ตัวเลข, ปี\n",
        "- string, format\n",
        "\n",
        "Output:\n",
        "- Date format ตามโจทย์บอก\n",
        "\n",
        "Example 1:\n",
        "```\n",
        ">Enter day: 1\n",
        ">Enter month: 10\n",
        ">Enter year: 2024\n",
        ">Enter format: US\n",
        "Month 10 Day 1 Year 2024\n",
        "```\n",
        "\n",
        "Example 2:\n",
        "```\n",
        ">Enter day: 1\n",
        ">Enter month: 10\n",
        ">Enter year: 2024\n",
        ">Enter format: JP\n",
        "Year 2024 Month 10 Day 1\n",
        "```\n",
        "\n",
        "Example 3:\n",
        "```\n",
        ">Enter day: 1\n",
        ">Enter month: 10\n",
        ">Enter year: 2024\n",
        ">Enter format: TH\n",
        "Day 1 Month 10 Year 2024\n",
        "```"
      ],
      "metadata": {
        "id": "Xux1iQ4saS6C"
      }
    },
    {
      "cell_type": "code",
      "source": [
        "day = input('Enter day: ')\n",
        "month = input('Enter month: ')\n",
        "year = input('Enter year: ')\n",
        "format = input('Enter format: ')\n",
        "\n",
        "# Check condition\n",
        "if format == 'US':\n",
        "  print(f'Month {month} Day {day} Year {year}')\n",
        "elif format == 'JP':\n",
        "  print(f'Year {year} Month {month} Day {day}')\n",
        "elif format == 'TH':\n",
        "  print(f'Day {day} Month {month} Year {year}')"
      ],
      "metadata": {
        "id": "Yfgizp6faUr_"
      },
      "execution_count": null,
      "outputs": []
    },
    {
      "cell_type": "markdown",
      "source": [
        "**Q8**: Calculate BMI.\n",
        "\n",
        "เขียนโปรแกรมเพื่อคำนวณ Body Mass Index (BMI) และ บอกโหมดหมู่ของค่าที่ได้ ตามด้านล่างนี้:\n",
        "\n",
        "- Underweight: BMI < 18.5\n",
        "- Normal weight: 18.5 <= BMI < 25\n",
        "- Overweight: 25 <= BMI < 30\n",
        "- Obesity: BMI >= 30\n",
        "\n",
        "BMI = $\\frac{\\text{weight (kg)}}{\\text{(height (m))}^2}$\n",
        "\n",
        "Input:\n",
        "* จำนวนจริง, Weight in kg\n",
        "* จำนวนจริง, Height in meter.\n",
        "\n",
        "Output:\n",
        "* BMI ทศนิยมสองตำแหน่ง และ โหมดหมู่.\n",
        "\n",
        "Example\n",
        "```\n",
        ">Weight (kg): 70\n",
        ">Height (meter): 1.75\n",
        "Your BMI is 22.86.\n",
        "Normal weight.\n",
        "```\n"
      ],
      "metadata": {
        "id": "jyjwdToIZiZT"
      }
    },
    {
      "cell_type": "code",
      "source": [
        "weight = float(input('Weight (kg): '))\n",
        "height = float(input('Height (meter): '))\n",
        "BMI = weight/(height**2)\n",
        "print(f'Your BMI is {BMI:.2f}')\n",
        "\n",
        "if BMI < 18.5:\n",
        "  print('Underweight')\n",
        "elif BMI < 25:\n",
        "  print('Normal weight')\n",
        "elif BMI < 30:\n",
        "  print('Overweight')\n",
        "else:\n",
        "  print('Obesity')"
      ],
      "metadata": {
        "id": "LkH80xHPZiDx",
        "outputId": "4af6c6b7-3b1b-4dbd-c0af-d282e70ae4ff",
        "colab": {
          "base_uri": "https://localhost:8080/"
        }
      },
      "execution_count": null,
      "outputs": [
        {
          "output_type": "stream",
          "name": "stdout",
          "text": [
            "Weight (kg): 70\n",
            "Height (meter): 1.75\n",
            "Your BMI is 22.86\n",
            "Normal weight\n"
          ]
        }
      ]
    },
    {
      "cell_type": "markdown",
      "source": [
        "**Q9**: Cashier Program ver 2.\n",
        "\n",
        "เขียนโปรแกรมที่รับจำนวน สิ้นค้าที่ลูกค้าซื้อ\n",
        "\n",
        "สิ่งค้าที่มีคือ: Donut, Cupcake, และ Popcorn. Donut ราคา 10 บาทต่อชิ้น, Cupcake ราคา 20 บาทต่อชิ้น, และ Popcorn ราคา 40 บาทต่อชิ้น. คำนวนราคาของทั้งหมด และ คิดลดราคา ดังเงื่อนไขต่อไปนี้\n",
        "\n",
        "- ถ้าซื้อโดนัทอย่างน้อย 20 ชิ้นได้ลด 20% ของโดนัท (ลดเฉพาะโดนัทอย่างเดียว)\n",
        "- ถ้าซื้อคัพเค้กอย่างน้อย 10 ชิ้นได้ลด 10% ของคัพเค้ก (ลดเฉพาะคัพเค้กอย่างเดียว)\n",
        "\n",
        "หมายเหตุ: สามารถได้ลดราคาทั้งสองอัน\n",
        "\n",
        "**Input:**\n",
        "- The number of donut, cupcake, and popcorn.\n",
        "\n",
        "**Output:**\n",
        "- ราคาก่อนลด ทศนิยมสองตำแหน่ง\n",
        "- ราคาหลังลด ทศนิยมสองตำแหน่ง\n",
        "\n",
        "Example\n",
        "```\n",
        ">Enter the number of donut: 30\n",
        ">Enter the number of cupcake: 20\n",
        ">Enter the number of popcorn:  5\n",
        "The total payment befor discount is 900.00 baht.\n",
        "The payment after discount is 800.00 baht.\n",
        "```\n",
        "\n",
        "```\n",
        ">Enter the number of donut: 5\n",
        ">Enter the number of cupcake: 20\n",
        ">Enter the number of popcorn:  3\n",
        "The total payment befor discount is 570.00 baht.\n",
        "The payment after discount is 530.00 baht.\n",
        "```\n",
        "\n",
        "```\n",
        ">Enter the number of donut: 10\n",
        ">Enter the number of cupcake: 10\n",
        ">Enter the number of popcorn:  5\n",
        "The total payment befor discount is 500.00 baht.\n",
        "The payment after discount is 480.00 baht.\n",
        "```"
      ],
      "metadata": {
        "id": "lPbU2XafYqod"
      }
    },
    {
      "cell_type": "code",
      "source": [
        "# Named Constant\n",
        "PRICE_DONUT = 10\n",
        "PRICE_CUPCAKE = 20\n",
        "PRICE_POPCORN = 40\n",
        "DIS_DONUT = 0.8\n",
        "DIS_CUPCAKE = 0.9\n",
        "\n",
        "# input:\n",
        "n_donut = int(input('Enter the number of donut: '))\n",
        "n_cupcake = int(input('Enter the numbe of cupcake: '))\n",
        "n_popcorn = int(input('Enter the number of popcorn: '))\n",
        "\n",
        "# Calculate total\n",
        "total_before = n_donut*PRICE_DONUT + n_cupcake*PRICE_CUPCAKE + n_popcorn*PRICE_POPCORN\n",
        "print(f'The total payment before discount is {total_before:.2f} baht.')\n",
        "\n",
        "# เงื่อนไข ของ donut\n",
        "if n_donut >= 20:\n",
        "  total_donut = n_donut*PRICE_DONUT*DIS_DONUT\n",
        "else:\n",
        "  total_donut = n_donut*PRICE_DONUT\n",
        "\n",
        "# เงื่อนไข ของ cupcake\n",
        "if n_cupcake >= 10:\n",
        "  total_cupcake = n_cupcake*PRICE_CUPCAKE*DIS_CUPCAKE\n",
        "else:\n",
        "  total_cupcake = n_cupcake*PRICE_CUPCAKE\n",
        "\n",
        "print(f'The payment after discount is {total_donut + total_cupcake + n_popcorn*PRICE_POPCORN:.2f} baht.')"
      ],
      "metadata": {
        "id": "1lb3eHcfYr8L",
        "outputId": "d487ba11-8906-4501-8526-68fad2118da5",
        "colab": {
          "base_uri": "https://localhost:8080/"
        }
      },
      "execution_count": null,
      "outputs": [
        {
          "output_type": "stream",
          "name": "stdout",
          "text": [
            "Enter the number of donut: 30\n",
            "Enter the numbe of cupcake: 20\n",
            "Enter the number of popcorn: 5\n",
            "The total payment before discount is 900.00 baht.\n",
            "The payment after discount is 800.00 baht.\n"
          ]
        }
      ]
    },
    {
      "cell_type": "code",
      "source": [
        "# วิธีที่สอง ลดราคาออก\n",
        "# Named Constant\n",
        "PRICE_DONUT = 10\n",
        "PRICE_CUPCAKE = 20\n",
        "PRICE_POPCORN = 40\n",
        "DIS_DONUT = 0.2\n",
        "DIS_CUPCAKE = 0.1\n",
        "\n",
        "# input:\n",
        "n_donut = int(input('Enter the number of donut: '))\n",
        "n_cupcake = int(input('Enter the numbe of cupcake: '))\n",
        "n_popcorn = int(input('Enter the number of popcorn: '))\n",
        "\n",
        "# Calculate total\n",
        "total_before = n_donut*PRICE_DONUT + n_cupcake*PRICE_CUPCAKE + n_popcorn*PRICE_POPCORN\n",
        "total_after = total_before\n",
        "\n",
        "# เงื่อนไข ของ donut\n",
        "if n_donut >= 20:\n",
        "  total_after = total_after - (n_donut*PRICE_DONUT*DIS_DONUT)\n",
        "# เงื่อนไข ของ cupcale\n",
        "if n_cupcake >= 10:\n",
        "  total_after = total_after - (n_cupcake*PRICE_CUPCAKE*DIS_CUPCAKE)\n",
        "\n",
        "print(f'The total payment before discount is {total_before:.2f} baht.')\n",
        "print(f'The total payment before discount is {total_after:.2f} baht.')"
      ],
      "metadata": {
        "id": "NXAq8-F8keLY",
        "outputId": "9bf9d484-4324-448c-f84f-719d7ca245ef",
        "colab": {
          "base_uri": "https://localhost:8080/"
        }
      },
      "execution_count": null,
      "outputs": [
        {
          "output_type": "stream",
          "name": "stdout",
          "text": [
            "Enter the number of donut: 30\n",
            "Enter the numbe of cupcake: 20\n",
            "Enter the number of popcorn: 5\n",
            "The total payment before discount is 900.00 baht.\n",
            "The total payment before discount is 800.00 baht.\n"
          ]
        }
      ]
    },
    {
      "cell_type": "markdown",
      "source": [
        "\n",
        "**Q10**: Let's make milk puddings\n",
        "\n",
        "ข้อนี้เราจะเขียนโปรแกรม shopping เราจะซื้อไข่กับนมมาทำพุดดิ้ง ในการทำพุดดิ้งอันใหญ่หนึ่งอัน จะต้องใช้ ไข่ 10 ฟองและนม 3 ขวด. โปรแกรมจะรับข้อมูลดังต่อไปนี้: ราคาไข่, ราคานม, และ จำนวนพุดดิ้งที่ต้องการทำ.\n",
        "\n",
        "ถ้าซื้อเยอะจะได้ลดราคาดังต่อไปนี้\n",
        "- ถ้าซื้อไข่อย่างน้อย 30 ฟอง จะได้ลด 20% ของไข่\n",
        "- ถ้าซื้อนมอย่างร้อย 20 ขวด จะได้ลด 10% ของนม\n",
        "\n",
        "แสดงผลราคา ก่อนและหลังลด\n",
        "\n",
        "**input**\n",
        "* ราคาไข่\n",
        "* ราคานม\n",
        "* จำนวนพุดดิ้งที่ต้องการทำ\n",
        "\n",
        "**Output**\n",
        "* ราคาทั้งหมดก่อนลด ทศนิยมสองตำแหน่ง\n",
        "* ราคาหลังลด ทศนิยมสองตำแหน่ง\n",
        "\n",
        "**Note**\n",
        "* Use Named Constant\n",
        "\n",
        "Examples\n",
        "```\n",
        "Enter the price of an egg: 5\n",
        "Enter the price of milk: 20\n",
        "Enter the number of pudding to be made: 10\n",
        "The original cost is 1100.00\n",
        "The discounted cost is 940.00\n",
        "```\n",
        "\n",
        "```\n",
        "Enter the price of an egg: 10\n",
        "Enter the price of milk: 20\n",
        "Enter the number of pudding to be made: 2\n",
        "The original cost is 320.00\n",
        "The discounted cost is 320.00\n",
        "```\n",
        "\n",
        "```\n",
        "Enter the price of an egg: 10\n",
        "Enter the price of milk: 30\n",
        "Enter the number of pudding to be made: 20\n",
        "The original cost is 3800.00\n",
        "The discounted cost is 3220.00\n",
        "```"
      ],
      "metadata": {
        "id": "U_kuhGDIcHUc"
      }
    },
    {
      "cell_type": "code",
      "source": [
        "N_EGG_PP = 10\n",
        "N_MILK_PP = 3\n",
        "\n",
        "p_egg = float(input('Enter the price of an egg: '))\n",
        "p_milk = float(input('Enter the price of milk: '))\n",
        "n_pudding = int(input('Enter the number of pudding to be made: '))\n",
        "\n",
        "n_egg = n_pudding*N_EGG_PP\n",
        "n_milk = n_pudding*N_MILK_PP\n",
        "\n",
        "total_egg = n_egg * p_egg\n",
        "total_milk = n_milk * p_milk\n",
        "print(f'The original cost is {total_egg + total_milk:.2f}')\n",
        "\n",
        "# เช็คลดราคา\n",
        "if total_egg >= 30:\n",
        "  total_egg = total_egg*0.8\n",
        "if total_milk >= 20:\n",
        "  total_milk = total_milk*0.9\n",
        "\n",
        "print(f'The discounted cost is {total_egg + total_milk:.2f}')"
      ],
      "metadata": {
        "id": "aarVs67ScHjK",
        "outputId": "fc6815dc-0245-4ed1-ab02-4659e618b882",
        "colab": {
          "base_uri": "https://localhost:8080/"
        }
      },
      "execution_count": null,
      "outputs": [
        {
          "output_type": "stream",
          "name": "stdout",
          "text": [
            "Enter the price of an egg: 10\n",
            "Enter the price of milk: 30\n",
            "Enter the number of pudding to be made: 20\n",
            "The original cost is 3800.00\n",
            "The discounted cost is 3220.00\n"
          ]
        }
      ]
    },
    {
      "cell_type": "markdown",
      "source": [
        "## การส่ง\n",
        "- File -> Download -> Download .ipynb\n",
        "- Upload to MS Teams"
      ],
      "metadata": {
        "id": "CU_1ZNDFFSHO"
      }
    }
  ]
}
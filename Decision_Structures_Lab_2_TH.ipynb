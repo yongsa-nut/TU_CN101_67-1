{
  "nbformat": 4,
  "nbformat_minor": 0,
  "metadata": {
    "colab": {
      "provenance": [],
      "authorship_tag": "ABX9TyMfPmn3R/VwYh/K+XdbqZd4",
      "include_colab_link": true
    },
    "kernelspec": {
      "name": "python3",
      "display_name": "Python 3"
    },
    "language_info": {
      "name": "python"
    }
  },
  "cells": [
    {
      "cell_type": "markdown",
      "metadata": {
        "id": "view-in-github",
        "colab_type": "text"
      },
      "source": [
        "<a href=\"https://colab.research.google.com/github/yongsa-nut/TU_CN101_67-1/blob/main/Decision_Structures_Lab_2_TH.ipynb\" target=\"_parent\"><img src=\"https://colab.research.google.com/assets/colab-badge.svg\" alt=\"Open In Colab\"/></a>"
      ]
    },
    {
      "cell_type": "markdown",
      "source": [
        "# Decision Structure Lab 2"
      ],
      "metadata": {
        "id": "Moi118BTgo4B"
      }
    },
    {
      "cell_type": "markdown",
      "source": [
        "เขียน ชื่อ นามสกุล และ id ในช่องด้านล่าง"
      ],
      "metadata": {
        "id": "DgjM2cJtgrXf"
      }
    },
    {
      "cell_type": "code",
      "source": [],
      "metadata": {
        "id": "wfTCCPBaguX_"
      },
      "execution_count": null,
      "outputs": []
    },
    {
      "cell_type": "markdown",
      "source": [
        "**Q1**: What will the followign code print out?\n",
        "\n",
        "```python\n",
        "x = 30\n",
        "if x > 50:\n",
        "  print(\"A\")\n",
        "elif x > 40:\n",
        " print(\"B\")\n",
        "elif x > 30:\n",
        " print(\"C\")\n",
        "else:\n",
        " print(\"D\")\n",
        "```"
      ],
      "metadata": {
        "id": "T1zfrpNPXRYB"
      }
    },
    {
      "cell_type": "code",
      "execution_count": null,
      "metadata": {
        "id": "_e1s1KJtXGLp"
      },
      "outputs": [],
      "source": []
    },
    {
      "cell_type": "markdown",
      "source": [
        "**Q2**: What will the following code print out?\n",
        "```python\n",
        "x = 5\n",
        "y = 7\n",
        "z = 10\n",
        "print(f\"{x > z}, {z < y}, {x*2 == (y+z)}, {(x+z) != (1+y*2)}\")\n",
        "```"
      ],
      "metadata": {
        "id": "CJSOPiJrXdNm"
      }
    },
    {
      "cell_type": "code",
      "source": [],
      "metadata": {
        "id": "ij6j1Kk4XeJz"
      },
      "execution_count": null,
      "outputs": []
    },
    {
      "cell_type": "markdown",
      "source": [
        "**Q3**: What will the following code print out?\n",
        "```python\n",
        "value = 52\n",
        "if value > 45:\n",
        "  print(\"First\", end='')\n",
        "if value > 40:\n",
        "  print(\"Second\", end='')\n",
        "if value > 35:\n",
        "  print(\"Third\", end='')\n",
        "else:\n",
        "  print(\"Fourth\", end='')\n",
        "```"
      ],
      "metadata": {
        "id": "Gl4uPGohYJup"
      }
    },
    {
      "cell_type": "code",
      "source": [],
      "metadata": {
        "id": "UceP89SojrnI"
      },
      "execution_count": null,
      "outputs": []
    },
    {
      "cell_type": "markdown",
      "source": [
        "**Q4**: What will the following code print out?\n",
        "```python\n",
        "name = 'Alice'\n",
        "value = 10\n",
        "if name == 'Anna':\n",
        "  print('Hello', end = ',')\n",
        "  if value > 20:\n",
        "    print('Big')\n",
        "  else:\n",
        "    print('Small')\n",
        "else:\n",
        "  print('Hi', end = ':')\n",
        "  if value < 15:\n",
        "    print('Yes')\n",
        "  else:\n",
        "    print('NO')\n",
        "```"
      ],
      "metadata": {
        "id": "0_3v-afsICZD"
      }
    },
    {
      "cell_type": "code",
      "source": [],
      "metadata": {
        "id": "t0b8OFF8YLC2"
      },
      "execution_count": null,
      "outputs": []
    },
    {
      "cell_type": "markdown",
      "source": [
        "**Q5**: Fill in the code (`_`) below with a boolean operator so that the program will output False."
      ],
      "metadata": {
        "id": "cIb52Y_sYLj0"
      }
    },
    {
      "cell_type": "code",
      "source": [
        "x = 20\n",
        "y = 30\n",
        "truth_value = (x != y) _ (x == y) # Here\n",
        "print(truth_value)"
      ],
      "metadata": {
        "id": "AZXQpD4dYg5T"
      },
      "execution_count": null,
      "outputs": []
    },
    {
      "cell_type": "markdown",
      "source": [
        "**Q6**: Fill in the code below so that the program will output 'Second'."
      ],
      "metadata": {
        "id": "XgA8Az3pYhYG"
      }
    },
    {
      "cell_type": "code",
      "source": [
        "num =      # fill in the value here\n",
        "if num < 10 or num > 15:\n",
        "  print('First')\n",
        "else:\n",
        "  if num % 2 == 0 and num <= 13:\n",
        "    print('Second')\n",
        "  else:\n",
        "    print('Third')"
      ],
      "metadata": {
        "id": "YULQFLM3Yhvj"
      },
      "execution_count": null,
      "outputs": []
    },
    {
      "cell_type": "markdown",
      "source": [
        "**Q7**: Date formatting\n",
        "\n",
        "เขียนโปรแกรมที่รับข้อมูล วัน (day), เดือน (month), ปี (year) และ format ('US', 'JP', 'TH') จาก user และ print วันเดือนปีตาม format ที่ได้มาดังต่อไปนี้\n",
        "\n",
        "- The 'US' format = Month Day Year.\n",
        "\n",
        "- The 'JP' format = Year Month Day.\n",
        "\n",
        "- The 'TH' format = Day Month Year.\n",
        "\n",
        "Input:\n",
        "- ตัวเลข, วัน\n",
        "- ตัวเลข, เดือน\n",
        "- ตัวเลข, ปี\n",
        "- string, format\n",
        "\n",
        "Output:\n",
        "- Date format ตามโจทย์บอก\n",
        "\n",
        "Example 1:\n",
        "```\n",
        ">Enter day: 1\n",
        ">Enter month: 10\n",
        ">Enter year: 2024\n",
        ">Enter format: US\n",
        "Month 10 Day 1 Year 2024\n",
        "```\n",
        "\n",
        "Example 2:\n",
        "```\n",
        ">Enter day: 1\n",
        ">Enter month: 10\n",
        ">Enter year: 2024\n",
        ">Enter format: JP\n",
        "Year 2024 Month 10 Day 1\n",
        "```\n",
        "\n",
        "Example 3:\n",
        "```\n",
        ">Enter day: 1\n",
        ">Enter month: 10\n",
        ">Enter year: 2024\n",
        ">Enter format: TH\n",
        "Day 1 Month 10 Year 2024\n",
        "```"
      ],
      "metadata": {
        "id": "Xux1iQ4saS6C"
      }
    },
    {
      "cell_type": "code",
      "source": [],
      "metadata": {
        "id": "Yfgizp6faUr_"
      },
      "execution_count": null,
      "outputs": []
    },
    {
      "cell_type": "markdown",
      "source": [
        "**Q8**: Calculate BMI.\n",
        "\n",
        "เขียนโปรแกรมเพื่อคำนวณ Body Mass Index (BMI) และ บอกโหมดหมู่ของค่าที่ได้ ตามด้านล่างนี้:\n",
        "\n",
        "- Underweight: BMI < 18.5\n",
        "- Normal weight: 18.5 <= BMI < 25\n",
        "- Overweight: 25 <= BMI < 30\n",
        "- Obesity: BMI >= 30\n",
        "\n",
        "BMI = $\\frac{\\text{weight (kg)}}{\\text{(height (m))}^2}$\n",
        "\n",
        "Input:\n",
        "* จำนวนจริง, Weight in kg\n",
        "* จำนวนจริง, Height in meter.\n",
        "\n",
        "Output:\n",
        "* BMI ทศนิยมสองตำแหน่ง และ โหมดหมู่.\n",
        "\n",
        "Example\n",
        "```\n",
        ">Weight (kg): 70\n",
        ">Height (meter): 1.75\n",
        "Your BMI is 22.86.\n",
        "Normal weight.\n",
        "```\n"
      ],
      "metadata": {
        "id": "jyjwdToIZiZT"
      }
    },
    {
      "cell_type": "code",
      "source": [],
      "metadata": {
        "id": "LkH80xHPZiDx"
      },
      "execution_count": null,
      "outputs": []
    },
    {
      "cell_type": "markdown",
      "source": [
        "**Q9**: Cashier Program ver 2.\n",
        "\n",
        "เขียนโปรแกรมที่รับจำนวน สิ้นค้าที่ลูกค้าซื้อ\n",
        "\n",
        "สิ่งค้าที่มีคือ: Donut, Cupcake, และ Popcorn. Donut ราคา 10 บาทต่อชิ้น, Cupcake ราคา 20 บาทต่อชิ้น, และ Popcorn ราคา 40 บาทต่อชิ้น. คำนวนราคาของทั้งหมด และ คิดลดราคา ดังเงื่อนไขต่อไปนี้\n",
        "\n",
        "- ถ้าซื้อโดนัทอย่างน้อย 20 ชิ้นได้ลด 20% ของโดนัท (ลดเฉพาะโดนัทอย่างเดียว)\n",
        "- ถ้าซื้อคัพเค้กอย่างน้อย 10 ชิ้นได้ลด 10% ของคัพเค้ก (ลดเฉพาะคัพเค้กอย่างเดียว)\n",
        "\n",
        "หมายเหตุ: สามารถได้ลดราคาทั้งสองอัน\n",
        "\n",
        "**Input:**\n",
        "- The number of donut, cupcake, and popcorn.\n",
        "\n",
        "**Output:**\n",
        "- ราคาก่อนลด ทศนิยมสองตำแหน่ง\n",
        "- ราคาหลังลด ทศนิยมสองตำแหน่ง\n",
        "\n",
        "Example\n",
        "```\n",
        ">Enter the number of donut: 30\n",
        ">Enter the number of cupcake: 20\n",
        ">Enter the number of popcorn:  5\n",
        "The total payment befor discount is 900.00 baht.\n",
        "The payment after discount is 800.00 baht.\n",
        "```\n",
        "\n",
        "```\n",
        ">Enter the number of donut: 5\n",
        ">Enter the number of cupcake: 20\n",
        ">Enter the number of popcorn:  3\n",
        "The total payment befor discount is 570.00 baht.\n",
        "The payment after discount is 530.00 baht.\n",
        "```\n",
        "\n",
        "```\n",
        ">Enter the number of donut: 10\n",
        ">Enter the number of cupcake: 10\n",
        ">Enter the number of popcorn:  5\n",
        "The total payment befor discount is 500.00 baht.\n",
        "The payment after discount is 480.00 baht.\n",
        "```"
      ],
      "metadata": {
        "id": "lPbU2XafYqod"
      }
    },
    {
      "cell_type": "code",
      "source": [
        "\n"
      ],
      "metadata": {
        "id": "1lb3eHcfYr8L"
      },
      "execution_count": null,
      "outputs": []
    },
    {
      "cell_type": "markdown",
      "source": [
        "**Q10**: Let's make milk puddings\n",
        "\n",
        "ข้อนี้เราจะเขียนโปรแกรม shopping เราจะซื้อไข่กับนมมาทำพุดดิ้ง ในการทำพุดดิ้งอันใหญ่หนึ่งอัน จะต้องใช้ ไข่ 10 ฟองและนม 3 ขวด. โปรแกรมจะรับข้อมูลดังต่อไปนี้: ราคาไข่, ราคานม, และ จำนวนพุดดิ้งที่ต้องการทำ.\n",
        "\n",
        "ถ้าซื้อเยอะจะได้ลดราคาดังต่อไปนี้\n",
        "- ถ้าซื้อไข่อย่างน้อย 30 ฟอง จะได้ลด 20% ของไข่\n",
        "- ถ้าซื้อนมอย่างร้อย 20 ขวด จะได้ลด 10% ของนม\n",
        "\n",
        "แสดงผลราคา ก่อนและหลังลด\n",
        "\n",
        "**input**\n",
        "* ราคาไข่\n",
        "* ราคานม\n",
        "* จำนวนพุดดิ้งที่ต้องการทำ\n",
        "\n",
        "**Output**\n",
        "* ราคาทั้งหมดก่อนลด ทศนิยมสองตำแหน่ง\n",
        "* ราคาหลังลด ทศนิยมสองตำแหน่ง\n",
        "\n",
        "**Note**\n",
        "* Use Named Constant\n",
        "\n",
        "Examples\n",
        "```\n",
        "Enter the price of an egg: 5\n",
        "Enter the price of milk: 20\n",
        "Enter the number of pudding to be made: 10\n",
        "The original cost is 1100.00\n",
        "The discounted cost is 940.00\n",
        "```\n",
        "\n",
        "```\n",
        "Enter the price of an egg: 10\n",
        "Enter the price of milk: 20\n",
        "Enter the number of pudding to be made: 2\n",
        "The original cost is 320.00\n",
        "The discounted cost is 320.00\n",
        "```\n",
        "\n",
        "```\n",
        "Enter the price of an egg: 10\n",
        "Enter the price of milk: 30\n",
        "Enter the number of pudding to be made: 20\n",
        "The original cost is 3800.00\n",
        "The discounted cost is 3220.00\n",
        "```"
      ],
      "metadata": {
        "id": "U_kuhGDIcHUc"
      }
    },
    {
      "cell_type": "code",
      "source": [],
      "metadata": {
        "id": "aarVs67ScHjK"
      },
      "execution_count": null,
      "outputs": []
    },
    {
      "cell_type": "markdown",
      "source": [
        "## การส่ง\n",
        "- File -> Download -> Download .ipynb\n",
        "- Upload to MS Teams"
      ],
      "metadata": {
        "id": "CU_1ZNDFFSHO"
      }
    }
  ]
}
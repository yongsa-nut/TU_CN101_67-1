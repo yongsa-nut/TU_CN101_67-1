{
  "nbformat": 4,
  "nbformat_minor": 0,
  "metadata": {
    "colab": {
      "provenance": [],
      "authorship_tag": "ABX9TyOG1jIfB/B1e/lwr+HhdJPD",
      "include_colab_link": true
    },
    "kernelspec": {
      "name": "python3",
      "display_name": "Python 3"
    },
    "language_info": {
      "name": "python"
    }
  },
  "cells": [
    {
      "cell_type": "markdown",
      "metadata": {
        "id": "view-in-github",
        "colab_type": "text"
      },
      "source": [
        "<a href=\"https://colab.research.google.com/github/yongsa-nut/TU_CN101_67-1/blob/main/Chapter_7_Strings.ipynb\" target=\"_parent\"><img src=\"https://colab.research.google.com/assets/colab-badge.svg\" alt=\"Open In Colab\"/></a>"
      ]
    },
    {
      "cell_type": "markdown",
      "source": [
        "# Chapter 7 Strings\n",
        "\n",
        "https://github.com/yongsa-nut/TU_Intro_Prog/"
      ],
      "metadata": {
        "id": "PEDrdsNuX4m8"
      }
    },
    {
      "cell_type": "markdown",
      "source": [
        "## Basic String Operations\n",
        "\n",
        "* Many types of programs perform operations on strings\n",
        "\n",
        "* Many tools for examining and manipulating strings\n",
        "\n",
        "* Strings are sequences, so many of the tools that work with sequences work\n",
        "with strings\n",
        "\n",
        "* Display the character by using $\\texttt{print()}$ function\n",
        "\n",
        "* Assigning a string into a variable can be done by quotes.\n",
        "\n",
        "\n"
      ],
      "metadata": {
        "id": "XX4h7nAbZCFS"
      }
    },
    {
      "cell_type": "markdown",
      "source": [
        "## Accessing the Individual Characters in a String\n",
        "\n",
        "* Use $\\texttt{for}$ loop to access an individual character in a string\n",
        "  * Format: $\\texttt{for char in string:}$\n",
        "  * Useful when need to iterate over the whole string, such as to count <br> the occurrences of a specific character"
      ],
      "metadata": {
        "id": "ZfidEkv2ZggH"
      }
    },
    {
      "cell_type": "code",
      "execution_count": 1,
      "metadata": {
        "id": "DQVZJg-LXZhb",
        "colab": {
          "base_uri": "https://localhost:8080/"
        },
        "outputId": "5aad4cae-25c1-4e2e-f780-ee9a4655ec64"
      },
      "outputs": [
        {
          "output_type": "stream",
          "name": "stdout",
          "text": [
            "J\n",
            "u\n",
            "l\n",
            "i\n",
            "e\n",
            "t\n"
          ]
        }
      ],
      "source": [
        "name = \"Juliet\"\n",
        "\n",
        "for char in name:\n",
        "  print(char)"
      ]
    },
    {
      "cell_type": "code",
      "source": [
        "# counts the number of times the target letter appears in a string\n",
        "\n",
        "TARGET = \"T\"\n",
        "\n",
        "my_string = input(\"Enter a sentence:\")\n",
        "\n",
        "count = 0\n",
        "for ch in my_string:\n",
        "  if ch == TARGET:\n",
        "    count += 1\n",
        "\n",
        "print(f\"The letter {TARGET} appears {count} times.\")"
      ],
      "metadata": {
        "id": "MD3Yb97ddB7K",
        "colab": {
          "base_uri": "https://localhost:8080/"
        },
        "outputId": "25644126-01b3-4f0f-a8c2-7b862bca5d8d"
      },
      "execution_count": 2,
      "outputs": [
        {
          "output_type": "stream",
          "name": "stdout",
          "text": [
            "Enter a sentence:Hello There TT\n",
            "The letter T appears 3 times.\n"
          ]
        }
      ]
    },
    {
      "cell_type": "markdown",
      "source": [
        "## Accessing the Individual Characters in a String\n",
        "\n",
        "* Use **indexing** to access an individual character in a string:\n",
        "\n",
        " * Each character has an index specifying its position in the string, starting at 0\n",
        "\n",
        " * Format: $\\texttt{character = my_string[i]}$\n",
        "\n",
        " * $\\texttt{IndexError}$ exception will occur, if you try to access an index that <br> is out of range for the string\n",
        "\n",
        "\n"
      ],
      "metadata": {
        "id": "9UHBM4Atdg-J"
      }
    },
    {
      "cell_type": "code",
      "source": [
        "my_string = \"Roses are red\"\n",
        "ch = my_string[6]\n",
        "print(ch)"
      ],
      "metadata": {
        "id": "0oBfNbGMdvB1",
        "colab": {
          "base_uri": "https://localhost:8080/"
        },
        "outputId": "a8764c83-e443-4fd8-c981-d51160459b7c"
      },
      "execution_count": 3,
      "outputs": [
        {
          "output_type": "stream",
          "name": "stdout",
          "text": [
            "a\n"
          ]
        }
      ]
    },
    {
      "cell_type": "code",
      "source": [
        "my_string[20] # index error"
      ],
      "metadata": {
        "id": "2eBbYk1xeTuH",
        "colab": {
          "base_uri": "https://localhost:8080/",
          "height": 141
        },
        "outputId": "f16b3431-0f94-4b22-da59-02f2eb2b41ab"
      },
      "execution_count": 4,
      "outputs": [
        {
          "output_type": "error",
          "ename": "IndexError",
          "evalue": "string index out of range",
          "traceback": [
            "\u001b[0;31m---------------------------------------------------------------------------\u001b[0m",
            "\u001b[0;31mIndexError\u001b[0m                                Traceback (most recent call last)",
            "\u001b[0;32m<ipython-input-4-b62920dd800e>\u001b[0m in \u001b[0;36m<cell line: 1>\u001b[0;34m()\u001b[0m\n\u001b[0;32m----> 1\u001b[0;31m \u001b[0mmy_string\u001b[0m\u001b[0;34m[\u001b[0m\u001b[0;36m20\u001b[0m\u001b[0;34m]\u001b[0m \u001b[0;31m# index error\u001b[0m\u001b[0;34m\u001b[0m\u001b[0;34m\u001b[0m\u001b[0m\n\u001b[0m",
            "\u001b[0;31mIndexError\u001b[0m: string index out of range"
          ]
        }
      ]
    },
    {
      "cell_type": "markdown",
      "source": [
        "## $\\texttt{len}$ to check string's length\n",
        "* $\\texttt{len(string)}$ function can be used to obtain the length of a string"
      ],
      "metadata": {
        "id": "hRqpPTErd9K1"
      }
    },
    {
      "cell_type": "code",
      "source": [
        "my_string = \"Roses are red\"\n",
        "print(len(my_string))"
      ],
      "metadata": {
        "id": "tkIAqy5Xg0Hp",
        "colab": {
          "base_uri": "https://localhost:8080/"
        },
        "outputId": "8eeb830e-8a4f-44c1-e87f-0152c5e83a12"
      },
      "execution_count": 5,
      "outputs": [
        {
          "output_type": "stream",
          "name": "stdout",
          "text": [
            "13\n"
          ]
        }
      ]
    },
    {
      "cell_type": "markdown",
      "source": [
        "String Concatenation $\\texttt{+}$\n",
        "\n",
        "* Concatenation: appending one string to the end of another string\n",
        "\n",
        "* Use the $\\texttt{+}$ operator to produce a string that is a combination of its operands\n",
        "\n",
        "* The augmented assignment operator $\\texttt{+=}$ can also be used to concatenate strings\n"
      ],
      "metadata": {
        "id": "okD-w6Jxg6tc"
      }
    },
    {
      "cell_type": "code",
      "source": [
        "# concat ex1\n",
        "first_name = \"Emily\"\n",
        "last_name  = \"Yeager\"\n",
        "full_name = first_name + last_name\n",
        "print(full_name)"
      ],
      "metadata": {
        "id": "k8qa5PS_hK9P",
        "colab": {
          "base_uri": "https://localhost:8080/"
        },
        "outputId": "56dc5fe6-fb11-4f28-e74a-37ab8879dbd6"
      },
      "execution_count": 6,
      "outputs": [
        {
          "output_type": "stream",
          "name": "stdout",
          "text": [
            "EmilyYeager\n"
          ]
        }
      ]
    },
    {
      "cell_type": "code",
      "source": [
        "# concat ex2\n",
        "letters = \"abc\"\n",
        "letters += \"def\"\n",
        "print(letters)"
      ],
      "metadata": {
        "id": "wc8-zSu7hS8C",
        "colab": {
          "base_uri": "https://localhost:8080/"
        },
        "outputId": "9628edf9-c76c-4199-da44-5bd0028c2936"
      },
      "execution_count": 7,
      "outputs": [
        {
          "output_type": "stream",
          "name": "stdout",
          "text": [
            "abcdef\n"
          ]
        }
      ]
    },
    {
      "cell_type": "markdown",
      "source": [
        "## Strings are immutable!\n",
        "\n",
        "* Strings are immutable\n",
        "\n",
        "* Once they are created, they cannot be changed\n",
        "\n",
        "* Concatenation doesn’t actually change the existing string, but rather <br> creates a new string and assigns the new string to the previously used variable.\n",
        "\n",
        "* Cannot use an expression of the form $\\texttt{string[index] = new_character}$\n",
        "  * Statement of this type will raise an exception"
      ],
      "metadata": {
        "id": "6P09Ft5JhaAA"
      }
    },
    {
      "cell_type": "code",
      "source": [
        "my_text = \"this is a cat.\"\n",
        "my_text[0] = \"T\""
      ],
      "metadata": {
        "id": "yNnClEfohu7I",
        "colab": {
          "base_uri": "https://localhost:8080/",
          "height": 159
        },
        "outputId": "5a8bcfa0-18d9-4d93-b35f-8331802ca8c1"
      },
      "execution_count": 8,
      "outputs": [
        {
          "output_type": "error",
          "ename": "TypeError",
          "evalue": "'str' object does not support item assignment",
          "traceback": [
            "\u001b[0;31m---------------------------------------------------------------------------\u001b[0m",
            "\u001b[0;31mTypeError\u001b[0m                                 Traceback (most recent call last)",
            "\u001b[0;32m<ipython-input-8-481801d347b0>\u001b[0m in \u001b[0;36m<cell line: 2>\u001b[0;34m()\u001b[0m\n\u001b[1;32m      1\u001b[0m \u001b[0mmy_text\u001b[0m \u001b[0;34m=\u001b[0m \u001b[0;34m\"this is a cat.\"\u001b[0m\u001b[0;34m\u001b[0m\u001b[0;34m\u001b[0m\u001b[0m\n\u001b[0;32m----> 2\u001b[0;31m \u001b[0mmy_text\u001b[0m\u001b[0;34m[\u001b[0m\u001b[0;36m0\u001b[0m\u001b[0;34m]\u001b[0m \u001b[0;34m=\u001b[0m \u001b[0;34m\"T\"\u001b[0m\u001b[0;34m\u001b[0m\u001b[0;34m\u001b[0m\u001b[0m\n\u001b[0m",
            "\u001b[0;31mTypeError\u001b[0m: 'str' object does not support item assignment"
          ]
        }
      ]
    },
    {
      "cell_type": "markdown",
      "source": [
        "## String Slicing\n",
        "* **Slice**: span of items taken from a sequence, known as substring\n",
        "\n",
        "* Slicing format: $\\texttt{string[start : end: step]}$\n",
        "\n",
        "  * Expression will return a string containing a copy of the characters from start up to, but not including, end\n",
        "\n",
        "  * If start is not specified, $\\texttt{0}$ is used for start index\n",
        "\n",
        "  * If end is not specified, $\\texttt{len(string)}$ is used for end index\n",
        "  \n",
        "  * If step is not specified, $\\texttt{1}$ is used for step value\n",
        "\n",
        "  * Negative indexes count from the end of string\n",
        "\n"
      ],
      "metadata": {
        "id": "W_zZzQC8h3Xr"
      }
    },
    {
      "cell_type": "code",
      "source": [
        "# Slicing Example\n",
        "full_name = \"Patty Lynn Smith\"\n",
        "\n",
        "middle_name = full_name[6:10]\n",
        "print(middle_name)\n",
        "\n",
        "first_name = full_name[:5]\n",
        "print(first_name)\n",
        "\n",
        "last_name = full_name[11:]\n",
        "print(last_name)"
      ],
      "metadata": {
        "id": "nj-LRt6iidhZ",
        "colab": {
          "base_uri": "https://localhost:8080/"
        },
        "outputId": "103d3864-585b-4dcf-be36-7728a562effc"
      },
      "execution_count": 9,
      "outputs": [
        {
          "output_type": "stream",
          "name": "stdout",
          "text": [
            "Lynn\n",
            "Patty\n",
            "Smith\n"
          ]
        }
      ]
    },
    {
      "cell_type": "code",
      "source": [
        "full_name = \"Patty Lynn Smith\"\n",
        "\n",
        "last_name = full_name[-5:]\n",
        "print(last_name)\n",
        "\n",
        "my_string = full_name[:]\n",
        "print(my_string)"
      ],
      "metadata": {
        "id": "u1ou5TbjixXt",
        "colab": {
          "base_uri": "https://localhost:8080/"
        },
        "outputId": "91eed2a6-afa4-4834-f3d8-e8c0de256c68"
      },
      "execution_count": 10,
      "outputs": [
        {
          "output_type": "stream",
          "name": "stdout",
          "text": [
            "Smith\n",
            "Patty Lynn Smith\n"
          ]
        }
      ]
    },
    {
      "cell_type": "code",
      "source": [
        "letters = \"ABCDEFGHIJKLMNOPQRSTUVWXYZ\"\n",
        "\n",
        "print(letters[0:26:2])"
      ],
      "metadata": {
        "id": "EEUTilJVi8sn",
        "colab": {
          "base_uri": "https://localhost:8080/"
        },
        "outputId": "9b94cfc1-15c2-4548-ae62-9ec806e19644"
      },
      "execution_count": 11,
      "outputs": [
        {
          "output_type": "stream",
          "name": "stdout",
          "text": [
            "ACEGIKMOQSUWY\n"
          ]
        }
      ]
    },
    {
      "cell_type": "code",
      "source": [
        "print(letters[::2])"
      ],
      "metadata": {
        "id": "koCoIhH0jT2H",
        "colab": {
          "base_uri": "https://localhost:8080/"
        },
        "outputId": "86524e92-1666-4e00-fb42-7890c5b2d26a"
      },
      "execution_count": 12,
      "outputs": [
        {
          "output_type": "stream",
          "name": "stdout",
          "text": [
            "ACEGIKMOQSUWY\n"
          ]
        }
      ]
    },
    {
      "cell_type": "code",
      "source": [
        "print(letters[::-1])"
      ],
      "metadata": {
        "id": "O8Cxi_m1jVX2",
        "colab": {
          "base_uri": "https://localhost:8080/"
        },
        "outputId": "3584dd04-f1ff-45d2-d424-61dd3cdb1bf6"
      },
      "execution_count": 13,
      "outputs": [
        {
          "output_type": "stream",
          "name": "stdout",
          "text": [
            "ZYXWVUTSRQPONMLKJIHGFEDCBA\n"
          ]
        }
      ]
    },
    {
      "cell_type": "markdown",
      "source": [
        "## Searching with $\\texttt{in}$ operator\n",
        "\n",
        "* Can use the $\\texttt{in}$ operator to determine whether one string is contained in  another string\n",
        "* Syntax: $\\texttt{ string1 in string2}$\n",
        "  * $\\texttt{string1}$ and $\\texttt{string2}$ can be string literals or variables referencing strings\n",
        "* Similarly you can use the $\\texttt{ not in }$ operator to determine whether <br> one string is not contained in another string\n"
      ],
      "metadata": {
        "id": "rsgHZ5OVjblO"
      }
    },
    {
      "cell_type": "code",
      "source": [
        "# in example\n",
        "text = \"Four score and seven years ago\"\n",
        "\n",
        "print(\"seven\" in text)\n",
        "print(\"four\" in text)"
      ],
      "metadata": {
        "id": "qpcYO5DikDbA",
        "colab": {
          "base_uri": "https://localhost:8080/"
        },
        "outputId": "a5a06645-325d-40dc-ea24-2803ccd1acde"
      },
      "execution_count": 14,
      "outputs": [
        {
          "output_type": "stream",
          "name": "stdout",
          "text": [
            "True\n",
            "False\n"
          ]
        }
      ]
    },
    {
      "cell_type": "markdown",
      "source": [
        "## The repetition operator\n",
        "* Repetition operator: makes multiple copies of a string and joins them together\n",
        "* The $\\texttt{*}$ symbol is a repetition operator when applied to a string.\n",
        "* Syntax: $\\texttt{string_to_copy * n}$\n",
        "* Variable references a new string which contains multiple copies of the original string"
      ],
      "metadata": {
        "id": "J_0v2c1N9zwU"
      }
    },
    {
      "cell_type": "code",
      "source": [
        "# repetition ex1:\n",
        "my_string = 'w' * 5\n",
        "print(my_string)\n",
        "print(\"Hello\" * 5)"
      ],
      "metadata": {
        "id": "SrImgXwhBnHC",
        "colab": {
          "base_uri": "https://localhost:8080/"
        },
        "outputId": "81c5eca8-19ab-43cb-eaa9-a91651c17b60"
      },
      "execution_count": 15,
      "outputs": [
        {
          "output_type": "stream",
          "name": "stdout",
          "text": [
            "wwwww\n",
            "HelloHelloHelloHelloHello\n"
          ]
        }
      ]
    },
    {
      "cell_type": "code",
      "source": [
        "# repetition ex2:\n",
        "\n",
        "def main():\n",
        "  # print nine rows increasing in length.\n",
        "  for count in range(1, 10):\n",
        "    print('Z' * count)\n",
        "\n",
        "  # print nine rows decreasing in length.\n",
        "  for count in range(8, 0, -1):\n",
        "    print('Z' * count)\n",
        "\n",
        "main()"
      ],
      "metadata": {
        "id": "NjAZRlwEBuxk",
        "colab": {
          "base_uri": "https://localhost:8080/"
        },
        "outputId": "7b627e23-30c6-44d8-89eb-7d0126a60db6"
      },
      "execution_count": 16,
      "outputs": [
        {
          "output_type": "stream",
          "name": "stdout",
          "text": [
            "Z\n",
            "ZZ\n",
            "ZZZ\n",
            "ZZZZ\n",
            "ZZZZZ\n",
            "ZZZZZZ\n",
            "ZZZZZZZ\n",
            "ZZZZZZZZ\n",
            "ZZZZZZZZZ\n",
            "ZZZZZZZZ\n",
            "ZZZZZZZ\n",
            "ZZZZZZ\n",
            "ZZZZZ\n",
            "ZZZZ\n",
            "ZZZ\n",
            "ZZ\n",
            "Z\n"
          ]
        }
      ]
    },
    {
      "cell_type": "markdown",
      "source": [
        "## String Testing Methods\n",
        "* Syntax: $\\texttt{string.method(arguments)}$\n",
        "* String methods to test a string for specific characters\n",
        "  * $\\texttt{isalnum()}$  : return $\\texttt{True}$  if the string contains **only alphabetic letters or digits**. $\\texttt{False}$ otherwise.\n",
        "  \n",
        "  * $\\texttt{isalpha()}$  : return $\\texttt{True}$ if the string contains **only alphabetic letters**. $\\texttt{False}$ otherwise.\n",
        "  \n",
        "  * $\\texttt{isdigit()}$  : return $\\texttt{True}$ if the string contains **only digits**. $\\texttt{False}$ otherwise.\n",
        "  \n",
        "  * $\\texttt{islower()}$  : return $\\texttt{True}$ if the string contains **only lower cases**. $\\texttt{False}$ otherwise.\n",
        "  \n",
        "  * $\\texttt{isspace()}$  : return $\\texttt{True}$ if the string contains **only whitespace characters** (space, $\\texttt{\\n}$, $\\texttt{\\t}$). $\\texttt{False}$ otherwise.\n",
        "  \n",
        "  * $\\texttt{isupper()}$  : return $\\texttt{True}$ if the string contains **only upper cases**. $\\texttt{False}$ otherwise.\n",
        "  \n",
        "  * If string is empty (len = 0), return $\\texttt{False}$ in all cases.\n",
        "\n"
      ],
      "metadata": {
        "id": "AqyW9WfSkYl8"
      }
    },
    {
      "cell_type": "code",
      "source": [
        "# String testing method:\n",
        "\n",
        "def main():\n",
        "  # Get a string from the user\n",
        "  user_string = input(\"Enter a string: \")\n",
        "\n",
        "  print(\"This is what I found about the string: \")\n",
        "\n",
        "  # Test the string\n",
        "  if user_string.isalnum():\n",
        "    print(\"The string is alphanumeric.\")\n",
        "  if user_string.isalpha():\n",
        "    print(\"The string contains only alphabetic characters.\")\n",
        "  if user_string.isdigit():\n",
        "    print(\"The string contains only digits.\")\n",
        "  if user_string.isspace():\n",
        "    print(\"The string contains only whitespace characters.\")\n",
        "  if user_string.islower():\n",
        "    print(\"The letters in the string are all lowercases.\")\n",
        "  if user_string.isupper():\n",
        "    print(\"The letters in the string are all uppercases.\")\n",
        "\n",
        "main()"
      ],
      "metadata": {
        "id": "erA0v500mzF1",
        "colab": {
          "base_uri": "https://localhost:8080/"
        },
        "outputId": "746708e0-b978-49eb-8ff6-7e72e020a044"
      },
      "execution_count": 18,
      "outputs": [
        {
          "output_type": "stream",
          "name": "stdout",
          "text": [
            "Enter a string: Hello\n",
            "This is what I found about the string: \n",
            "The string is alphanumeric.\n",
            "The string contains only alphabetic characters.\n"
          ]
        }
      ]
    },
    {
      "cell_type": "markdown",
      "source": [
        "## String Methods that return a new string\n",
        "\n",
        "* $\\texttt{lower()}$ : Return a copy of the string with all alphabetic letters **converted to lowercase**.\n",
        "* $\\texttt{upper()}$ : Return a copy of the string with all alphabetic letters **converted to uppercase**.\n",
        "\n",
        "* $\\texttt{lstrip()}$ : Return a copy of the string with all **leading whitespace characters** <br> (spaces, $\\texttt{\\n}$, $\\texttt{\\t}$) **removed**.\n",
        "  * strip left\n",
        "\n",
        "* $\\texttt{lstrip(char)}$ : Return a copy of the string with **all instances of <br> char that appear at the beginning of string removed**.\n",
        "\n",
        "* $\\texttt{rstrip()}$ : Return a copy of the string with **all trailing <br> whitespace characters removed**.\n",
        "  * strip right\n",
        "\n",
        "* $\\texttt{rstrip(char)}$ : Return a copy of the string with **all instances of<br> char that appear at the end of string removed**.\n",
        "\n",
        "* $\\texttt{strip()}$ : Return a copy of the string with **all leading and <br> trailing whitespace characters removed**.\n",
        "  * strip both ends\n",
        "\n",
        "* $\\texttt{strip(char)}$ : Return a copy of the string with **all instances of <br>char that appear at the beginning and the end of string removed**."
      ],
      "metadata": {
        "id": "4un66WBto32C"
      }
    },
    {
      "cell_type": "code",
      "source": [
        "# Upper ex:\n",
        "letters = \"WXYZ\"\n",
        "print(letters, letters.lower(), letters)"
      ],
      "metadata": {
        "id": "5TLzSbdAxy5i",
        "colab": {
          "base_uri": "https://localhost:8080/"
        },
        "outputId": "b319920e-4b9c-49ce-aee0-2b4da19fe6a8"
      },
      "execution_count": 19,
      "outputs": [
        {
          "output_type": "stream",
          "name": "stdout",
          "text": [
            "WXYZ wxyz WXYZ\n"
          ]
        }
      ]
    },
    {
      "cell_type": "code",
      "source": [
        "letters = \"WXYZ1234wyxz\"\n",
        "print(letters.lower())"
      ],
      "metadata": {
        "id": "nogfy9Rby0Ue",
        "colab": {
          "base_uri": "https://localhost:8080/"
        },
        "outputId": "2b15a9e9-7b56-46da-e442-c09090c0db2e"
      },
      "execution_count": 20,
      "outputs": [
        {
          "output_type": "stream",
          "name": "stdout",
          "text": [
            "wxyz1234wyxz\n"
          ]
        }
      ]
    },
    {
      "cell_type": "code",
      "source": [
        "# Lower ex:\n",
        "letters = \"abcd\"\n",
        "print(letters.upper())\n",
        "\n",
        "print(\"VvvvV\".upper())"
      ],
      "metadata": {
        "id": "CDN9peSWy5jo",
        "colab": {
          "base_uri": "https://localhost:8080/"
        },
        "outputId": "f2900721-60c6-4d4e-ebd2-11abec7183c4"
      },
      "execution_count": 21,
      "outputs": [
        {
          "output_type": "stream",
          "name": "stdout",
          "text": [
            "ABCD\n",
            "VVVVV\n"
          ]
        }
      ]
    },
    {
      "cell_type": "code",
      "source": [
        "# strip ex1:\n",
        "letters = \"  middle  \"\n",
        "\n",
        "print(f\"lstrip: {letters.lstrip()}.\" )\n",
        "print(f\"rstrip: {letters.rstrip()}.\")\n",
        "print(f\"strip: {letters.strip()}.\")"
      ],
      "metadata": {
        "id": "n-FhktKMzGDg",
        "colab": {
          "base_uri": "https://localhost:8080/"
        },
        "outputId": "7d053a63-f6a8-4d9a-ac15-16324e51387c"
      },
      "execution_count": 22,
      "outputs": [
        {
          "output_type": "stream",
          "name": "stdout",
          "text": [
            "lstrip: middle  .\n",
            "rstrip:   middle.\n",
            "strip: middle.\n"
          ]
        }
      ]
    },
    {
      "cell_type": "code",
      "source": [
        "# strip with char:\n",
        "letters = \"mmmmidleeee\"\n",
        "\n",
        "print(f\"lstrip: {letters.lstrip('m')}.\" )\n",
        "print(f\"rstrip: {letters.rstrip('e')}.\")\n",
        "print(f\"strip: {letters.strip('m').strip('e')}.\") # can chain methods"
      ],
      "metadata": {
        "id": "DQBlkT23z0Iq"
      },
      "execution_count": null,
      "outputs": []
    },
    {
      "cell_type": "markdown",
      "source": [
        "## String searching method\n",
        "\n",
        "* Programs commonly need to search for substrings\n",
        "\n",
        "* $\\texttt{endswith(substring)}$: return $\\texttt{True}$ if the string ends with substring. <br> $\\texttt{False}$ otherwise.\n",
        "\n",
        "* $\\texttt{startswith(substring)}$: return $\\texttt{True}$ if the string starts with substring. <br> $\\texttt{False}$ otherwise."
      ],
      "metadata": {
        "id": "0MqKoVz82HR4"
      }
    },
    {
      "cell_type": "code",
      "source": [
        "# endswith ex:\n",
        "filename = input(\"Enter the filename: \")\n",
        "if filename.endswith(\".txt\"):\n",
        "  print(\"This is the name of a text file.\")\n",
        "elif filename.endswith(\".py\"):\n",
        "  print(\"This is the name of a Python source file.\")\n",
        "elif filename.endswith(\".doc\"):\n",
        "  print(\"That is the name of a word processing document.\")\n",
        "else:\n",
        "  print(\"Unknown file type.\")"
      ],
      "metadata": {
        "id": "3wJZKRIS3UKy",
        "colab": {
          "base_uri": "https://localhost:8080/"
        },
        "outputId": "6f9a9357-9ecb-4731-8f2b-2c533a6766f5"
      },
      "execution_count": 23,
      "outputs": [
        {
          "output_type": "stream",
          "name": "stdout",
          "text": [
            "Enter the filename: hello.txt\n",
            "This is the name of a text file.\n"
          ]
        }
      ]
    },
    {
      "cell_type": "code",
      "source": [
        "# startswith ex:\n",
        "## Count emails from a specific person\n",
        "\n",
        "email_headers = [\"From: Marlin. Date: 10/09/2012\",\n",
        "                \"From: Adam. Date: 10/10/2012\",\n",
        "                \"From: Smith. Date: 12/09/2013\",\n",
        "                \"From: Adam. Date: 08/20/2014\"]\n",
        "\n",
        "target = \"From: Adam\"\n",
        "\n",
        "count = 0\n",
        "for email in email_headers:\n",
        "  if email.startswith(target):\n",
        "    count += 1\n",
        "\n",
        "print(f\"The number of email from Adam is {count}\")"
      ],
      "metadata": {
        "id": "9ckEWfLm4w6m",
        "colab": {
          "base_uri": "https://localhost:8080/"
        },
        "outputId": "c8a5dbf4-f547-408d-e06f-f060d6a89461"
      },
      "execution_count": 24,
      "outputs": [
        {
          "output_type": "stream",
          "name": "stdout",
          "text": [
            "The number of email from Adam is 2\n"
          ]
        }
      ]
    },
    {
      "cell_type": "markdown",
      "source": [
        "## String searching methods\n",
        "\n",
        "* $\\texttt{find(substring)}$ : search for $\\texttt{substring}$ within the string\n",
        "  * Returns the lowest index of the substring. <br> If the $\\texttt{substring}$ is not in the string, return -1.\n",
        "* $\\texttt{replace(substring, new_string)}$ :\n",
        "  * Returns a copy of the string where **every instance** of $\\texttt{substring}$ <br> is replaced with $\\texttt{new_string}$"
      ],
      "metadata": {
        "id": "2v7aHY1v5pzS"
      }
    },
    {
      "cell_type": "code",
      "source": [
        "# find ex:\n",
        "string = \"Four score and seven years ago.\"\n",
        "position = string.find(\"seven\")\n",
        "\n",
        "if position != -1:\n",
        "  print(\"Found at\", position)\n",
        "else:\n",
        "  print(\"Not Found\")"
      ],
      "metadata": {
        "id": "iwLPKBfX7kLt",
        "colab": {
          "base_uri": "https://localhost:8080/"
        },
        "outputId": "6c874b0a-17c8-4b93-92ee-83c3117d0ecc"
      },
      "execution_count": 25,
      "outputs": [
        {
          "output_type": "stream",
          "name": "stdout",
          "text": [
            "Found at 15\n"
          ]
        }
      ]
    },
    {
      "cell_type": "code",
      "source": [
        "# replace ex\n",
        "string = \"Four score and seven years ago.\"\n",
        "new_string = string.replace(\"years\", \"days\")\n",
        "print(new_string)"
      ],
      "metadata": {
        "id": "RyftdIXg71l3",
        "colab": {
          "base_uri": "https://localhost:8080/"
        },
        "outputId": "932118a3-7615-42de-a37e-822c11825f94"
      },
      "execution_count": 26,
      "outputs": [
        {
          "output_type": "stream",
          "name": "stdout",
          "text": [
            "Four score and seven days ago.\n"
          ]
        }
      ]
    },
    {
      "cell_type": "markdown",
      "source": [
        "## String searching methods summary\n",
        "\n",
        "* $\\texttt{endswith(substring)}$: return $\\texttt{True}$ if the string ends with substring. <br> $\\texttt{False}$ otherwise.\n",
        "\n",
        "* $\\texttt{startswith(substring)}$: return $\\texttt{True}$ if the string starts with substring. <br> $\\texttt{False}$ otherwise.\n",
        "\n",
        "* $\\texttt{find(substring)}$ : search for $\\texttt{substring}$ within the string\n",
        "  * Returns the lowest index of the substring. <br> If the $\\texttt{substring}$ is not in the string, return -1.\n",
        "\n",
        "* $\\texttt{replace(substring, new_string)}$ :\n",
        "  * Returns a copy of the string where **every instance** of $\\texttt{substring}$ <br> is replaced with $\\texttt{new_string}$"
      ],
      "metadata": {
        "id": "1eXuejeL8Z6X"
      }
    },
    {
      "cell_type": "markdown",
      "source": [
        "## Splitting String\n",
        "* $\\texttt{split(params)}$ method: returns a list containing new strings by <br> splitting the string based on a separator.\n",
        "  * By default, uses space as a separator\n",
        "  \n",
        "  * Can specify a different separator by passing it as an argument to the $\\texttt{split}$ method"
      ],
      "metadata": {
        "id": "97StsCiR81Q0"
      }
    },
    {
      "cell_type": "code",
      "source": [
        "# split ex1:\n",
        "date_string = \"11/26/2018\"\n",
        "date_list = date_string.split(\"/\")\n",
        "print(date_list)\n",
        "\n",
        "print(\"Month: \", date_list[0])\n",
        "print(\"Day: \", date_list[1])\n",
        "print(\"Year: \", date_list[2])"
      ],
      "metadata": {
        "id": "yCWXeVR-9mMG",
        "colab": {
          "base_uri": "https://localhost:8080/"
        },
        "outputId": "54108402-c519-41bf-d298-21ad955cc139"
      },
      "execution_count": 27,
      "outputs": [
        {
          "output_type": "stream",
          "name": "stdout",
          "text": [
            "['11', '26', '2018']\n",
            "Month:  11\n",
            "Day:  26\n",
            "Year:  2018\n"
          ]
        }
      ]
    },
    {
      "cell_type": "code",
      "source": [
        "# split ex2:\n",
        "\n",
        "def main():\n",
        "  # create a string with multiple words\n",
        "  my_string = \"One two three four\"\n",
        "\n",
        "  word_list = my_string.split()\n",
        "\n",
        "  print(word_list)\n",
        "\n",
        "main()"
      ],
      "metadata": {
        "id": "E2Gc2AixC5kF",
        "colab": {
          "base_uri": "https://localhost:8080/"
        },
        "outputId": "90424c64-399e-4803-84ca-93df74555ec6"
      },
      "execution_count": 28,
      "outputs": [
        {
          "output_type": "stream",
          "name": "stdout",
          "text": [
            "['One', 'two', 'three', 'four']\n"
          ]
        }
      ]
    },
    {
      "cell_type": "code",
      "source": [
        "# split ex3: URL parsing\n",
        "\n",
        "## recover paramters ID, COND, SESSION\n",
        "\n",
        "my_url_arg = \"ID=5123sdf431%20COND=5%20SESSION=2%20\" # %20 = space in url\n",
        "\n",
        "params =  my_url_arg.split(\"%20\")\n",
        "id = params[0].split(\"=\")[1]\n",
        "cond = params[1].split(\"=\")[1]\n",
        "session = params[2].split(\"=\")[1]\n",
        "\n",
        "print(f\"ID = {id}, Condition = {cond}, Session = {session}.\")"
      ],
      "metadata": {
        "id": "La_7gR6pDHV3",
        "colab": {
          "base_uri": "https://localhost:8080/"
        },
        "outputId": "25687892-abfe-41f8-cd7b-e2dabeea5569"
      },
      "execution_count": 29,
      "outputs": [
        {
          "output_type": "stream",
          "name": "stdout",
          "text": [
            "ID = 5123sdf431, Condition = 5, Session = 2.\n"
          ]
        }
      ]
    },
    {
      "cell_type": "markdown",
      "source": [
        "## String join\n",
        "\n",
        "* $\\texttt{join(iterable)}$ method : takes an iterable (list or tuple) and\n",
        "  *  returns a new string created by joining the elements of an iterable by <br> the original string."
      ],
      "metadata": {
        "id": "O7gObWU0DcoE"
      }
    },
    {
      "cell_type": "code",
      "source": [
        "# join ex1\n",
        "\n",
        "num_list = ['1','2','3','4']\n",
        "separator = ','\n",
        "print(separator.join(num_list))"
      ],
      "metadata": {
        "id": "BWQtqPKEEBnq",
        "colab": {
          "base_uri": "https://localhost:8080/"
        },
        "outputId": "68c45c9f-8055-4a44-a47f-5e9206f5b42a"
      },
      "execution_count": 30,
      "outputs": [
        {
          "output_type": "stream",
          "name": "stdout",
          "text": [
            "1,2,3,4\n"
          ]
        }
      ]
    },
    {
      "cell_type": "code",
      "source": [
        "# join ex2:\n",
        "texts = ('A','B','C')\n",
        "between = '-'\n",
        "print(between.join(texts))"
      ],
      "metadata": {
        "id": "dQU0d6VdEPmt",
        "colab": {
          "base_uri": "https://localhost:8080/"
        },
        "outputId": "3d7eec13-3761-441d-b41b-48c6dec3d371"
      },
      "execution_count": 31,
      "outputs": [
        {
          "output_type": "stream",
          "name": "stdout",
          "text": [
            "A-B-C\n"
          ]
        }
      ]
    },
    {
      "cell_type": "markdown",
      "source": [
        "## Summary\n",
        "* String is an immutable sequence of characters\n",
        "* indexing: method for iterating over strings\n",
        "* Operators: $\\texttt{+}$ (concat), $\\texttt{*}$ (repetition), $\\texttt{in}$ (searching)\n",
        "* Slicing: $\\texttt{[start:end:step]}$ (indexes can be negative)\n",
        "* String checking methods:\n",
        " * $\\texttt{isalnum}$ , $\\texttt{isalpha}$, $\\texttt{isdigit}$, $\\texttt{isupper}$, $\\texttt{islower}$, $\\texttt{isspace}$\n",
        "* String editting methods:\n",
        " * $\\texttt{upper}$, $\\texttt{lower}$, $\\texttt{lstrip}$, $\\texttt{rstrip}$, $\\texttt{strip}$\n",
        "* String searching methods:\n",
        " * $\\texttt{startswith}$, $\\texttt{endswith}$, $\\texttt{find}$, $\\texttt{replace}$\n",
        "* Splitting and joining string (string to list and list to string)\n",
        " * $\\texttt{split}$ and $\\texttt{join}$"
      ],
      "metadata": {
        "id": "wjJmTpPrEg_-"
      }
    }
  ]
}
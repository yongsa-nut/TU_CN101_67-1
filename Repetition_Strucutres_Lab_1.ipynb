{
  "nbformat": 4,
  "nbformat_minor": 0,
  "metadata": {
    "colab": {
      "provenance": [],
      "authorship_tag": "ABX9TyPOT7wjWFQUxy2bI02yFV7L",
      "include_colab_link": true
    },
    "kernelspec": {
      "name": "python3",
      "display_name": "Python 3"
    },
    "language_info": {
      "name": "python"
    }
  },
  "cells": [
    {
      "cell_type": "markdown",
      "metadata": {
        "id": "view-in-github",
        "colab_type": "text"
      },
      "source": [
        "<a href=\"https://colab.research.google.com/github/yongsa-nut/TU_CN101_67-1/blob/main/Repetition_Strucutres_Lab_1.ipynb\" target=\"_parent\"><img src=\"https://colab.research.google.com/assets/colab-badge.svg\" alt=\"Open In Colab\"/></a>"
      ]
    },
    {
      "cell_type": "markdown",
      "source": [
        "**Q1**: What is the output of this program?\n",
        "```python\n",
        "i = 0\n",
        "while i < 5:\n",
        "  print(i)\n",
        "  i += 1\n",
        "```"
      ],
      "metadata": {
        "id": "Bs5YKTBEeaoF"
      }
    },
    {
      "cell_type": "code",
      "source": [],
      "metadata": {
        "id": "ZCjF_jvNeaLW"
      },
      "execution_count": null,
      "outputs": []
    },
    {
      "cell_type": "markdown",
      "source": [
        "**Q2**: What is the output of this program?\n",
        "```python\n",
        "for i in range(3):\n",
        "  print(\"Hello\")\n",
        "```"
      ],
      "metadata": {
        "id": "7uU5beN4ehvt"
      }
    },
    {
      "cell_type": "code",
      "execution_count": null,
      "metadata": {
        "id": "1K8n-Uc5dmzb"
      },
      "outputs": [],
      "source": []
    },
    {
      "cell_type": "markdown",
      "source": [
        "**Q3**: What is the output of this program?\n",
        "```python\n",
        "for i in range(1, 10, 2):\n",
        "    print(i, end=\":\")\n",
        "```"
      ],
      "metadata": {
        "id": "lI_hvX12eoUH"
      }
    },
    {
      "cell_type": "code",
      "source": [],
      "metadata": {
        "id": "MeYG88CBeokY"
      },
      "execution_count": null,
      "outputs": []
    },
    {
      "cell_type": "markdown",
      "source": [
        "**Q4**: What is the output of this program?\n",
        "```python\n",
        "x = 5\n",
        "while x > 0:\n",
        "  print(x)\n",
        "  x -= 2\n",
        "```"
      ],
      "metadata": {
        "id": "_moqB6gCe1_D"
      }
    },
    {
      "cell_type": "code",
      "source": [],
      "metadata": {
        "id": "FWhCASXke9I9"
      },
      "execution_count": null,
      "outputs": []
    },
    {
      "cell_type": "markdown",
      "source": [
        "**Q5**: What is the output of this program?\n",
        "\n",
        "```python\n",
        "i = 1\n",
        "while i <= 16:\n",
        "  print(i, end=\" \")\n",
        "  i *= 2\n",
        "```"
      ],
      "metadata": {
        "id": "HPrd-TxIe9gY"
      }
    },
    {
      "cell_type": "code",
      "source": [],
      "metadata": {
        "id": "X8qAblE7fA7_"
      },
      "execution_count": null,
      "outputs": []
    },
    {
      "cell_type": "markdown",
      "source": [
        "**Q6**: What is the output of this program?\n",
        "\n",
        "```python\n",
        "total = 0\n",
        "count = 1\n",
        "while count < 7:\n",
        "  total += 1\n",
        "  count += 1\n",
        "print(count)\n",
        "```"
      ],
      "metadata": {
        "id": "ezFzRUQDhbl9"
      }
    },
    {
      "cell_type": "code",
      "source": [],
      "metadata": {
        "id": "4htDK1vuhbMc"
      },
      "execution_count": null,
      "outputs": []
    },
    {
      "cell_type": "markdown",
      "source": [
        "**Q7**: What is the output of this program?\n",
        "\n",
        "```python\n",
        "total = 0\n",
        "for i in range(1,10,2):\n",
        "  total = total + i\n",
        "print(i)\n",
        "```"
      ],
      "metadata": {
        "id": "PfMA9qpifG72"
      }
    },
    {
      "cell_type": "code",
      "source": [],
      "metadata": {
        "id": "Mdm7VlpbfGoq"
      },
      "execution_count": null,
      "outputs": []
    },
    {
      "cell_type": "markdown",
      "source": [
        "**Q8**: What is the output of this program?\n",
        "\n",
        "```python\n",
        "for num in [1 , 7, 4, 20, 2]:\n",
        "  if num % 2 == 0:\n",
        "    break\n",
        "```"
      ],
      "metadata": {
        "id": "M4OD9PYIfIWa"
      }
    },
    {
      "cell_type": "code",
      "source": [],
      "metadata": {
        "id": "BU_L_3AIfJa7"
      },
      "execution_count": null,
      "outputs": []
    },
    {
      "cell_type": "markdown",
      "source": [
        "**Q9**: What is the output of this program?\n",
        "\n",
        "```python\n",
        "count = 0\n",
        "numbers = [1, 2, 3, ,4 ,5 ,6]\n",
        "for num in numbers:\n",
        "  if num%2==1:\n",
        "    count += 1\n",
        "print(count)\n",
        "```"
      ],
      "metadata": {
        "id": "Vyq639fdg47h"
      }
    },
    {
      "cell_type": "code",
      "source": [],
      "metadata": {
        "id": "D6pCf9pvg5OR"
      },
      "execution_count": null,
      "outputs": []
    },
    {
      "cell_type": "markdown",
      "source": [
        "**Q10**: What is the output of this program?\n",
        "\n",
        "```python\n",
        "target = 'AAA'\n",
        "words = ['A','AA','AAA','AA','BBB','AAA','C','AAA']\n",
        "n_target = 0\n",
        "n_non_target = 0\n",
        "for word in words:\n",
        "  if word == target:\n",
        "    n_target += 1\n",
        "  else:\n",
        "    n_non_target += 2\n",
        "print(n_target, n_non_target)\n",
        "```"
      ],
      "metadata": {
        "id": "lLtcznuZfJs5"
      }
    },
    {
      "cell_type": "code",
      "source": [],
      "metadata": {
        "id": "n_RhWnjsfK61"
      },
      "execution_count": null,
      "outputs": []
    },
    {
      "cell_type": "markdown",
      "source": [
        "**Q11**: Fill in the blank to print numbers from 0 to 4:"
      ],
      "metadata": {
        "id": "BXun9vqsh1ou"
      }
    },
    {
      "cell_type": "code",
      "source": [
        "for i in range(__):\n",
        "  print(i)"
      ],
      "metadata": {
        "id": "fuZXpzA3h116"
      },
      "execution_count": null,
      "outputs": []
    },
    {
      "cell_type": "markdown",
      "source": [
        "**Q12**: Fill in the blank to print out 'Welcome' 4 times"
      ],
      "metadata": {
        "id": "FF6JC8o2iKGT"
      }
    },
    {
      "cell_type": "code",
      "source": [
        "n = ___\n",
        "for i in range(n):\n",
        "  print('Welcome')"
      ],
      "metadata": {
        "id": "vkWuGAgUiOpN"
      },
      "execution_count": null,
      "outputs": []
    },
    {
      "cell_type": "markdown",
      "source": [
        "**Q13**: Fill in the blank so that the code print out 7 4 1"
      ],
      "metadata": {
        "id": "8TFV0HFriPDW"
      }
    },
    {
      "cell_type": "code",
      "source": [
        "for i in _____:\n",
        "  print(i, end=' ')"
      ],
      "metadata": {
        "id": "WH3FQQBtiQD6"
      },
      "execution_count": null,
      "outputs": []
    },
    {
      "cell_type": "markdown",
      "source": [
        "**Q14**: Fill in the blank so that the program print out 0 1 2 3"
      ],
      "metadata": {
        "id": "35UcY0TQiQYg"
      }
    },
    {
      "cell_type": "code",
      "source": [
        "count = 0\n",
        "while count < 10:\n",
        "  print(count, end=' ')\n",
        "  if ___________  #Fill in your code here\n",
        "    break"
      ],
      "metadata": {
        "id": "mUdck6FaiSEU"
      },
      "execution_count": null,
      "outputs": []
    },
    {
      "cell_type": "markdown",
      "source": [
        "**Q15**: Fill in the blanks to create a countdown from 5 to 1"
      ],
      "metadata": {
        "id": "OiuwO9HiiSWc"
      }
    },
    {
      "cell_type": "code",
      "source": [
        "x = __\n",
        "while x > 0:\n",
        "  print(x)\n",
        "  x __= 1"
      ],
      "metadata": {
        "id": "qDLV5rZ9iTp0"
      },
      "execution_count": null,
      "outputs": []
    },
    {
      "cell_type": "markdown",
      "source": [
        "**Q16**: หาผลรวมจากข้อมูลของ user\n",
        "\n",
        "เขียนโปรแกรมเพื่อคำนวณค่าผลรวมจากตัวเลขที่ผู้ใช้งานพิมพ์เข้ามา โปรแกรมจะถามผู้ใช้งานให้พิมพ์ตัวเลขเข้ามาเรื่อยๆ จนกระทั่งผู้ใช้งานใส่ค่า -999999. เมื่อจบแล้วให้พิมพ์ค่าผลรวมทั้งหมดออกมา\n",
        "\n",
        "ข้อมูลนำเข้า:\n",
        "- ตัวเลขหลายตัวอยากผู้ใช้งาน\n",
        "\n",
        "ข้อมูลส่งออก:\n",
        "- ผลรวม\n",
        "\n",
        "Example 1:\n",
        "```\n",
        ">Enter a number: 5\n",
        ">Enter a number: 3\n",
        ">Enter a number: 10\n",
        ">Enter a number: -999999\n",
        "The total is 18\n",
        "```\n",
        "\n",
        "Example 2:\n",
        "```\n",
        ">Enter a number: 20  \n",
        ">Enter a number: -30\n",
        ">Enter a number: -999999\n",
        "The total is -10.\n",
        "```"
      ],
      "metadata": {
        "id": "xZ0IA4JFjUgO"
      }
    },
    {
      "cell_type": "code",
      "source": [],
      "metadata": {
        "id": "urPZxmHGjWKp"
      },
      "execution_count": null,
      "outputs": []
    },
    {
      "cell_type": "markdown",
      "source": [
        "**Q17**: คำนวณเงินเดือน\n",
        "\n",
        "เขียนโปรแกรมที่รับจำนวนชั่วโมง และเรทเงินเดือนต่อชม และแสดงผลเงินเดือนที่ได้หมดมา\n",
        "\n",
        "สำหรับโปรแกรมนี้นั้น จะต้องตรวจสอบก่อนว่า ค่าจำนวนชมและเรท จะต้องไม่ติดลบ.\n",
        "\n",
        "ข้อมูลนำเข้า\n",
        "- จำนวนจริง สำหรับชม.\n",
        "- จำนวนจริง เรทเงินเดือน\n",
        "\n",
        "ข้อมูลส่งออก\n",
        "- จำนวนจริง สองตำแหน่ง แสดงผลเงินเดือนที่ได้\n",
        "\n",
        "\n",
        "Example 1:\n",
        "```\n",
        ">Enter hours: 20\n",
        ">Enter rate: 10\n",
        "Your salary is 200.00\n",
        "```\n",
        "\n",
        "Example 2:\n",
        "```\n",
        ">Enter hours: -10\n",
        "Invalid hours. Please reenter.\n",
        ">Enter hours: -20\n",
        "Invalid hours. Please reenter.\n",
        ">Enter hours: 30\n",
        ">Enter rate: 20\n",
        "Your salary is 600.00\n",
        "```\n",
        "\n",
        "Example 3:\n",
        "```\n",
        ">Enter hours: -25\n",
        "Invalid hours. Please reenter.\n",
        ">Enter hours: 40\n",
        ">Enter rate: -10\n",
        "Invalid rate. Please reenter.\n",
        ">Enter rate: 15\n",
        "Your salary is 600.00\n",
        "```"
      ],
      "metadata": {
        "id": "I7XL4jaNjhEg"
      }
    },
    {
      "cell_type": "code",
      "source": [],
      "metadata": {
        "id": "KEn3UjFqks2w"
      },
      "execution_count": null,
      "outputs": []
    }
  ]
}
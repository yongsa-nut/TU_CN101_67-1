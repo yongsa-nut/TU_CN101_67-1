{
  "nbformat": 4,
  "nbformat_minor": 0,
  "metadata": {
    "colab": {
      "provenance": [],
      "authorship_tag": "ABX9TyPcIWB4w4fa61F8l3d+7ppg",
      "include_colab_link": true
    },
    "kernelspec": {
      "name": "python3",
      "display_name": "Python 3"
    },
    "language_info": {
      "name": "python"
    }
  },
  "cells": [
    {
      "cell_type": "markdown",
      "metadata": {
        "id": "view-in-github",
        "colab_type": "text"
      },
      "source": [
        "<a href=\"https://colab.research.google.com/github/yongsa-nut/TU_CN101_67-1/blob/main/Repetition_Strucutres_Lab_1.ipynb\" target=\"_parent\"><img src=\"https://colab.research.google.com/assets/colab-badge.svg\" alt=\"Open In Colab\"/></a>"
      ]
    },
    {
      "cell_type": "markdown",
      "source": [
        "**Q1**: What is the output of this program?\n",
        "```python\n",
        "i = 0\n",
        "while i < 5:\n",
        "  print(i)\n",
        "  i += 1\n",
        "```"
      ],
      "metadata": {
        "id": "Bs5YKTBEeaoF"
      }
    },
    {
      "cell_type": "code",
      "source": [],
      "metadata": {
        "id": "ZCjF_jvNeaLW"
      },
      "execution_count": null,
      "outputs": []
    },
    {
      "cell_type": "markdown",
      "source": [
        "**Q2**: What is the output of this program?\n",
        "```python\n",
        "for i in range(3):\n",
        "  print(\"Hello\")\n",
        "```"
      ],
      "metadata": {
        "id": "7uU5beN4ehvt"
      }
    },
    {
      "cell_type": "code",
      "execution_count": null,
      "metadata": {
        "id": "1K8n-Uc5dmzb"
      },
      "outputs": [],
      "source": []
    },
    {
      "cell_type": "markdown",
      "source": [
        "**Q3**: What is the output of this program?\n",
        "```python\n",
        "for i in range(1, 10, 2):\n",
        "    print(i, end=\" \")\n",
        "```"
      ],
      "metadata": {
        "id": "lI_hvX12eoUH"
      }
    },
    {
      "cell_type": "code",
      "source": [],
      "metadata": {
        "id": "MeYG88CBeokY"
      },
      "execution_count": null,
      "outputs": []
    },
    {
      "cell_type": "markdown",
      "source": [
        "**Q4**: What is the output of this program?\n",
        "```python\n",
        "x = 5\n",
        "while x > 0:\n",
        "  print(x)\n",
        "  x -= 2\n",
        "```"
      ],
      "metadata": {
        "id": "_moqB6gCe1_D"
      }
    },
    {
      "cell_type": "code",
      "source": [],
      "metadata": {
        "id": "FWhCASXke9I9"
      },
      "execution_count": null,
      "outputs": []
    },
    {
      "cell_type": "markdown",
      "source": [
        "**Q5**: What is the output of this program?\n",
        "\n",
        "```python\n",
        "i = 1\n",
        "while i <= 16:\n",
        "  print(i, end=\" \")\n",
        "  i *= 2\n",
        "```"
      ],
      "metadata": {
        "id": "HPrd-TxIe9gY"
      }
    },
    {
      "cell_type": "code",
      "source": [],
      "metadata": {
        "id": "X8qAblE7fA7_"
      },
      "execution_count": null,
      "outputs": []
    },
    {
      "cell_type": "markdown",
      "source": [
        "**Q6**: What is the output of this program?\n",
        "\n",
        "```python\n",
        "total = 0\n",
        "count = 1\n",
        "while count < 7:\n",
        "  total += 1\n",
        "  count += 1\n",
        "print(count)\n",
        "```"
      ],
      "metadata": {
        "id": "ezFzRUQDhbl9"
      }
    },
    {
      "cell_type": "code",
      "source": [],
      "metadata": {
        "id": "4htDK1vuhbMc"
      },
      "execution_count": null,
      "outputs": []
    },
    {
      "cell_type": "markdown",
      "source": [
        "**Q7**: What is the output of this program?\n",
        "\n",
        "```python\n",
        "total = 0\n",
        "for i in range(1,10,2):\n",
        "  total = total + i\n",
        "print(i)\n",
        "```"
      ],
      "metadata": {
        "id": "PfMA9qpifG72"
      }
    },
    {
      "cell_type": "code",
      "source": [],
      "metadata": {
        "id": "Mdm7VlpbfGoq"
      },
      "execution_count": null,
      "outputs": []
    },
    {
      "cell_type": "markdown",
      "source": [
        "**Q8**: What is the output of this program?\n",
        "\n",
        "```python\n",
        "for num in [1 ,8, 4, 20, 7]:\n",
        "  if num % 2 == 0:\n",
        "    print(num)\n",
        "```"
      ],
      "metadata": {
        "id": "M4OD9PYIfIWa"
      }
    },
    {
      "cell_type": "code",
      "source": [],
      "metadata": {
        "id": "BU_L_3AIfJa7"
      },
      "execution_count": null,
      "outputs": []
    },
    {
      "cell_type": "markdown",
      "source": [
        "**Q9**: What is the output of this program?\n",
        "\n",
        "```python\n",
        "count = 0\n",
        "numbers = [1, 2, 3, ,4 ,5 ,6]\n",
        "for num in numbers:\n",
        "  if num%2==1:\n",
        "    count += 1\n",
        "print(count)\n",
        "```"
      ],
      "metadata": {
        "id": "Vyq639fdg47h"
      }
    },
    {
      "cell_type": "code",
      "source": [],
      "metadata": {
        "id": "D6pCf9pvg5OR"
      },
      "execution_count": null,
      "outputs": []
    },
    {
      "cell_type": "markdown",
      "source": [
        "**Q10**: What is the output of this program?\n",
        "\n",
        "```python\n",
        "for i in range(3):\n",
        "  for j in range(3):\n",
        "    if i == j:\n",
        "      print(\"*\", end=\"\")\n",
        "    else:\n",
        "      print(\"-\", end=\"\")\n",
        "  print()\n",
        "```"
      ],
      "metadata": {
        "id": "lLtcznuZfJs5"
      }
    },
    {
      "cell_type": "code",
      "source": [],
      "metadata": {
        "id": "n_RhWnjsfK61"
      },
      "execution_count": null,
      "outputs": []
    },
    {
      "cell_type": "markdown",
      "source": [
        "**Q11**: Fill in the blank to print numbers from 0 to 4:"
      ],
      "metadata": {
        "id": "BXun9vqsh1ou"
      }
    },
    {
      "cell_type": "code",
      "source": [
        "for i in range(__):\n",
        "  print(i)"
      ],
      "metadata": {
        "id": "fuZXpzA3h116"
      },
      "execution_count": null,
      "outputs": []
    },
    {
      "cell_type": "markdown",
      "source": [
        "**Q12**: Fill in the blank to print out 'Welcome' 4 times"
      ],
      "metadata": {
        "id": "FF6JC8o2iKGT"
      }
    },
    {
      "cell_type": "code",
      "source": [
        "n = ___\n",
        "for i in range(n):\n",
        "  print('Welcome')"
      ],
      "metadata": {
        "id": "vkWuGAgUiOpN"
      },
      "execution_count": null,
      "outputs": []
    },
    {
      "cell_type": "markdown",
      "source": [
        "**Q13**: Fill in the blank so that the code print out 7 4 1"
      ],
      "metadata": {
        "id": "8TFV0HFriPDW"
      }
    },
    {
      "cell_type": "code",
      "source": [
        "for i in _____:\n",
        "  print(i, end=' ')"
      ],
      "metadata": {
        "id": "WH3FQQBtiQD6"
      },
      "execution_count": null,
      "outputs": []
    },
    {
      "cell_type": "markdown",
      "source": [
        "**Q14**: Fill in the blank so that the loop will stop eventually."
      ],
      "metadata": {
        "id": "35UcY0TQiQYg"
      }
    },
    {
      "cell_type": "code",
      "source": [
        "count = 0\n",
        "while count < 5:\n",
        "  print(count)\n",
        "  _____________  #Fill in your code here"
      ],
      "metadata": {
        "id": "mUdck6FaiSEU"
      },
      "execution_count": null,
      "outputs": []
    },
    {
      "cell_type": "markdown",
      "source": [
        "**Q15**: Fill in the blanks to create a countdown from 5 to 1"
      ],
      "metadata": {
        "id": "OiuwO9HiiSWc"
      }
    },
    {
      "cell_type": "code",
      "source": [
        "x = __\n",
        "while x > 0:\n",
        "  print(x)\n",
        "  x __= 1"
      ],
      "metadata": {
        "id": "qDLV5rZ9iTp0"
      },
      "execution_count": null,
      "outputs": []
    },
    {
      "cell_type": "markdown",
      "source": [
        "**Q16**: Calculate sum from the user's input\n",
        "\n",
        "Write a program that repeatedly prompts a user for integer numbers until the user enters -999999.\n",
        "\n",
        "Once the loop stops, print out the sum of all numbers from the user.\n",
        "\n",
        "Example:\n",
        "```\n",
        ">Enter a number: 5\n",
        ">Enter a number: 3\n",
        ">Enter a number: 10\n",
        ">Enter a number: -999999\n",
        "The total is 18\n",
        "```"
      ],
      "metadata": {
        "id": "xZ0IA4JFjUgO"
      }
    },
    {
      "cell_type": "code",
      "source": [],
      "metadata": {
        "id": "urPZxmHGjWKp"
      },
      "execution_count": null,
      "outputs": []
    },
    {
      "cell_type": "markdown",
      "source": [
        "**Q17**: Count numbers\n",
        "\n",
        "Write a program to count numbers that are between 18 and 30. The program first asks the user for $n$, the number of numbers that the user will enter. Then prompt a user to enter $n$ numbers.\n",
        "\n",
        "Example 1:\n",
        "```\n",
        ">Enter n: 3\n",
        ">Enter a number: 20\n",
        ">Enter a number: 30\n",
        ">Enter a number: 10\n",
        "2\n",
        "```\n",
        "Example 2:\n",
        "```\n",
        ">Enter n: 4\n",
        ">Enter a number: 50\n",
        ">Enter a number: 32\n",
        ">Enter a number: 10\n",
        ">Enter a number: 25\n",
        "1\n",
        "```\n",
        ""
      ],
      "metadata": {
        "id": "I7XL4jaNjhEg"
      }
    },
    {
      "cell_type": "code",
      "source": [],
      "metadata": {
        "id": "KEn3UjFqks2w"
      },
      "execution_count": null,
      "outputs": []
    }
  ]
}
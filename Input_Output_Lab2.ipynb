{
  "nbformat": 4,
  "nbformat_minor": 0,
  "metadata": {
    "colab": {
      "provenance": [],
      "authorship_tag": "ABX9TyMMxxCilisCtTlfi/7x+aXO",
      "include_colab_link": true
    },
    "kernelspec": {
      "name": "python3",
      "display_name": "Python 3"
    },
    "language_info": {
      "name": "python"
    }
  },
  "cells": [
    {
      "cell_type": "markdown",
      "metadata": {
        "id": "view-in-github",
        "colab_type": "text"
      },
      "source": [
        "<a href=\"https://colab.research.google.com/github/yongsa-nut/TU_CN101_67-1/blob/main/Input_Output_Lab2.ipynb\" target=\"_parent\"><img src=\"https://colab.research.google.com/assets/colab-badge.svg\" alt=\"Open In Colab\"/></a>"
      ]
    },
    {
      "cell_type": "markdown",
      "source": [
        "# Input Output Lab 2\n"
      ],
      "metadata": {
        "id": "2pGvo3NBxzK_"
      }
    },
    {
      "cell_type": "markdown",
      "source": [
        "**Q1**: What is the output?\n",
        "```python\n",
        "num1 = 15\n",
        "num2 = 4\n",
        "result = num1 / num2\n",
        "print(f\"The result is: {result:.2f}\")\n",
        "```"
      ],
      "metadata": {
        "id": "3aXev6Hm7TpI"
      }
    },
    {
      "cell_type": "code",
      "source": [],
      "metadata": {
        "id": "oqquuDmH7TEe"
      },
      "execution_count": null,
      "outputs": []
    },
    {
      "cell_type": "markdown",
      "source": [
        "**Q2**: What is the output?\n",
        "```python\n",
        "num = 1.23456\n",
        "result = f\"One decimal = {num:.1f}. Two decimal = {num:.2f}. Three decimal = {num:.3f}\"\n",
        "print(result)\n",
        "```"
      ],
      "metadata": {
        "id": "BDrawOEX7pfI"
      }
    },
    {
      "cell_type": "code",
      "source": [],
      "metadata": {
        "id": "3jTAISxjDk6u"
      },
      "execution_count": null,
      "outputs": []
    },
    {
      "cell_type": "markdown",
      "source": [
        "**Q3**: What is the output?\n",
        "\n",
        "```python\n",
        "x = 10\n",
        "y = 3\n",
        "z = 2\n",
        "result = (x + y) * z - x / y\n",
        "print(f\"The result is: {result}\")\n",
        "```"
      ],
      "metadata": {
        "id": "TqAx6xO-7ajE"
      }
    },
    {
      "cell_type": "code",
      "execution_count": null,
      "metadata": {
        "id": "TvR_mm_OxcsW"
      },
      "outputs": [],
      "source": []
    },
    {
      "cell_type": "markdown",
      "source": [
        "**Q4**: What is the output?\n",
        "```python\n",
        "x = 3\n",
        "y = 2\n",
        "z = (x**x)%y + 5*3/2\n",
        "print(f\"{z:.3f}\")\n",
        "```"
      ],
      "metadata": {
        "id": "JhXwG_m68F9T"
      }
    },
    {
      "cell_type": "code",
      "source": [],
      "metadata": {
        "id": "TybdnV6M8FeN"
      },
      "execution_count": null,
      "outputs": []
    },
    {
      "cell_type": "markdown",
      "source": [
        "**Q5**: What is the output?\n",
        "```python\n",
        "x = 0\n",
        "x = x + 1\n",
        "x = x + 2\n",
        "x = x + 3\n",
        "x + 4\n",
        "print(x)\n",
        "```"
      ],
      "metadata": {
        "id": "0Q2DNUvUCsZH"
      }
    },
    {
      "cell_type": "code",
      "source": [],
      "metadata": {
        "id": "G1Qb6iOdCzou"
      },
      "execution_count": null,
      "outputs": []
    },
    {
      "cell_type": "markdown",
      "source": [
        "**Q6**: Fill in the blanks so that the statement below print out the following:\n",
        "```\n",
        "1 2 2.5 25\n",
        "```"
      ],
      "metadata": {
        "id": "e44Tx5XD8TPq"
      }
    },
    {
      "cell_type": "code",
      "source": [
        "print(5 __ 2, 5 __ 2, 5 __ 2, 5 __ 2)"
      ],
      "metadata": {
        "id": "BsnEb_Au8S8_"
      },
      "execution_count": null,
      "outputs": []
    },
    {
      "cell_type": "markdown",
      "source": [
        "**Q7**: Fill in the blank so that the program print out 55"
      ],
      "metadata": {
        "id": "8eZymOOw8fNV"
      }
    },
    {
      "cell_type": "code",
      "source": [
        "string = \"50\"\n",
        "num = __(string) + 5 #fill in the blank here\n",
        "print(num)"
      ],
      "metadata": {
        "id": "8px5EscM8e8M"
      },
      "execution_count": null,
      "outputs": []
    },
    {
      "cell_type": "markdown",
      "source": [
        "**Q8**: Fill in the blank to properly format the f-string and print the person's name and age:\n",
        "\n",
        "The answer should be\n",
        "```\n",
        "Alice is 30 years old.\n",
        "```"
      ],
      "metadata": {
        "id": "ZLJNB9-R8iC5"
      }
    },
    {
      "cell_type": "code",
      "source": [
        "name = \"Alice\"\n",
        "age = 30\n",
        "print(f\"____ is __ years old.\")  # Fill here"
      ],
      "metadata": {
        "id": "9A1vCZyJ8kAR"
      },
      "execution_count": null,
      "outputs": []
    },
    {
      "cell_type": "markdown",
      "source": [
        "**Q9**: Fill in the blank so that when the user enters `10.234` the program prints out `10.2340`."
      ],
      "metadata": {
        "id": "cuKX6Ckx8kUv"
      }
    },
    {
      "cell_type": "code",
      "source": [
        "num = ___(input('Enter a number:'))\n",
        "print(f\"{num___}\")"
      ],
      "metadata": {
        "id": "5EhphKd-8mDW"
      },
      "execution_count": null,
      "outputs": []
    },
    {
      "cell_type": "markdown",
      "source": [
        "**Q10** Fix the bug in this code to correctly display the user's age after 10 years:"
      ],
      "metadata": {
        "id": "TlTsRK9268qD"
      }
    },
    {
      "cell_type": "code",
      "source": [
        "current_age = input(\"Enter your current age: \")\n",
        "future_age = current_age + 10\n",
        "print(f\"In 10 years, you will be {future_age} years old.\")"
      ],
      "metadata": {
        "id": "UbJIscob68M8"
      },
      "execution_count": null,
      "outputs": []
    },
    {
      "cell_type": "markdown",
      "source": [
        "**Q11** Correct the code to properly calculate and print the average of three numbers:"
      ],
      "metadata": {
        "id": "DoYmJg1h7Gjp"
      }
    },
    {
      "cell_type": "code",
      "source": [
        "num1 = 10\n",
        "num2 = 15\n",
        "num3 = 20\n",
        "average = num1 + num2 + num3 / 3\n",
        "print(f\"The average is: {average:.2f}\")"
      ],
      "metadata": {
        "id": "zRmhjbTD7GKa"
      },
      "execution_count": null,
      "outputs": []
    },
    {
      "cell_type": "markdown",
      "source": [
        "**Q12**: Fill in the blanks to calculate hour and minute from second.\n",
        "\n",
        "**Hint**:\n",
        "- 1 hours = 60*60 = 3600 seconds. You can use `//` to get the full number of hours.\n",
        "\n",
        "Minutes:\n",
        " - You can get the remaining minute by first convert total second to minute and then get the remaining minutes after hour using `%`.\n",
        " - Alternatively, you can get the remaining minute from `(total_second - hours*3600)` and then convert it to the remaining minutes similar to hours.\n",
        "\n",
        "Example 1:\n",
        "```\n",
        "Enter a number of seconds: 1000\n",
        "Hours: 0.00, minutes: 16.00, seconds = 40.00\n",
        "```\n",
        "\n",
        "Example 2:\n",
        "```\n",
        "Enter a number of seconds: 3666\n",
        "Hours: 1.00, minutes: 1.00, seconds = 6.00\n",
        "```"
      ],
      "metadata": {
        "id": "xM9gBXytEeKR"
      }
    },
    {
      "cell_type": "code",
      "source": [
        "total_second = float(input('Enter a number of seconds: '))\n",
        "hours = ___________________ #Calculate hours\n",
        "minutes = _________________ #Calculate remainng minutes\n",
        "seconds = total_second % 60 # Calculate the remaining second\n",
        "print(f\"Hours: {hours:.2f}, minutes: {minutes:.2f}, seconds = {seconds:.2f} \")"
      ],
      "metadata": {
        "id": "6psWTnKmEvSw"
      },
      "execution_count": null,
      "outputs": []
    },
    {
      "cell_type": "markdown",
      "source": [
        "**Q13**: BMI Calculator\n",
        "\n",
        "Write a program that calculates the Body Mass Index (BMI) of a person. Ask the user for their weight in kilograms and height in meters.\n",
        "\n",
        "The BMI is calculated using the following formula:\n",
        "BMI = $\\frac{\\text{weight (kg)}}{\\text{(height (m))}^2}$\n",
        "\n",
        "Input:\n",
        "\n",
        "- Real number, weight in kilograms\n",
        "- Real number, height in meters\n",
        "\n",
        "Output:\n",
        "- BMI, rounded to two decimal place\n",
        "\n",
        "Example1:\n",
        "```\n",
        ">Enter your weight in kg: 70\n",
        ">Enter your height in m: 1.75\n",
        "Your BMI is 22.9\n",
        "```\n",
        "\n",
        "Example2:\n",
        "```\n",
        ">Enter your weight in kg: 90\n",
        ">Enter your height in m: 1.80\n",
        "Your BMI is 27.8\n",
        "```"
      ],
      "metadata": {
        "id": "qOk5aoF1-eS6"
      }
    },
    {
      "cell_type": "code",
      "source": [],
      "metadata": {
        "id": "6dLb0_WN-giX"
      },
      "execution_count": null,
      "outputs": []
    },
    {
      "cell_type": "markdown",
      "source": [
        "**Q14**: Cashier Program\n",
        "\n",
        "Write a cashier program to calculate the total payment.\n",
        "\n",
        "There are 4 items: cookie (5 baht), water (10 baht), soda (20 baht), and popcorn (30)\n",
        "\n",
        "Input:\n",
        "- The number of cookie\n",
        "- The number of water\n",
        "- The number of soda\n",
        "- The number of popcorn\n",
        "\n",
        "Output:\n",
        "- The total payment\n",
        "\n",
        "Note:\n",
        "- You must use $\\texttt{Named constant}$.\n",
        "- Name your variables meaningfully!\n",
        "\n",
        "Example:\n",
        "\n",
        "```\n",
        "The number of cookie: 3\n",
        "The number of water: 2\n",
        "The number of soda: 0\n",
        "The number of popcorn: 1\n",
        "Total payment = 65 baht.\n",
        "```"
      ],
      "metadata": {
        "id": "_7UW0rVt-Dfw"
      }
    },
    {
      "cell_type": "code",
      "source": [],
      "metadata": {
        "id": "LRrfo-I8-DDm"
      },
      "execution_count": null,
      "outputs": []
    },
    {
      "cell_type": "markdown",
      "source": [
        "**Q15**: Calculate the Average GPA of a Classroom\n",
        "\n",
        "Write a Python program that calculates the average GPA (Grade Point Average) of a classroom based on the number of students who received each letter grade.\n",
        "\n",
        "Your program should:\n",
        "\n",
        "- Ask the user to input the number of students who received each letter grade (A, B, C, D, and F).\n",
        "- Calculate the total grade points by multiplying the number of students with the corresponding grade point for each letter grade.\n",
        "- Calculate the total number of students.\n",
        "- Calculate and display the average GPA of the classroom to two decimal places.\n",
        "\n",
        "Use the following grade point values:\n",
        "\n",
        "- A = 4.0\n",
        "- B = 3.0\n",
        "- C = 2.0\n",
        "- D = 1.0\n",
        "- F = 0.0\n",
        "\n",
        "**Input**:\n",
        "- 5 integer for the number of students who received each letter grade.\n",
        "\n",
        "**Output**:\n",
        "- One real number for the average GPA.\n",
        "\n",
        "**Note**:\n",
        "- You must use **NAME CONSTANT**.\n",
        "- Name your variables meaningfully!\n",
        "\n",
        "Example 1:\n",
        "```\n",
        ">Enter the number of A: 5\n",
        ">Enter the number of B: 10\n",
        ">Enter the number of C: 8\n",
        ">Enter the number of D: 4\n",
        ">Enter the number of F: 3\n",
        "The average GPA of the classroom is: 2.33\n",
        "```\n",
        "**Explanation**:\n",
        "- The total GPA is `5*4 + 10*3 + 8*2 + 4*1 + 3*0 = 70`\n",
        "- The total number of students is `5 + 10 + 8 + 4 + 3 = 30`\n",
        "- The average is `70/30 = 2.33`\n",
        "\n",
        "Example 2:\n",
        "```\n",
        "Enter the number of A: 0\n",
        "Enter the number of B: 10\n",
        "Enter the number of C: 3\n",
        "Enter the number of D: 5\n",
        "Enter the number of F: 1\n",
        "The average GPA of the classroom is: 2.16\n",
        "```"
      ],
      "metadata": {
        "id": "byAOnJCfx5dp"
      }
    },
    {
      "cell_type": "code",
      "source": [],
      "metadata": {
        "id": "IN9yrMnxx9rA"
      },
      "execution_count": null,
      "outputs": []
    },
    {
      "cell_type": "markdown",
      "source": [
        "## การส่ง\n",
        "- File -> Download -> Download .ipynb\n",
        "- Upload to Microsoft Teams"
      ],
      "metadata": {
        "id": "dsSJ-p0rP6pX"
      }
    }
  ]
}
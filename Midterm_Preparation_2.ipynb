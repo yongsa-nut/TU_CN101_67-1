{
  "nbformat": 4,
  "nbformat_minor": 0,
  "metadata": {
    "colab": {
      "provenance": [],
      "authorship_tag": "ABX9TyN/55GUGBhLjhHNNfVELobD",
      "include_colab_link": true
    },
    "kernelspec": {
      "name": "python3",
      "display_name": "Python 3"
    },
    "language_info": {
      "name": "python"
    }
  },
  "cells": [
    {
      "cell_type": "markdown",
      "metadata": {
        "id": "view-in-github",
        "colab_type": "text"
      },
      "source": [
        "<a href=\"https://colab.research.google.com/github/yongsa-nut/TU_CN101_67-1/blob/main/Midterm_Preparation_2.ipynb\" target=\"_parent\"><img src=\"https://colab.research.google.com/assets/colab-badge.svg\" alt=\"Open In Colab\"/></a>"
      ]
    },
    {
      "cell_type": "markdown",
      "source": [
        "**Q1**: What will the following program print out? Assume the user input 3 and 5.\n",
        "\n",
        "```python\n",
        "x = int(input('Enter x: '))\n",
        "y = int(input('Enter y: '))\n",
        "\n",
        "print(f'{x+y+10*5:.2f}, {x+y**2/2:.3f}')\n",
        "```"
      ],
      "metadata": {
        "id": "AGAMDidlRuwX"
      }
    },
    {
      "cell_type": "code",
      "execution_count": null,
      "metadata": {
        "id": "kOVmscCDRPha"
      },
      "outputs": [],
      "source": []
    },
    {
      "cell_type": "markdown",
      "source": [
        "**Q2**: Fill in the blanks so that the program outputs as shown below when the user enters 93784.\n",
        "\n",
        "```\n",
        ">Enter total second: 93784\n",
        "Day(s):1, Hour(s):2, Minute(s):3, Second(s):4\n",
        "```"
      ],
      "metadata": {
        "id": "ObBUIq3aSBc3"
      }
    },
    {
      "cell_type": "code",
      "source": [
        "MIN = 60\n",
        "HOUR = MIN * 60\n",
        "DAY = HOUR * 24\n",
        "seconds = _________________________________________\n",
        "days = seconds // DAY\n",
        "hours = seconds // HOUR % 24\n",
        "mins = seconds // MIN % 60\n",
        "seconds = _________________________________________\n",
        "print(f'Day(s):{days}, Hour(s):{hours}, ', end=' ')\n",
        "print(f'Minute(s):{mins}, Second(s):{seconds}')"
      ],
      "metadata": {
        "id": "vO35WQf1R_ZV"
      },
      "execution_count": null,
      "outputs": []
    },
    {
      "cell_type": "markdown",
      "source": [
        "**Q3**: Fill in the blank to check that the age is between 18 and 35 (inclusive)."
      ],
      "metadata": {
        "id": "4VkmdttkSNdj"
      }
    },
    {
      "cell_type": "code",
      "source": [
        "age = int(input(\"Please enter your age: \"))\n",
        "# Check if the age is between 18 and 35 (inclusive)\n",
        "if _________________________________________________:\n",
        "  print(\"You are in the youth category\")\n",
        "else:\n",
        "  print(\"You are not in the youth category\")"
      ],
      "metadata": {
        "id": "P1KoUkM3SOoU"
      },
      "execution_count": null,
      "outputs": []
    },
    {
      "cell_type": "markdown",
      "source": [
        "**Q4**: Given the code below\n",
        "\n",
        "```python\n",
        "value = 5\n",
        "while value >= -5:\n",
        "    print(value)\n",
        "    value -= 2\n",
        "```\n",
        "\n",
        "Fill in the blank below so that the program output the same thing"
      ],
      "metadata": {
        "id": "_g13d6UKSeuI"
      }
    },
    {
      "cell_type": "code",
      "source": [
        "for ________________________________________________:\n",
        "    print(value)"
      ],
      "metadata": {
        "id": "6MLwSbtuSgHU"
      },
      "execution_count": null,
      "outputs": []
    },
    {
      "cell_type": "markdown",
      "source": [
        "**Q5**: What will the following program output?\n",
        "\n",
        "```python\n",
        "a = False\n",
        "b = False\n",
        "c = False\n",
        "\n",
        "if a and not b and not c:\n",
        "  print(\"First\")\n",
        "elif a or not b and not c:\n",
        "  print(\"Second\")\n",
        "else:\n",
        "  print(\"Third\")\n",
        "```"
      ],
      "metadata": {
        "id": "s0uNsw8yTT10"
      }
    },
    {
      "cell_type": "code",
      "source": [],
      "metadata": {
        "id": "PJRhEYmZTTla"
      },
      "execution_count": null,
      "outputs": []
    },
    {
      "cell_type": "markdown",
      "source": [
        "**Q6**: What will this program print out?\n",
        "\n",
        "```python\n",
        "score = 95\n",
        "if score >= 90:\n",
        "    print('A', end='')\n",
        "if score >= 80:\n",
        "    print('B', end='')\n",
        "if score >= 70:\n",
        "    print('C', end='')\n",
        "else:\n",
        "    print('D', end='')\n",
        "\n",
        "```"
      ],
      "metadata": {
        "id": "QGpimmyHTu9e"
      }
    },
    {
      "cell_type": "code",
      "source": [],
      "metadata": {
        "id": "onAUL77xT0o6"
      },
      "execution_count": null,
      "outputs": []
    },
    {
      "cell_type": "markdown",
      "source": [
        "**Q9**: Fill in the blank so that the program print out 18."
      ],
      "metadata": {
        "id": "mo6cm6n7VfWb"
      }
    },
    {
      "cell_type": "code",
      "source": [
        "m = 0\n",
        "for i in range(0, 10, ___________):\n",
        "   m += i\n",
        "print(m)"
      ],
      "metadata": {
        "id": "WPprvbkCVjC4"
      },
      "execution_count": null,
      "outputs": []
    },
    {
      "cell_type": "markdown",
      "source": [
        "**Q8**: What will this program print out?\n",
        "```python\n",
        "num = 0\n",
        "total = 1\n",
        "while num < 8:\n",
        "   num = num + 2\n",
        "   total = total * 2\n",
        "print(total)\n",
        "```"
      ],
      "metadata": {
        "id": "u8zVnlCvUWXQ"
      }
    },
    {
      "cell_type": "code",
      "source": [],
      "metadata": {
        "id": "RvP3GyaLUWyj"
      },
      "execution_count": null,
      "outputs": []
    },
    {
      "cell_type": "markdown",
      "source": [
        "**Q9**: What will this program print out?\n",
        "```python\n",
        "count = 0\n",
        "for i in range(0, 6, 2):\n",
        "   for j in range(3):\n",
        "      if j >= i:\n",
        "         count = count + 1\n",
        "print(count)\n",
        "```"
      ],
      "metadata": {
        "id": "LYWxjhQEUdzm"
      }
    },
    {
      "cell_type": "code",
      "source": [],
      "metadata": {
        "id": "jI2jL3n7UeC9"
      },
      "execution_count": null,
      "outputs": []
    },
    {
      "cell_type": "markdown",
      "source": [
        "**Q10**: Fill in the blank below so that the program add the two lists together and store the result in `seq1`.\n",
        "\n",
        "The program will print out `[4, 3, 6, 9, 6]`."
      ],
      "metadata": {
        "id": "7emtaAAhU12B"
      }
    },
    {
      "cell_type": "code",
      "source": [
        "seq1 = [1, 2, 3, 4, 5]\n",
        "seq2 = [3, 1, 3, 5, 1]\n",
        "for i in range(len(seq1)):\n",
        "  _____________________________\n",
        "print(seq1)"
      ],
      "metadata": {
        "id": "51I1LCfFU4fj"
      },
      "execution_count": null,
      "outputs": []
    },
    {
      "cell_type": "markdown",
      "source": [
        "**Q11**: Nim Game\n",
        "\n",
        "เขียนโปรแกรมเพื่อสร้างเกม Nim ในเกมนี้มีผู้เล่นสองคน ผู้เล่นแต่ละคนผลัดกันนับจำนวนลงทีละ 1 หรือ 2 ใครนับถึงศูนย์ก่อนเป็นฝ่ายแพ้ จำนวนเริ่มต้นคือ 10\n",
        "\n",
        "**คำแนะนำ:**\n",
        "\n",
        "คุณสามารถกำหนดลำดับการเล่น (ผู้เล่นคนแรกหรือคนที่สอง) โดยตรวจสอบจำนวนรอบ ถ้าจำนวนรอบเป็นเลขคี่ แสดงว่าเป็นผู้เล่นคนแรก ถ้าจำนวนรอบเป็นเลขคู่ แสดงว่าเป็นผู้เล่นคนที่สอง\n",
        "\n",
        "**Example**\n",
        "```\n",
        ">First player turn: 1\n",
        "Remaining = 9\n",
        ">Second player turn: 2\n",
        "Remaining = 7\n",
        ">First player turn: 1\n",
        "Remaining = 6\n",
        ">Second player turn: 2\n",
        "Remaining = 4\n",
        ">First player turn: 1\n",
        "Remaining = 3\n",
        ">Second player turn: 2\n",
        "Remaining = 1\n",
        ">First player turn: 1\n",
        "Second player wins.\n",
        "```\n"
      ],
      "metadata": {
        "id": "w1DXWhdBWebB"
      }
    },
    {
      "cell_type": "code",
      "source": [
        "remaining = 10\n",
        "turn = 1\n",
        "\n",
        "# loop while remaining is greater than 0\n",
        "________________:\n",
        "  _________________  # if first player turn\n",
        "  _________________  # Ask for the first player input\n",
        "  _________________  # else (second player turn)\n",
        "  _________________  # Ask for the second player input\n",
        "  _________________  # Update the remaining\n",
        "  _________________  # Update the turn number\n",
        "# Out of the loop\n",
        "___________________  # check and print out the winner\n",
        "___________________\n",
        "___________________\n",
        "___________________"
      ],
      "metadata": {
        "id": "NG8COjVnWeqY"
      },
      "execution_count": null,
      "outputs": []
    },
    {
      "cell_type": "markdown",
      "source": [
        "**Q12**: ขายช็อคโกแลต\n",
        "\n",
        "โจทย์ข้อนี้คือการเขียนโปรแกรมเพื่อคำนวณต้นทุนรวมของกล่องช็อกโกแลต กล่องช็อกโกแลตหนึ่งกล่องประกอบด้วยช็อกโกแลต 12 ชิ้น ช็อกโกแลตแต่ละชิ้นต้องใช้ **เมล็ดโกโก้ 4 เมล็ด น้ำตาล 10 กรัม และเนยโกโก้ 1 ก้อน**\n",
        "ผู้ใช้จะป้อนราคาของเมล็ดโกโก้ น้ำตาล (ต่อกรัม) และเนยโกโก้\n",
        "คุณจะต้องใช้ส่วนลดดังต่อไปนี้:\n",
        "\n",
        "- ถ้าคุณซื้อเมล็ดโกโก้อย่างน้อย 100 เมล็ด คุณจะได้รับส่วนลด 20% สำหรับราคาเมล็ดโกโก้\n",
        "- ถ้าคุณซื้อน้ำตาลอย่างน้อย 500 กรัม คุณจะได้รับส่วนลด 10% สำหรับราคาน้ำตาล\n",
        "\n",
        "**ข้อมูลนำเข้า**\n",
        "- จำนวนเต็ม: จำนวนกล่องช็อกโกแลต\n",
        "- จำนวนจริง: ราคาของเมล็ดโกโก้หนึ่งเมล็ด\n",
        "- จำนวนจริง: ราคาของน้ำตาล (ต่อกรัม)\n",
        "- จำนวนจริง: ราคาของเนยโกโก้หนึ่งก้อน\n",
        "\n",
        "**ข้อมูลส่งออก**\n",
        "- แสดงราคาก่อนหักส่วนลด โดยแสดงทศนิยมสองตำแหน่ง\n",
        "- แสดงราคาหลังหักส่วนลด โดยแสดงทศนิยมสองตำแหน่ง\n",
        "\n",
        "**Examples:**\n",
        "\n",
        "**Example 1**\n",
        "```\n",
        "Enter the number of chocolate boxes: 1  \n",
        "Enter the cost of one cocoa bean: 5    \n",
        "Enter the cost of sugar (per gram): 1  \n",
        "Enter the cost of one cocoa butter: 10  \n",
        "Cost before discount: 480.00           \n",
        "Cost after discount: 480.00            \n",
        "```\n",
        "**Explanation**:\n",
        "- One chocolate box = 1*12 = 12 chocolates\n",
        "- The total number of cocoa beans = 12*4 = 48.\n",
        "- The total number of sugar = 12*10 = 120.\n",
        "- The total number of cocoa butter = 12*1 =12.\n",
        "- The total cost before the discount = 48\\*5 + 120\\*1 + 12\\*10 = 480.\n",
        "- No discount conditions are met so the total cost after discount is 480.\n",
        "\n",
        "\n",
        "**Example 2**\n",
        "```\n",
        "Enter the number of chocolate boxes: 5\n",
        "Enter the cost of one cocoa bean: 10  \n",
        "Enter the cost of sugar (per gram): 2\n",
        "Enter the cost of one cocoa butter: 50\n",
        "Cost before discount: 6600.00         \n",
        "Cost after discount: 6000.00          \n",
        "```\n",
        "**Explanation**:\n",
        "- Five chocolate boxes = 5*12 = 60 chocolates\n",
        "- The total number of cocoa beans = 60*4 = 240.\n",
        "- The total number of sugar = 60*10 = 600.\n",
        "- The total number of cocoa butter = 60*1 =60.\n",
        "- The total cost before the discount = 240\\*10 + 600\\*2 + 60\\*50 = 6600.\n",
        "- The number of cocoa beans is above 100 so you get the discount on cocoa beans:\n",
        "  * Discount on cocoa = 240\\*10\\*0.2 = 480\n",
        "- The amount of sugur is above 500 grams so you get the discount on the sugar:\n",
        "  * Discount on sugar = 600\\*2\\*0.1 = 120\n",
        "- The total cost after the discount 6600 - 480 - 120 = 6000\n",
        "\n",
        "**Example 3**\n",
        "```\n",
        "Enter the number of chocolate boxes: 20   \n",
        "Enter the cost of one cocoa bean: 5       \n",
        "Enter the cost of sugar (per gram): 2     \n",
        "Enter the cost of one cocoa butter: 20.50  \n",
        "Cost before discount: 14520.00            \n",
        "Cost after discount: 13080.00             \n",
        "```"
      ],
      "metadata": {
        "id": "G352DeV4Wq32"
      }
    },
    {
      "cell_type": "code",
      "source": [],
      "metadata": {
        "id": "wKHCwFDwWqpl"
      },
      "execution_count": null,
      "outputs": []
    }
  ]
}
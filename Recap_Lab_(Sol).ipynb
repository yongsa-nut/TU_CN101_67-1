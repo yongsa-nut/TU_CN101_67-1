{
  "nbformat": 4,
  "nbformat_minor": 0,
  "metadata": {
    "colab": {
      "provenance": [],
      "authorship_tag": "ABX9TyMOtZRGLEp7Ssz7cZXSSep7",
      "include_colab_link": true
    },
    "kernelspec": {
      "name": "python3",
      "display_name": "Python 3"
    },
    "language_info": {
      "name": "python"
    }
  },
  "cells": [
    {
      "cell_type": "markdown",
      "metadata": {
        "id": "view-in-github",
        "colab_type": "text"
      },
      "source": [
        "<a href=\"https://colab.research.google.com/github/yongsa-nut/TU_CN101_67-1/blob/main/Recap_Lab_(Sol).ipynb\" target=\"_parent\"><img src=\"https://colab.research.google.com/assets/colab-badge.svg\" alt=\"Open In Colab\"/></a>"
      ]
    },
    {
      "cell_type": "markdown",
      "source": [
        "เขียนชื่อ นามสกุล และ id ด้านล่าง"
      ],
      "metadata": {
        "id": "4sC0HJKPSxuo"
      }
    },
    {
      "cell_type": "code",
      "source": [],
      "metadata": {
        "id": "AQCnvbL8V9N5"
      },
      "execution_count": null,
      "outputs": []
    },
    {
      "cell_type": "markdown",
      "source": [
        "**Q1** จงหาผลลัพธ์ของโปรแกรมต่อไปนี้\n",
        "\n",
        "```python\n",
        "num = 1\n",
        "def aaa():\n",
        "  num = 0\n",
        "  print(num)\n",
        "\n",
        "def bbb():\n",
        "  global num\n",
        "  num += 2\n",
        "\n",
        "bbb()\n",
        "aaa()\n",
        "bbb()\n",
        "print(num)\n",
        "```"
      ],
      "metadata": {
        "id": "fpqwUp-RraJf"
      }
    },
    {
      "cell_type": "code",
      "source": [
        "0\n",
        "5"
      ],
      "metadata": {
        "id": "9dn_zoFTqaE9"
      },
      "execution_count": null,
      "outputs": []
    },
    {
      "cell_type": "markdown",
      "source": [
        "**Q2** จงหาผลลัพธ์ของโปรแกรมต่อไปนี้\n",
        "\n",
        "```python\n",
        "my_number = list(range(1,15,4))\n",
        "new_nums = [num-1 for num in my_number]\n",
        "print(new_nums)\n",
        "```"
      ],
      "metadata": {
        "id": "PmEGxiT6rr4S"
      }
    },
    {
      "cell_type": "code",
      "source": [
        "[0, 4, 8, 12]"
      ],
      "metadata": {
        "id": "rBuEtFKjrtjM"
      },
      "execution_count": null,
      "outputs": []
    },
    {
      "cell_type": "markdown",
      "source": [
        "**Q3** จงหาผลลัพธ์ของโปรแกรมต่อไปนี้\n",
        "\n",
        "```python\n",
        "our_dict = {'Anna':2, 'Mary':3, 'Joe':4, 'Nancy': 7}\n",
        "our_dict['Anna'] = 5\n",
        "print(our_dict['Joe'], our_dict['Anna']*2)\n",
        "```"
      ],
      "metadata": {
        "id": "AQ49hkpRrtwO"
      }
    },
    {
      "cell_type": "code",
      "source": [
        "4 10"
      ],
      "metadata": {
        "id": "vokNqsTyruad"
      },
      "execution_count": null,
      "outputs": []
    },
    {
      "cell_type": "markdown",
      "source": [
        "**Q4** จงหาผลลัพธ์ของโปรแกรมต่อไปนี้\n",
        "\n",
        "```python\n",
        "TwoD = [[2,3,4],\n",
        "        [1,2],\n",
        "        [7,8,0]]\n",
        "print(TwoD[0][0] + TwoD[1][1] + TwoD[2][1])\n",
        "```"
      ],
      "metadata": {
        "id": "hglzB-1truvk"
      }
    },
    {
      "cell_type": "code",
      "source": [
        "12"
      ],
      "metadata": {
        "id": "-phYIgtJrvZ_"
      },
      "execution_count": null,
      "outputs": []
    },
    {
      "cell_type": "markdown",
      "source": [
        "**Q5** จงหาผลลัพธ์ของโปรแกรมต่อไปนี้\n",
        "```python\n",
        "temp = ''\n",
        "for s in ['Aabc','ABC','eee']:\n",
        "  temp += s\n",
        "new_str = temp.lstrip('A').rstrip('e').strip('a')\n",
        "print(new_str)\n",
        "```"
      ],
      "metadata": {
        "id": "P2q9VQbwrvrQ"
      }
    },
    {
      "cell_type": "code",
      "source": [
        "bcABC"
      ],
      "metadata": {
        "id": "leNEqX1frwpM"
      },
      "execution_count": null,
      "outputs": []
    },
    {
      "cell_type": "markdown",
      "source": [
        "**Q6** จงหาผลลัพธ์ของโปรแกรมต่อไปนี้\n",
        "\n",
        "```python\n",
        "def do_aaa(x):\n",
        "  a = x+1\n",
        "  b = x*2\n",
        "  c = x/5\n",
        "  return a, b ,c\n",
        "outs = do_aaa(5)\n",
        "print(f\"{outs[1]}, {outs[2]}, {outs[0]}\")\n",
        "```"
      ],
      "metadata": {
        "id": "zOyWmsP8k9YP"
      }
    },
    {
      "cell_type": "code",
      "source": [
        "10 1.0 6"
      ],
      "metadata": {
        "id": "avi4NDnqk-FW"
      },
      "execution_count": null,
      "outputs": []
    },
    {
      "cell_type": "markdown",
      "source": [
        "**Qุ7** จงเติมคำลงในช่องว่างเพื่อให้ ได้ผลลัพท์เป็น 'SON'"
      ],
      "metadata": {
        "id": "9iI5kspdvsa4"
      }
    },
    {
      "cell_type": "code",
      "source": [
        "my_text = \"LAN_SI_BOM\"\n",
        "print(my_text[4] + my_text[8] + my_text[2])"
      ],
      "metadata": {
        "id": "r-Nzi2YGv6XT",
        "outputId": "caf264be-4555-435a-9df5-bde576ebd01d",
        "colab": {
          "base_uri": "https://localhost:8080/"
        }
      },
      "execution_count": null,
      "outputs": [
        {
          "output_type": "stream",
          "name": "stdout",
          "text": [
            "SON\n"
          ]
        }
      ]
    },
    {
      "cell_type": "markdown",
      "source": [
        "**Qุ8** จงเติมคำลงในช่องว่างเพื่อให้ ได้ผลลัพท์เป็น [5, 20, 35]"
      ],
      "metadata": {
        "id": "no-BdxQCzxFj"
      }
    },
    {
      "cell_type": "code",
      "source": [
        "my_list = [1, 5, 10, 15, 20, 25, 30, 35]\n",
        "print(my_list[1::3])"
      ],
      "metadata": {
        "id": "dW7gegCHz0-U",
        "outputId": "27a8b5e1-bf35-404f-dde2-8466838b035a",
        "colab": {
          "base_uri": "https://localhost:8080/"
        }
      },
      "execution_count": null,
      "outputs": [
        {
          "output_type": "stream",
          "name": "stdout",
          "text": [
            "[5, 20, 35]\n"
          ]
        }
      ]
    },
    {
      "cell_type": "markdown",
      "source": [
        "**Qุ9** จงเติมคำลงในช่องว่างเพื่อให้ ได้ผลลัพท์เป็น `[1,3,5,7]`"
      ],
      "metadata": {
        "id": "w_407F0Y0-Bb"
      }
    },
    {
      "cell_type": "code",
      "source": [
        "results = []\n",
        "for i in range(8):\n",
        "  if i%2 == 0:\n",
        "     results.append(i+1)\n",
        "print(results)"
      ],
      "metadata": {
        "id": "lzIGdw2a0_rd",
        "outputId": "906cd08f-d93e-4b6f-e4d8-f3c7002f75ea",
        "colab": {
          "base_uri": "https://localhost:8080/"
        }
      },
      "execution_count": null,
      "outputs": [
        {
          "output_type": "stream",
          "name": "stdout",
          "text": [
            "[1, 3, 5, 7]\n"
          ]
        }
      ]
    },
    {
      "cell_type": "markdown",
      "source": [
        "**Qุ10** จงเติมคำลงในช่องว่างเพื่อให้ ได้ผลลัพท์เป็น 150"
      ],
      "metadata": {
        "id": "3oNVCnWG0_8C"
      }
    },
    {
      "cell_type": "code",
      "source": [
        "your_dict = {'A':2, 'B':15, 'C': 5}\n",
        "total = 1\n",
        "for key in your_dict:\n",
        "  total *= your_dict[key]\n",
        "print(total)"
      ],
      "metadata": {
        "id": "luv6CQvN1B7k",
        "outputId": "6fe5dfb7-43ef-4ce8-81a7-d5f4aae5977f",
        "colab": {
          "base_uri": "https://localhost:8080/"
        }
      },
      "execution_count": null,
      "outputs": [
        {
          "output_type": "stream",
          "name": "stdout",
          "text": [
            "150\n"
          ]
        }
      ]
    },
    {
      "cell_type": "markdown",
      "source": [
        "**Q11** Circle's properties\n",
        "\n",
        "สร้างฟังก์ชัน `circle_properties(radius)` ซึ่งรับข้อมูลรัศมีเข้า และส่ง พื้นที่กับเส้นรอบวงออกมาthat\n",
        "\n",
        "ข้อมูลนำเข้า:\n",
        "- Real number. the radius.\n",
        "\n",
        "ข้อมูลส่งออก:\n",
        "- Real number. Area of the circle in two decimals.\n",
        "- Real number. Circumference in two decimals.\n",
        "\n",
        "ตัวอย่างที่ 1:\n",
        "\n",
        "```\n",
        "Enter the radius: 1\n",
        "Area: 3.14\n",
        "Circumference: 6.28\n",
        "```\n",
        "ตัวอย่างที่ 2:\n",
        "```\n",
        "Enter the radius: 2.5\n",
        "Area: 19.63\n",
        "Circumference: 15.71\n",
        "```"
      ],
      "metadata": {
        "id": "xmSH-UItUYF_"
      }
    },
    {
      "cell_type": "code",
      "source": [
        "# import\n",
        "import math\n",
        "\n",
        "# Implement circle_properties(radius) function here\n",
        "def circle_properties(radius):\n",
        "  area = math.pi*radius**2\n",
        "  circumference = math.pi*radius*2\n",
        "  return area, circumference\n",
        "\n",
        "def main():\n",
        "  radius = float(input(\"Enter the radius: \"))\n",
        "  # call circle_properties(radius) below\n",
        "  a, c = circle_properties(radius)\n",
        "  print(f\"Area: {a:.2f}\")\n",
        "  print(f\"Circumference: {c:.2f}\")\n",
        "\n",
        "\n",
        "main()"
      ],
      "metadata": {
        "id": "31iH8UdSVGL6",
        "outputId": "cd8cc0f3-2029-499d-f046-324859c2078a",
        "colab": {
          "base_uri": "https://localhost:8080/"
        }
      },
      "execution_count": null,
      "outputs": [
        {
          "output_type": "stream",
          "name": "stdout",
          "text": [
            "Enter the radius: 1\n",
            "Area: 3.14\n",
            "Circumference: 6.28\n"
          ]
        }
      ]
    },
    {
      "cell_type": "markdown",
      "source": [
        "**Q12**: Discount Price\n",
        "\n",
        "จงเขียนโปรแกรมคำนวณหาราคาของที่ได้ลดราคา โดย user จะป้อนจำนวนของที่ซื้อ และ % ที่ได้ลดราคา. กำหนดให้ราคาของต่อชิ้นคือ 50 บาท และถ้าซื้อมากกว่า 1000 จะได้ลดราคา\n",
        "\n",
        "ข้อมูลนำเข้า\n",
        "- ราคาของ เป็นจำนวนจริง\n",
        "- % discount เป็นจำนวนจริง\n",
        "\n",
        "ข้อมูลส่งออก\n",
        "- ราคาก่อนลด เป็นจำนวนจริง\n",
        "- ราคาหลังลด เป็นจำนวนจริง\n",
        "\n",
        "ข้อกำหนดของ function\n",
        "- `discount_price(amount, percent)` function\n",
        "  - `amount`: คือตัวเลขจำนวนของ, `percent`: คือตัวเลขที่ของ % ลดราคา\n",
        "  - คำนวณหาค่าลดราคา\n",
        "  - ส่งข้อมูลออกสองค่า ราคาก่อนลด และ ราคาหลังลด\n",
        "- `main()` function\n",
        "  - รับข้อมูล จำนวนของที่ซื้อ และ percent ลดราคาจาก user\n",
        "  - เรียกใช้ `discount_price()` และนำผลที่ได้มาแสดงผล\n",
        "\n",
        "ตัวอย่างที่ 1\n",
        "```\n",
        "Enter amount: 10\n",
        "Enter discount %: 10\n",
        "Original price: 500.00\n",
        "Discount price: 500.00\n",
        "```\n",
        "\n",
        "ตัวอย่างที่ 2\n",
        "```\n",
        "Enter amount: 100\n",
        "Enter discount %: 20\n",
        "Original price: 5000.00\n",
        "Discount price: 4000.00\n",
        "```"
      ],
      "metadata": {
        "id": "q4CLsAeCVJyj"
      }
    },
    {
      "cell_type": "code",
      "source": [
        "ITEM_PRICE = 50\n",
        "PRICE_THRESHOLD = 1000\n",
        "\n",
        "def discount_price(amount, percent):\n",
        "  total_price = amount*ITEM_PRICE\n",
        "  if total_price > PRICE_THRESHOLD:\n",
        "    discount = total_price * (100-percent)/100\n",
        "  else:\n",
        "    discount = total_price\n",
        "  return total_price, discount\n",
        "\n",
        "def main():\n",
        "  amount = int(input(\"Enter amount: \"))\n",
        "  percent = float(input(\"Enter discount %: \"))\n",
        "  outputs = discount_price(amount, percent)\n",
        "  print(f'Original price: {outputs[0]:.2f}')\n",
        "  print(f'Discount price: {outputs[1]:.2f}')\n",
        "\n",
        "main()"
      ],
      "metadata": {
        "id": "HY26YdsZW0Pb",
        "outputId": "d2aa857b-22eb-47fb-82cf-ef7bc74b7591",
        "colab": {
          "base_uri": "https://localhost:8080/"
        }
      },
      "execution_count": null,
      "outputs": [
        {
          "output_type": "stream",
          "name": "stdout",
          "text": [
            "Enter amount: 100\n",
            "Enter discount %: 20\n",
            "Original price: 5000.00\n",
            "Discount price: 4000.00\n"
          ]
        }
      ]
    },
    {
      "cell_type": "markdown",
      "source": [
        "**Q13** Probability Calculation\n",
        "\n",
        "จงเขียนโปรแกรม เพื่อคำนวณค่าผลคูณของ probability. สำหรับโปรแกรมนี้นั้นจะรับข้อมูลเข้ามาเป็นตัวเลขจำนวนจริงคั่นด้วยcommas หลังจากนั้นโปรแกรมจะเปลี่ยนค่าตัวเลขทั้งหมดให้เป็น probabaility โดย softmax function, $x_i = \\frac{e^{x_i}}{\\sum_ie^{x_i}}$. ตัวอย่างเช่น x = [1,2,3] ค่า $x_0 = \\frac{e^{1}}{e^{1}+e^{2}+e^{3}}$\n",
        "\n",
        "หลังจากนั้นจึงนำค่าที่มา คำนวณหาผลคูณของ probability ทั้งหมด สองแบบ.\n",
        "- แบบที่หนึ่งคือการคำนวณโดยตรง ด้วยการเอาเลขทุกตัวมาคูณกัน\n",
        "- แบบที่สองคือการใช้ Log-Sum-Exponential. ซึ่งก็คือให้หา ผลบวกของ log ของ probability ทั้งหมดก่อน แล้วจึงยกกำลังเพื่อให้ได้ค่าผลคูณ. เราสามารถทำแบบนี้ได้ เพราะ $e^{log(xy)} = e^{log(x) + log(y)}$.\n",
        "\n",
        "ข้อมูลนำเข้า\n",
        "- เลขจำนวนจริงหลายตัว คั่นด้วย commas\n",
        "\n",
        "ข้อมูลส่งออก\n",
        "- List ของ probability จาก softmax\n",
        "- ค่าผลคูณทั้งหมดแบบปกติ\n",
        "- ค่าผลคูณจาก log-sum-exponential\n",
        "\n",
        "ข้อกำหนดของ function\n",
        "- `get_numbers()` function\n",
        "  - รับค่า input จาก user\n",
        "  - เปลี่ยน string เป็น list ของตัวเลข\n",
        "  - ส่งค่า list ของตัวเลข ออก\n",
        "- `softmax(numbers)` function\n",
        "  - `numbers`: list ของตัวเลข\n",
        "  - สร้าง list ใหม่ โดยที่ตัวเลขทุกตัวให้เป็น probability ตามสมการ softmax ด้านบน\n",
        "  - ส่ง list ใหม่ที่ได้ออกมา\n",
        "- `mul_prob(probs)` function\n",
        "  - `probs`: list ของ probability\n",
        "  - ส่งผลคูณของ probability ทั้งหมดออกมา\n",
        "- `log_sum_exp(probs)` function\n",
        " - `probs`: list ของ probability\n",
        "  - ส่งผลคูณของ probability ทั้งหมดออกมาโดยใช้วิธี log, sum, exponential ตามที่อธิบายด้านบน\n",
        "- `main()` function\n",
        "  - เรียกใช้ `get_numbers()` และเก็บข้อมูลที่ได้ไว้\n",
        "  - เรียกใช้ `softmax(numbers)` เพื่อสร้าง list ของ probability\n",
        "  - เรียกใช้ `mul_prob(probs)` และแสดงผลที่ได้ออกมา\n",
        "  - เรียกใช้ `log_sum_exp(probs)` และแสดงผลที่ได้ออกมา\n",
        "\n",
        "ตัวอย่างที่ 1\n",
        "```\n",
        "Enter numbers: 1,2,3,4\n",
        "Probabilities: [0.03205860328008499, 0.08714431874203257, 0.23688281808991013, 0.6439142598879722]\n",
        "Product: 0.00042613311062571056\n",
        "Log-sum-exp product: 0.0004261331106257103\n",
        "```\n",
        "\n",
        "ตัวอย่างที่ 2\n",
        "```\n",
        "Enter numbers: 1,1,1,1,1,1,1,1,1,1\n",
        "Probabilities: [0.1, 0.1, 0.1, 0.1, 0.1, 0.1, 0.1, 0.1, 0.1, 0.1]\n",
        "Product: 1.0000000000000006e-10\n",
        "Log-sum-exp product: 9.999999999999996e-11\n",
        "```"
      ],
      "metadata": {
        "id": "smTEhIeZS03g"
      }
    },
    {
      "cell_type": "code",
      "source": [
        "import math\n",
        "\n",
        "def get_numbers():\n",
        "  numbers_str = input(\"Enter numbers: \")\n",
        "  numbers = numbers_str.split(',')\n",
        "  for i in range(len(numbers)):\n",
        "    numbers[i] = int(numbers[i])\n",
        "  return numbers\n",
        "\n",
        "def softmax(numbers):\n",
        "  exp_numbers = [math.exp(x) for x in numbers]\n",
        "  sum_exp = sum(exp_numbers)\n",
        "\n",
        "  probabilities = [x/sum_exp for x in exp_numbers]\n",
        "\n",
        "  return probabilities\n",
        "\n",
        "def mul_prob(probs):\n",
        "  mul = 1\n",
        "  for prob in probs:\n",
        "    mul *= prob\n",
        "  return mul\n",
        "\n",
        "def log_sum_exp(probs):\n",
        "  total = 0\n",
        "  for prob in probs:\n",
        "    total += math.log(prob)\n",
        "  return math.exp(total)\n",
        "\n",
        "def main():\n",
        "  numbers = get_numbers()\n",
        "  probabilities = softmax(numbers)\n",
        "  print(\"Probabilities:\", probabilities)\n",
        "\n",
        "  product = mul_prob(probabilities)\n",
        "  print(\"Product:\", product)\n",
        "\n",
        "  log_product = log_sum_exp(probabilities)\n",
        "  print(\"Log-sum-exp product:\", log_product)\n",
        "\n",
        "main()"
      ],
      "metadata": {
        "id": "pxb8hj-vS7ds",
        "outputId": "fe06a4c7-af15-4cff-f0c8-3af5b009879a",
        "colab": {
          "base_uri": "https://localhost:8080/"
        }
      },
      "execution_count": null,
      "outputs": [
        {
          "output_type": "stream",
          "name": "stdout",
          "text": [
            "Enter numbers: 1,2,3,4\n",
            "Probabilities: [0.03205860328008499, 0.08714431874203257, 0.23688281808991013, 0.6439142598879722]\n",
            "Product: 0.00042613311062571056\n",
            "Log-sum-exp product: 0.0004261331106257103\n"
          ]
        }
      ]
    },
    {
      "cell_type": "markdown",
      "source": [
        "**Q14** Name's length\n",
        "\n",
        "จงเขียนโปรแกรมเพื่อรับชื่อหลายชื่อเข้ามา ซึ่งชื่อแต่ละชื่อจะคั่นด้วยช่องว่าง หลังจากนั้นจงสร้าง dictionary ที่ประกอบไปด้วยชื่อที่มีความยาว 3, 4, 5 เก็บไว้ใน list. และหาจำนวนชื่อของความยาวแต่ละอัน\n",
        "\n",
        "ข้อมูลนำเข้า\n",
        "- String ชื่อหลายชื่อคั่นด้วยช่องว่าง\n",
        "\n",
        "ข้อมูลส่งออก\n",
        "- Dictionary ที่เก็บค่าชื่อความยาว 3, 4, 5 ทั้งหมดไว้\n",
        "- จำนวนชื่อความยาว 3, 4, 5\n",
        "\n",
        "ข้อกำหนด function\n",
        "- `get_names()` function\n",
        "  - รับข้อมูลจาก user\n",
        "  - สร้าง dictionary ที่เก็บ ชื่อที่มีความยาว 3, 4, 5\n",
        "  - ส่ง dictionary ที่ได้ออกมา\n",
        "- `num_names(names_dict)` function\n",
        "  - `name_dict` รับ dictionary ที่เก็บชื่อที่มีความยาว 3, 4, 5 ไว้\n",
        "  - แสดงผลออก จำนวนชื่อความยาว 3, 4, 5\n",
        "- `main()` function\n",
        "  - เรียกใช้ `get_names()` และเก็บ dictionary ที่ได้มาแสดงผล\n",
        "  - เรียกใช้ `num_names(names_dict)`\n",
        "\n",
        "ตัวอย่างที่ 1\n",
        "```\n",
        "Enter names: Bob Cat Rose Rose Anna Alice Kido Anatasia Yo\n",
        "{3: ['Bob', 'Cat'], 4: ['Rose', 'Rose', 'Anna', 'Kido'], 5: ['Alice']}\n",
        "Number of names with length 3: 2\n",
        "Number of names with length 4: 4\n",
        "Number of names with length 5: 1\n",
        "```\n",
        "\n",
        "ตัวอย่างที่ 2\n",
        "```\n",
        "Enter names: Kate Stacy Por Natty Somchat Somsri Chris Su Bob\n",
        "{3: ['Por', 'Bob'], 4: ['Kate'], 5: ['Stacy', 'Natty', 'Chris']}\n",
        "Number of names with length 3: 2\n",
        "Number of names with length 4: 1\n",
        "Number of names with length 5: 3\n",
        "```"
      ],
      "metadata": {
        "id": "lM_U-N3yTnMa"
      }
    },
    {
      "cell_type": "code",
      "source": [
        "def get_names():\n",
        "  names = input('Enter names: ')\n",
        "  names = names.split()\n",
        "  name_dict = {3:[], 4:[], 5:[]}\n",
        "  for name in names:\n",
        "    name_len = len(name)\n",
        "    if name_len == 3:\n",
        "      name_dict[3].append(name)\n",
        "    elif name_len == 4:\n",
        "      name_dict[4].append(name)\n",
        "    elif name_len == 5:\n",
        "      name_dict[5].append(name)\n",
        "    #if name_len in name_dict:\n",
        "    #  name_dict[name_len].append(name)\n",
        "  return name_dict\n",
        "\n",
        "def num_names(names_dict):\n",
        "  #print(f\"Number of names with length 3: {len(names_dict[3])}\")\n",
        "  #print(f\"Number of names with length 4: {len(names_dict[4])}\")\n",
        "  #print(f\"Number of names with length 5: {len(names_dict[5])}\")\n",
        "  for key in names_dict:\n",
        "    print(f\"Number of names with length {key}: {len(names_dict[key])}\")\n",
        "\n",
        "def main():\n",
        "  name_dict = get_names()\n",
        "  print(name_dict)\n",
        "  num_names(name_dict)\n",
        "\n",
        "main()"
      ],
      "metadata": {
        "id": "Ojz6H0MnToSU",
        "outputId": "3884067a-e616-49ba-b941-1f739fba267f",
        "colab": {
          "base_uri": "https://localhost:8080/"
        }
      },
      "execution_count": null,
      "outputs": [
        {
          "output_type": "stream",
          "name": "stdout",
          "text": [
            "Enter names: Kate Stacy Por Natty Somchat Somsri Chris Su Bob\n",
            "{3: ['Por', 'Bob'], 4: ['Kate'], 5: ['Stacy', 'Natty', 'Chris']}\n",
            "Number of names with length 3: 2\n",
            "Number of names with length 4: 1\n",
            "Number of names with length 5: 3\n"
          ]
        }
      ]
    }
  ]
}
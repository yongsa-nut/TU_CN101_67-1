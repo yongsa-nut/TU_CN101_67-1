{
  "nbformat": 4,
  "nbformat_minor": 0,
  "metadata": {
    "colab": {
      "provenance": [],
      "authorship_tag": "ABX9TyMAOxYVu1fKXhJZTUAnwcbj",
      "include_colab_link": true
    },
    "kernelspec": {
      "name": "python3",
      "display_name": "Python 3"
    },
    "language_info": {
      "name": "python"
    }
  },
  "cells": [
    {
      "cell_type": "markdown",
      "metadata": {
        "id": "view-in-github",
        "colab_type": "text"
      },
      "source": [
        "<a href=\"https://colab.research.google.com/github/yongsa-nut/TU_CN101_67-1/blob/main/Chapter_8_Dictionary.ipynb\" target=\"_parent\"><img src=\"https://colab.research.google.com/assets/colab-badge.svg\" alt=\"Open In Colab\"/></a>"
      ]
    },
    {
      "cell_type": "markdown",
      "source": [
        "# Dictionary"
      ],
      "metadata": {
        "id": "50Bq_HJFa8OG"
      }
    },
    {
      "cell_type": "markdown",
      "source": [
        "## Dicitionaries\n",
        "- **Dictionary**: object that stores a collection of data\n",
        "  - Each element consists of a **key** and a **value**\n",
        "  - Key must be an immutable object (string, tuple, int, float)\n",
        "  - To retrieve a specific value, use the key associated with it\n",
        "  - Value can be anything including list, tuple, or dictionary.\n",
        "\n"
      ],
      "metadata": {
        "id": "HniBuFtaa-be"
      }
    },
    {
      "cell_type": "markdown",
      "source": [
        "## Creating a dictionary\n",
        "- A dictionary is a collection of key-value pairs\n",
        "- Created using curly braces {}\n",
        "- Each key-value pair is separated by a colon :\n",
        "- Pairs are separated by commas ,\n",
        "- Keys must be unique and immutable (e.g., strings, numbers)\n",
        "- **Syntax**: `dictionary = {key1:val1, key2:val2}`\n",
        "  - Example: `phonebook = {'Chris':'555−1111', 'Katie':'555−2222’}`\n",
        "  - In this example, the keys and the values are strings.\n"
      ],
      "metadata": {
        "id": "jmXSrA1YbQg1"
      }
    },
    {
      "cell_type": "code",
      "execution_count": null,
      "metadata": {
        "colab": {
          "base_uri": "https://localhost:8080/"
        },
        "id": "BANcDzXNNDSz",
        "outputId": "eecf7069-a3ae-4232-bd1c-2f300b293dd2"
      },
      "outputs": [
        {
          "output_type": "stream",
          "name": "stdout",
          "text": [
            "{'first': 1, 'second': 2, 'third': 3}\n",
            "{'name': 'Alice', 'age': 20, 'grade': 'A'}\n",
            "{'Chris': '555−1111', 'Katie': '555-2222', 'Joanne': '555-3333'}\n"
          ]
        }
      ],
      "source": [
        "# Creating a dictionary example 1\n",
        "my_dict = {'first': 1, 'second': 2, 'third': 3}\n",
        "print(my_dict)\n",
        "\n",
        "student = {\"name\": \"Alice\", \"age\": 20, \"grade\": \"A\"}\n",
        "print(student)\n",
        "\n",
        "phonebook = {'Chris':'555−1111','Katie':'555-2222','Joanne':'555-3333'}\n",
        "print(phonebook)"
      ]
    },
    {
      "cell_type": "markdown",
      "source": [
        "## Accessing values\n",
        "- Syntax: `dictionary[key]`"
      ],
      "metadata": {
        "id": "sYVd9paR1fFs"
      }
    },
    {
      "cell_type": "code",
      "source": [
        "# Accessing value ex1:\n",
        "phonebook = {'Chris':'555−1111','Katie':'555-2222','Joanne':'555-3333'}\n",
        "print(phonebook['Chris'])\n",
        "print(phonebook['Katie'])"
      ],
      "metadata": {
        "id": "sQriSXIrcyly",
        "colab": {
          "base_uri": "https://localhost:8080/"
        },
        "outputId": "ce9a4d36-95ff-4405-82cd-33d968b3e586"
      },
      "execution_count": null,
      "outputs": [
        {
          "output_type": "stream",
          "name": "stdout",
          "text": [
            "555−1111\n",
            "555-2222\n"
          ]
        }
      ]
    },
    {
      "cell_type": "markdown",
      "source": [
        "## Updating/Modifying items:\n",
        "- Dictionaries are mutable.\n",
        "- Syntax: `dictionary[key] = new_value`"
      ],
      "metadata": {
        "id": "PpDpdbX214Zf"
      }
    },
    {
      "cell_type": "code",
      "source": [
        "# Updating value ex1:\n",
        "phonebook = {'Chris':'555−1111','Katie':'555-2222','Joanne':'555-3333'}\n",
        "phonebook['Chris'] = '666-1111'\n",
        "phonebook['Katie'] = '666-2222'\n",
        "print(phonebook)"
      ],
      "metadata": {
        "colab": {
          "base_uri": "https://localhost:8080/"
        },
        "id": "kEm9h2LN2Y27",
        "outputId": "11f63ddd-eac9-4478-c5da-261364b44cf1"
      },
      "execution_count": null,
      "outputs": [
        {
          "output_type": "stream",
          "name": "stdout",
          "text": [
            "{'Chris': '666-1111', 'Katie': '666-2222', 'Joanne': '555-3333'}\n"
          ]
        }
      ]
    },
    {
      "cell_type": "markdown",
      "source": [
        "## in operator\n",
        "- Check whether a key is in a dictionary"
      ],
      "metadata": {
        "id": "YNTi3Nsr3CBL"
      }
    },
    {
      "cell_type": "code",
      "source": [
        "phonebook = {'Chris':'555−1111','Katie':'555-2222','Joanne':'555-3333'}\n",
        "print('Chris' in phonebook)\n",
        "print('Mary' in phonebook)"
      ],
      "metadata": {
        "colab": {
          "base_uri": "https://localhost:8080/"
        },
        "id": "lAiDn_RS3mKj",
        "outputId": "2dd5dd21-6e13-4672-ed12-4721ebab1e79"
      },
      "execution_count": null,
      "outputs": [
        {
          "output_type": "stream",
          "name": "stdout",
          "text": [
            "True\n",
            "False\n"
          ]
        }
      ]
    },
    {
      "cell_type": "markdown",
      "source": [
        "## Cannot access keys that do not exist in the dict"
      ],
      "metadata": {
        "id": "HpDYcEnQ98c3"
      }
    },
    {
      "cell_type": "code",
      "source": [
        "phonebook = {'Chris':'555−1111','Katie':'555-2222','Joanne':'555-3333'}\n",
        "print(phonebook['Mary']) # will throw an error"
      ],
      "metadata": {
        "colab": {
          "base_uri": "https://localhost:8080/",
          "height": 159
        },
        "id": "x4LHbIgV9770",
        "outputId": "94721113-e9ff-43b2-c66b-ecf306ecd112"
      },
      "execution_count": null,
      "outputs": [
        {
          "output_type": "error",
          "ename": "KeyError",
          "evalue": "'Mary'",
          "traceback": [
            "\u001b[0;31m---------------------------------------------------------------------------\u001b[0m",
            "\u001b[0;31mKeyError\u001b[0m                                  Traceback (most recent call last)",
            "\u001b[0;32m<ipython-input-8-88c2dbc04e37>\u001b[0m in \u001b[0;36m<cell line: 2>\u001b[0;34m()\u001b[0m\n\u001b[1;32m      1\u001b[0m \u001b[0mphonebook\u001b[0m \u001b[0;34m=\u001b[0m \u001b[0;34m{\u001b[0m\u001b[0;34m'Chris'\u001b[0m\u001b[0;34m:\u001b[0m\u001b[0;34m'555−1111'\u001b[0m\u001b[0;34m,\u001b[0m\u001b[0;34m'Katie'\u001b[0m\u001b[0;34m:\u001b[0m\u001b[0;34m'555-2222'\u001b[0m\u001b[0;34m,\u001b[0m\u001b[0;34m'Joanne'\u001b[0m\u001b[0;34m:\u001b[0m\u001b[0;34m'555-3333'\u001b[0m\u001b[0;34m}\u001b[0m\u001b[0;34m\u001b[0m\u001b[0;34m\u001b[0m\u001b[0m\n\u001b[0;32m----> 2\u001b[0;31m \u001b[0mprint\u001b[0m\u001b[0;34m(\u001b[0m\u001b[0mphonebook\u001b[0m\u001b[0;34m[\u001b[0m\u001b[0;34m'Mary'\u001b[0m\u001b[0;34m]\u001b[0m\u001b[0;34m)\u001b[0m \u001b[0;31m# will throw an error\u001b[0m\u001b[0;34m\u001b[0m\u001b[0;34m\u001b[0m\u001b[0m\n\u001b[0m",
            "\u001b[0;31mKeyError\u001b[0m: 'Mary'"
          ]
        }
      ]
    },
    {
      "cell_type": "code",
      "source": [
        "# Check using in\n",
        "phonebook = {'Chris':'555−1111','Katie':'555-2222','Joanne':'555-3333'}\n",
        "query = input('Enter a name: ')\n",
        "if query in phonebook:\n",
        "  print(phonebook[query])\n",
        "else:\n",
        "  print('Not found')"
      ],
      "metadata": {
        "colab": {
          "base_uri": "https://localhost:8080/"
        },
        "id": "bv9eXOjn-N2O",
        "outputId": "79984888-38e0-452a-99a2-bec88688fec2"
      },
      "execution_count": null,
      "outputs": [
        {
          "output_type": "stream",
          "name": "stdout",
          "text": [
            "Enter a name: Mary\n",
            "Not found\n"
          ]
        }
      ]
    },
    {
      "cell_type": "markdown",
      "source": [
        "### len() function\n",
        "- check the number of key-value pairs in the dict"
      ],
      "metadata": {
        "id": "MuuzK0cg-s4D"
      }
    },
    {
      "cell_type": "code",
      "source": [
        "# ex len()\n",
        "phonebook = {'Chris':'555−1111','Katie':'555-2222','Joanne':'555-3333'}\n",
        "print(len(phonebook))"
      ],
      "metadata": {
        "colab": {
          "base_uri": "https://localhost:8080/"
        },
        "id": "YpQOuk3H-07L",
        "outputId": "e7b65ce0-7bb7-4dbf-ea78-5a08cc234d1f"
      },
      "execution_count": null,
      "outputs": [
        {
          "output_type": "stream",
          "name": "stdout",
          "text": [
            "3\n"
          ]
        }
      ]
    },
    {
      "cell_type": "markdown",
      "source": [
        "## Creating an empty dictionary\n",
        "- Use `{}` to create an empty dictionary\n",
        "- Elements can be added to the dicionary using `=`"
      ],
      "metadata": {
        "id": "eQXk9hgf--M1"
      }
    },
    {
      "cell_type": "code",
      "source": [
        "#ex1: creating a dictionary from empty\n",
        "\n",
        "phonebook = {}\n",
        "phonebook['Chris'] = '555−1111'\n",
        "phonebook['Katie'] = '555−2222'\n",
        "phonebook['Joanne'] = '555-3333'\n",
        "print(phonebook)"
      ],
      "metadata": {
        "colab": {
          "base_uri": "https://localhost:8080/"
        },
        "id": "JbNJ-3VN-990",
        "outputId": "529a5b5e-d255-4e3a-f44d-d7b6f4983e95"
      },
      "execution_count": null,
      "outputs": [
        {
          "output_type": "stream",
          "name": "stdout",
          "text": [
            "{'Chris': '555−1111', 'Katie': '555−2222', 'Joanne': '555-3333'}\n"
          ]
        }
      ]
    },
    {
      "cell_type": "code",
      "source": [
        "#ex2: creating a dict from two lists\n",
        "names = ['Chirs','Katie','Joanne']\n",
        "numbers = ['555−1111','555-2222','555-3333']\n",
        "phonebook = {}\n",
        "for i in range(len(names)):\n",
        "  phonebook[names[i]] = numbers[i]\n",
        "print(phonebook)"
      ],
      "metadata": {
        "colab": {
          "base_uri": "https://localhost:8080/"
        },
        "id": "24BRdcnz_W-D",
        "outputId": "37f6031c-85ac-4cd8-90ab-3c1676d1c482"
      },
      "execution_count": null,
      "outputs": [
        {
          "output_type": "stream",
          "name": "stdout",
          "text": [
            "{'Chirs': '555−1111', 'Katie': '555-2222', 'Joanne': '555-3333'}\n"
          ]
        }
      ]
    },
    {
      "cell_type": "markdown",
      "source": [
        "## Looping through a dictionary\n",
        "- `for` loop will iterate over keys in a dictionary\n",
        "  - for key in dictionary:"
      ],
      "metadata": {
        "id": "ZBty2s6Z_2lB"
      }
    },
    {
      "cell_type": "code",
      "source": [
        "# ex 1: looping through list\n",
        "phonebook = {'Chris':'555−1111','Katie':'555-2222','Joanne':'555-3333'}\n",
        "for name in phonebook:\n",
        "  print(f\"key = {name}, value = {phonebook[name]}\")"
      ],
      "metadata": {
        "colab": {
          "base_uri": "https://localhost:8080/"
        },
        "id": "HvmwKjqU_3Mw",
        "outputId": "ecae1225-8ec5-405f-9c73-db90ba7b0f71"
      },
      "execution_count": null,
      "outputs": [
        {
          "output_type": "stream",
          "name": "stdout",
          "text": [
            "key = Chris, value = 555−1111\n",
            "key = Katie, value = 555-2222\n",
            "key = Joanne, value = 555-3333\n"
          ]
        }
      ]
    },
    {
      "cell_type": "markdown",
      "source": [
        "## Useful dictionary methods\n",
        "- `.keys()` returns all the keys in a dictionary as a sequence\n",
        "- `.values()` returns all the values in the dictionary as a sequence\n",
        "- `.items()` returns all the key-value pairs as a sequence of tuples in the dictionary  \n",
        "- `.get(key, default)`: Gets the value associated with a specified key. If the key is not found, the method does not raise an exception. Instead, it returns a default value."
      ],
      "metadata": {
        "id": "VKsEBVrXAJ7L"
      }
    },
    {
      "cell_type": "code",
      "source": [
        "# keys, values, items example\n",
        "phonebook = {'Chris':'555−1111','Katie':'555-2222','Joanne':'555-3333'}\n",
        "print(phonebook.keys())\n",
        "print(phonebook.values())\n",
        "print(phonebook.items())"
      ],
      "metadata": {
        "colab": {
          "base_uri": "https://localhost:8080/"
        },
        "id": "aMNwd7FBAKit",
        "outputId": "cd5fce6e-4ab7-4d53-edc5-f15c2c34d12f"
      },
      "execution_count": null,
      "outputs": [
        {
          "output_type": "stream",
          "name": "stdout",
          "text": [
            "dict_keys(['Chris', 'Katie', 'Joanne'])\n",
            "dict_values(['555−1111', '555-2222', '555-3333'])\n",
            "dict_items([('Chris', '555−1111'), ('Katie', '555-2222'), ('Joanne', '555-3333')])\n"
          ]
        }
      ]
    },
    {
      "cell_type": "code",
      "source": [
        "# Using them with for loop\n",
        "phonebook = {'Chris':'555−1111','Katie':'555-2222','Joanne':'555-3333'}\n",
        "for value in phonebook.values():\n",
        "  print(value)"
      ],
      "metadata": {
        "colab": {
          "base_uri": "https://localhost:8080/"
        },
        "id": "bq8_DRtrCEXq",
        "outputId": "df61f7af-22b7-4424-9338-9a8ce568cacd"
      },
      "execution_count": null,
      "outputs": [
        {
          "output_type": "stream",
          "name": "stdout",
          "text": [
            "555−1111\n",
            "555-2222\n",
            "555-3333\n"
          ]
        }
      ]
    },
    {
      "cell_type": "code",
      "source": [
        "#Using items with for loop\n",
        "phonebook = {'Chris':'555−1111','Katie':'555-2222','Joanne':'555-3333'}\n",
        "for key, value in phonebook.items():\n",
        "  print(f\"Key = {key}, Value = {value}\")"
      ],
      "metadata": {
        "colab": {
          "base_uri": "https://localhost:8080/"
        },
        "id": "753gv6FGCKFs",
        "outputId": "3d92d60d-3b3a-4888-be0c-cf45bb41994d"
      },
      "execution_count": null,
      "outputs": [
        {
          "output_type": "stream",
          "name": "stdout",
          "text": [
            "Key = Chris, Value = 555−1111\n",
            "Key = Katie, Value = 555-2222\n",
            "Key = Joanne, Value = 555-3333\n"
          ]
        }
      ]
    },
    {
      "cell_type": "code",
      "source": [
        "# get method\n",
        "phonebook = {'Chris':'555−1111','Katie':'555-2222','Joanne':'555-3333'}\n",
        "print(phonebook.get('Chris','Not found'))\n",
        "print(phonebook.get('Marry','Not found'))"
      ],
      "metadata": {
        "id": "f_zp9YePCxC3"
      },
      "execution_count": null,
      "outputs": []
    },
    {
      "cell_type": "code",
      "source": [
        "# Get equivalent to if else with check in\n",
        "phonebook = {'Chris':'555−1111','Katie':'555-2222','Joanne':'555-3333'}\n",
        "query = 'Mary'\n",
        "default = 'Not found'\n",
        "\n",
        "# using if else and in\n",
        "if query in phonebook:\n",
        "  print(phonebook[query])\n",
        "else:\n",
        "  print(default)\n",
        "\n",
        "# using get\n",
        "print(phonebook.get(query, default))"
      ],
      "metadata": {
        "colab": {
          "base_uri": "https://localhost:8080/"
        },
        "id": "V-Hi2r-pC_6a",
        "outputId": "4dc43d5b-7118-4fba-d8f5-d3bccfde6fd7"
      },
      "execution_count": null,
      "outputs": [
        {
          "output_type": "stream",
          "name": "stdout",
          "text": [
            "Not found\n",
            "Not found\n"
          ]
        }
      ]
    },
    {
      "cell_type": "markdown",
      "source": [
        "## Counting things with dictionary\n",
        "- Dictionaries are excellent for counting occurrences\n",
        "- Use keys for items and values for counts\n",
        "- Utilize the get() method with a default value"
      ],
      "metadata": {
        "id": "ZOudu-7gDhsC"
      }
    },
    {
      "cell_type": "code",
      "source": [
        "# Counting with out get\n",
        "sentence = \"The curious cat carefully crept closer to the colorful butterfly but the butterfly fluttered away leaving the cat curious about the butterfly's quick escape\"\n",
        "\n",
        "sentence = sentence.lower()\n",
        "sentence = sentence.split()\n",
        "\n",
        "word_count = {}\n",
        "for word in sentence:\n",
        "  if word in word_count:\n",
        "    word_count[word] += 1\n",
        "  else:\n",
        "    word_count[word] = 1\n",
        "\n",
        "print(word_count)"
      ],
      "metadata": {
        "colab": {
          "base_uri": "https://localhost:8080/"
        },
        "id": "DWTkYiAmD3uf",
        "outputId": "007b5a9e-9c26-410f-ef8b-7174ef355ecb"
      },
      "execution_count": null,
      "outputs": [
        {
          "output_type": "stream",
          "name": "stdout",
          "text": [
            "{'the': 5, 'curious': 2, 'cat': 2, 'carefully': 1, 'crept': 1, 'closer': 1, 'to': 1, 'colorful': 1, 'butterfly': 2, 'but': 1, 'fluttered': 1, 'away': 1, 'leaving': 1, 'about': 1, \"butterfly's\": 1, 'quick': 1, 'escape': 1}\n"
          ]
        }
      ]
    },
    {
      "cell_type": "code",
      "source": [
        "# Counting with get\n",
        "sentence = \"The curious cat carefully crept closer to the colorful butterfly but the butterfly fluttered away leaving the cat curious about the butterfly's quick escape\"\n",
        "\n",
        "sentence = sentence.lower()\n",
        "sentence = sentence.split()\n",
        "\n",
        "word_count = {}\n",
        "for word in sentence:\n",
        "  word_count[word] = word_count.get(word, 0) + 1\n",
        "\n",
        "print(word_count)"
      ],
      "metadata": {
        "colab": {
          "base_uri": "https://localhost:8080/"
        },
        "id": "lsGCTPI4EF1p",
        "outputId": "e009a53e-80e1-4e71-9ab1-e387e2823ee6"
      },
      "execution_count": null,
      "outputs": [
        {
          "output_type": "stream",
          "name": "stdout",
          "text": [
            "{'the': 5, 'curious': 2, 'cat': 2, 'carefully': 1, 'crept': 1, 'closer': 1, 'to': 1, 'colorful': 1, 'butterfly': 2, 'but': 1, 'fluttered': 1, 'away': 1, 'leaving': 1, 'about': 1, \"butterfly's\": 1, 'quick': 1, 'escape': 1}\n"
          ]
        }
      ]
    },
    {
      "cell_type": "code",
      "source": [
        "# Counting letters\n",
        "word = \"mississippi\"\n",
        "letter_count = {}\n",
        "\n",
        "for letter in word:\n",
        "    letter_count[letter] = letter_count.get(letter, 0) + 1\n",
        "\n",
        "print(letter_count)"
      ],
      "metadata": {
        "colab": {
          "base_uri": "https://localhost:8080/"
        },
        "id": "xvdNzxf_GJMr",
        "outputId": "5f997171-debf-417c-f72e-82c8a4272578"
      },
      "execution_count": null,
      "outputs": [
        {
          "output_type": "stream",
          "name": "stdout",
          "text": [
            "{'m': 1, 'i': 4, 's': 4, 'p': 2}\n"
          ]
        }
      ]
    },
    {
      "cell_type": "code",
      "source": [
        "# Counting items in list\n",
        "fruits = ['apple', 'banana', 'apple', 'cherry', 'banana', 'apple']\n",
        "fruit_count = {}\n",
        "\n",
        "for fruit in fruits:\n",
        "    fruit_count[fruit] = fruit_count.get(fruit, 0) + 1\n",
        "\n",
        "print(fruit_count)"
      ],
      "metadata": {
        "colab": {
          "base_uri": "https://localhost:8080/"
        },
        "id": "C-q9e-hYGMr4",
        "outputId": "0fcf8e0b-4b54-42d5-8ca5-415233fca382"
      },
      "execution_count": null,
      "outputs": [
        {
          "output_type": "stream",
          "name": "stdout",
          "text": [
            "{'apple': 3, 'banana': 2, 'cherry': 1}\n"
          ]
        }
      ]
    },
    {
      "cell_type": "markdown",
      "source": [
        "## Summary\n",
        "- Dictionary {key:value}\n",
        "- Accessing and updating dictionary using `key`\n",
        "- Creating dictionary {}\n",
        "- `for` loop through keys\n",
        "- Dictionary methods: `keys()`, `values()`, `items()`, `get(key,default)`."
      ],
      "metadata": {
        "id": "dTHKygbZA7Eh"
      }
    }
  ]
}
{
  "nbformat": 4,
  "nbformat_minor": 0,
  "metadata": {
    "colab": {
      "provenance": [],
      "authorship_tag": "ABX9TyNZv5Whgr1Sijxuj/smtRnG",
      "include_colab_link": true
    },
    "kernelspec": {
      "name": "python3",
      "display_name": "Python 3"
    },
    "language_info": {
      "name": "python"
    }
  },
  "cells": [
    {
      "cell_type": "markdown",
      "metadata": {
        "id": "view-in-github",
        "colab_type": "text"
      },
      "source": [
        "<a href=\"https://colab.research.google.com/github/yongsa-nut/TU_CN101_67-1/blob/main/Chapter_4_Repitition_Structures.ipynb\" target=\"_parent\"><img src=\"https://colab.research.google.com/assets/colab-badge.svg\" alt=\"Open In Colab\"/></a>"
      ]
    },
    {
      "cell_type": "markdown",
      "source": [
        "# Chapter 4 Repetition Structures\n",
        "\n",
        "https://github.com/yongsa-nut/TU_Intro_Prog/"
      ],
      "metadata": {
        "id": "qRsez-reVhfR"
      }
    },
    {
      "cell_type": "markdown",
      "source": [
        "## Control Structure\n",
        "* **Control structure**: logical design that controls order in which set of statements execute\n",
        "  * **Sequence structure**: set of statements that execute in the order they appear\n",
        "  * **Decision structure**: specific action(s) performed only if a condition exists.\n",
        "  * **Repetition structure**: makes computer repeat included code as necessary"
      ],
      "metadata": {
        "id": "5PXM-T27kE4F"
      }
    },
    {
      "cell_type": "markdown",
      "source": [
        "## Introduction to Repetition Structures\n",
        "* Often have to write code that performs the same task multiple times\n",
        "* Disadvantages to duplicating code\n",
        "  * Makes program large\n",
        "  * Time consuming\n",
        "  * May need to be corrected in many places\n",
        "* **Repetition structure**: makes computer repeat included code as necessary\n",
        "  * Includes condition-controlled loops and count-controlled loops"
      ],
      "metadata": {
        "id": "uMIfuDvukHCO"
      }
    },
    {
      "cell_type": "markdown",
      "source": [
        "## The $\\texttt{while}$ loop: a condition-controlled loop\n",
        "* $\\texttt{while}$ loop: while condition is true, do something\n",
        "* Two parts:\n",
        "  * Condition tested for true or false value\n",
        "  * Statements repeated as long as condition is true\n",
        "* General format:\n",
        "  <br> $\\texttt{while condition:}$\n",
        "  <br> &emsp;$\\texttt{statement}$\n",
        "  <br> &emsp;$\\texttt{statement}$"
      ],
      "metadata": {
        "id": "zj8fK8d_kkdK"
      }
    },
    {
      "cell_type": "markdown",
      "source": [
        "## The  $\\texttt{while}$ loop: Flowchart\n",
        "\n",
        "![while flow.png](https://drive.google.com/uc?export=view&id=1Ni5Xcq-Lz8xkyt9fEi7RVmu2jZxvvmt2)"
      ],
      "metadata": {
        "id": "4dGUQn06lTRu"
      }
    },
    {
      "cell_type": "markdown",
      "source": [
        "## The $\\texttt{while}$ loop: a condition-controlled loop\n",
        "* In order for a loop to stop executing, something has to happen inside the <br> loop to make the condition false\n",
        "* **Iteration**: one execution of the body of a loop\n",
        "* $\\texttt{while}$ loop is known as a pretest loop\n",
        "  * Tests condition before performing an iteration\n",
        "  * Will never execute if condition is false to start with\n",
        "  * Requires performing some steps prior to the loop\n"
      ],
      "metadata": {
        "id": "VN-e5XFLlll1"
      }
    },
    {
      "cell_type": "code",
      "source": [
        "# while loop ex1: simple\n",
        "count = 0\n",
        "while count < 5:\n",
        "  print(count)\n",
        "  count = count + 1\n",
        "print(\"out of the loop\")\n",
        "print(count)"
      ],
      "metadata": {
        "id": "6F_cuDj4mBDV",
        "colab": {
          "base_uri": "https://localhost:8080/"
        },
        "outputId": "90908b92-a91a-46eb-b123-f129e14586c0"
      },
      "execution_count": 3,
      "outputs": [
        {
          "output_type": "stream",
          "name": "stdout",
          "text": [
            "0\n",
            "1\n",
            "2\n",
            "3\n",
            "4\n",
            "out of the loop\n",
            "5\n"
          ]
        }
      ]
    },
    {
      "cell_type": "code",
      "source": [
        "# while loop ex2: simple\n",
        "count = 5\n",
        "while count > 0:\n",
        "  print(count)\n",
        "  count = count - 1\n",
        "print(\"Boom!\")"
      ],
      "metadata": {
        "id": "IoCpRZFFp85C",
        "colab": {
          "base_uri": "https://localhost:8080/"
        },
        "outputId": "35a8dc2d-b275-4a2e-88c8-89a582993884"
      },
      "execution_count": 2,
      "outputs": [
        {
          "output_type": "stream",
          "name": "stdout",
          "text": [
            "5\n",
            "4\n",
            "3\n",
            "2\n",
            "1\n",
            "Boom!\n"
          ]
        }
      ]
    },
    {
      "cell_type": "code",
      "source": [
        "# while loop ex3: commission\n",
        "## Keep calculating the commission until the user enters 'n'\n",
        "\n",
        "# A variable to control the loop\n",
        "keep_going = 'y'\n",
        "\n",
        "# calculate a series of commission\n",
        "while keep_going == 'y':\n",
        "\n",
        "  ## Get sales and commision rate\n",
        "  sales = float(input(\"Enter the amount of sales: \"))\n",
        "  comm_rate = float(input(\"Enter the commision rate: \"))\n",
        "\n",
        "  ## Calculate the commision\n",
        "  commission = sales * comm_rate\n",
        "\n",
        "  ## display the commission\n",
        "  print(f\"The comssion is ${commission:.2f}\")\n",
        "\n",
        "  ## Ask if the user wants to keep going\n",
        "  keep_going = input(\"Do you want to calculate another commission (y/n): \")"
      ],
      "metadata": {
        "id": "JdV4-Gk2mB3V",
        "colab": {
          "base_uri": "https://localhost:8080/"
        },
        "outputId": "7be17e45-3960-4711-c5f9-8fddaa47bb8b"
      },
      "execution_count": 4,
      "outputs": [
        {
          "name": "stdout",
          "output_type": "stream",
          "text": [
            "Enter the amount of sales: 200\n",
            "Enter the commision rate: 30\n",
            "The comssion is $6000.00\n",
            "Do you want to calculate another commission (y/n): y\n",
            "Enter the amount of sales: 300\n",
            "Enter the commision rate: 30\n",
            "The comssion is $9000.00\n",
            "Do you want to calculate another commission (y/n): n\n"
          ]
        }
      ]
    },
    {
      "cell_type": "markdown",
      "source": [
        "## Infinite Loop\n",
        "* Loops **must** contain within themselves a way to **terminate**.\n",
        "  * Something inside a $\\texttt{while}$ loop must eventually make the condition false\n",
        "* **Infinite loop**: loop that does not have a way of stopping\n",
        "  * Repeats until program is interrupted\n",
        "  * Occurs when programmer forgets to include stopping code in the loop\n"
      ],
      "metadata": {
        "id": "K_HaxB1hqMiQ"
      }
    },
    {
      "cell_type": "code",
      "source": [
        "# infinite loop example!\n",
        "# You will have to force stop if you run the code below!!\n",
        "count = 0\n",
        "while count >= 0:\n",
        "  count = count + 1\n",
        "  if count%100000==0:\n",
        "    print(count)"
      ],
      "metadata": {
        "id": "lS9RrijeqlZb"
      },
      "execution_count": null,
      "outputs": []
    },
    {
      "cell_type": "markdown",
      "source": [
        "## The $\\texttt{for}$ loop: a definite loop\n",
        "* Count-Controlled loop: Iterates a specific number of times.\n",
        "  * Use a $\\texttt{for}$  statement to write count-controlled loop\n",
        "  * Iterates through a sequence of items.\n",
        "* General format:\n",
        "  <br>$\\texttt{for variable in [val1, val2, etc]:}$\n",
        "  <br>&emsp;$\\texttt{statements}$\n",
        "* **Target variable**: the variable which is the target of the assignment at <br> the beginning of each iteration"
      ],
      "metadata": {
        "id": "a3mCSRFqrP5e"
      }
    },
    {
      "cell_type": "code",
      "source": [
        "# for loop ex1: simple\n",
        "for num in [1, 2, 3, 4, 5]:\n",
        "  print(num)"
      ],
      "metadata": {
        "id": "vy5UIOabtBxE",
        "colab": {
          "base_uri": "https://localhost:8080/"
        },
        "outputId": "b13fdc6b-7da3-46ca-a4bd-0f02cee1b122"
      },
      "execution_count": 5,
      "outputs": [
        {
          "output_type": "stream",
          "name": "stdout",
          "text": [
            "1\n",
            "2\n",
            "3\n",
            "4\n",
            "5\n"
          ]
        }
      ]
    },
    {
      "cell_type": "markdown",
      "source": [
        "![while flow.png](https://drive.google.com/uc?export=view&id=1NnObC-tz3HUuYQZCCurhLtZ0yw8o_9T5)"
      ],
      "metadata": {
        "id": "xNIqYQ5quANo"
      }
    },
    {
      "cell_type": "code",
      "source": [
        "# for loop ex2: simple\n",
        "## Looping through odd numbers from 1 to 9.\n",
        "for num in [1, 3, 5, 7, 9]:\n",
        "  print(num)"
      ],
      "metadata": {
        "id": "vn-2y4CathcE",
        "colab": {
          "base_uri": "https://localhost:8080/"
        },
        "outputId": "d21dece2-fa8c-415b-80da-c9b2417de47c"
      },
      "execution_count": 6,
      "outputs": [
        {
          "output_type": "stream",
          "name": "stdout",
          "text": [
            "1\n",
            "3\n",
            "5\n",
            "7\n",
            "9\n"
          ]
        }
      ]
    },
    {
      "cell_type": "code",
      "source": [
        "# for loop ex3: simple string\n",
        "for name in ['Winken', 'Blinken', 'Nod']:\n",
        "  print(name)"
      ],
      "metadata": {
        "id": "_zTC2Bl9t1MG",
        "colab": {
          "base_uri": "https://localhost:8080/"
        },
        "outputId": "1d5104fd-2c9b-4b54-8b93-9ea14ba1c867"
      },
      "execution_count": 7,
      "outputs": [
        {
          "output_type": "stream",
          "name": "stdout",
          "text": [
            "Winken\n",
            "Blinken\n",
            "Nod\n"
          ]
        }
      ]
    },
    {
      "cell_type": "markdown",
      "source": [
        "## Using the $\\texttt{range}$ function with the $\\texttt{for}$ loop\n",
        "* $\\texttt{range}$ function returns an iterable object.\n",
        "  * iterable: contains a sequence of values that can be iterated over.\n",
        "* $\\texttt{range}$ characterics:\n",
        "  * One argument: used as an ending point.\n",
        "    * Starts from 0 and DOES NOT include the ending point.\n",
        "  * Two arguments: starting value (inclusive) and ending point (exclusive).\n",
        "  * Three arguments: starting value, ending point, and incremental/step value"
      ],
      "metadata": {
        "id": "yDquo_26uba8"
      }
    },
    {
      "cell_type": "code",
      "source": [
        "# for + range ex1:\n",
        "for num in range(5):\n",
        "  print(num)"
      ],
      "metadata": {
        "id": "tmRKVHjdv5bW",
        "colab": {
          "base_uri": "https://localhost:8080/"
        },
        "outputId": "4d21e8c7-faa1-4ca6-c674-d6041ad6bab7"
      },
      "execution_count": 8,
      "outputs": [
        {
          "output_type": "stream",
          "name": "stdout",
          "text": [
            "0\n",
            "1\n",
            "2\n",
            "3\n",
            "4\n"
          ]
        }
      ]
    },
    {
      "cell_type": "code",
      "source": [
        "# for + range ex2:\n",
        "for num in range(1, 5):\n",
        "  print(num)"
      ],
      "metadata": {
        "id": "UIndOICbv-KL",
        "colab": {
          "base_uri": "https://localhost:8080/"
        },
        "outputId": "4aeed129-2675-4e38-d860-4396ff0531ae"
      },
      "execution_count": 9,
      "outputs": [
        {
          "output_type": "stream",
          "name": "stdout",
          "text": [
            "1\n",
            "2\n",
            "3\n",
            "4\n"
          ]
        }
      ]
    },
    {
      "cell_type": "code",
      "source": [
        "# for + range ex3:\n",
        "for num in range(1, 10, 2):\n",
        "  print(num)"
      ],
      "metadata": {
        "id": "riNRjmdTwBal",
        "colab": {
          "base_uri": "https://localhost:8080/"
        },
        "outputId": "7a859216-ec78-4f25-b2e1-02fb887aa977"
      },
      "execution_count": 10,
      "outputs": [
        {
          "output_type": "stream",
          "name": "stdout",
          "text": [
            "1\n",
            "3\n",
            "5\n",
            "7\n",
            "9\n"
          ]
        }
      ]
    },
    {
      "cell_type": "code",
      "source": [
        "# for + range ex4:\n",
        "for num in range(5):\n",
        "  print(\"Hello World!\")"
      ],
      "metadata": {
        "id": "m23UucYHw41B",
        "colab": {
          "base_uri": "https://localhost:8080/"
        },
        "outputId": "99feeda9-63b0-43ad-ab24-985a5d07edd7"
      },
      "execution_count": 11,
      "outputs": [
        {
          "output_type": "stream",
          "name": "stdout",
          "text": [
            "Hello World!\n",
            "Hello World!\n",
            "Hello World!\n",
            "Hello World!\n",
            "Hello World!\n"
          ]
        }
      ]
    },
    {
      "cell_type": "code",
      "source": [
        "# for + range ex5: using the target variable\n",
        "for num in range(1, 5):\n",
        "  print(f\"Number = {num}, Square = {num**2}\")"
      ],
      "metadata": {
        "id": "NRlvSx7VxA-y",
        "colab": {
          "base_uri": "https://localhost:8080/"
        },
        "outputId": "c11bc345-3fc2-49be-961d-0cc33f37bad7"
      },
      "execution_count": 12,
      "outputs": [
        {
          "output_type": "stream",
          "name": "stdout",
          "text": [
            "Number = 1, Square = 1\n",
            "Number = 2, Square = 4\n",
            "Number = 3, Square = 9\n",
            "Number = 4, Square = 16\n"
          ]
        }
      ]
    },
    {
      "cell_type": "code",
      "source": [
        "# for + range ex6: Let the user control the loop\n",
        "end = int(input(\"How high do you want to go?: \"))\n",
        "\n",
        "for num in range(1, end+1):\n",
        "  print(f\"Number = {num}, Square = {num**2}\")"
      ],
      "metadata": {
        "id": "3gRxd9iexP2L",
        "colab": {
          "base_uri": "https://localhost:8080/"
        },
        "outputId": "b38a7a2e-b17a-4a6e-e3d8-cb538a790d54"
      },
      "execution_count": 13,
      "outputs": [
        {
          "output_type": "stream",
          "name": "stdout",
          "text": [
            "How high do you want to go?: 3\n",
            "Number = 1, Square = 1\n",
            "Number = 2, Square = 4\n",
            "Number = 3, Square = 9\n"
          ]
        }
      ]
    },
    {
      "cell_type": "code",
      "source": [
        "# for + range ex8: Descending order!\n",
        "## step = -1 (or negative number)\n",
        "## start > end\n",
        "for num in range(5, 0, -1):\n",
        "  print(num)"
      ],
      "metadata": {
        "id": "hmyXhS_cyIaY",
        "colab": {
          "base_uri": "https://localhost:8080/"
        },
        "outputId": "edd607f9-48fc-4bc9-e89a-ec481cbc6589"
      },
      "execution_count": 14,
      "outputs": [
        {
          "output_type": "stream",
          "name": "stdout",
          "text": [
            "5\n",
            "4\n",
            "3\n",
            "2\n",
            "1\n"
          ]
        }
      ]
    },
    {
      "cell_type": "markdown",
      "source": [
        "## Calculating a Running Total\n",
        "* Programs often need to calculate a total of a series of numbers\n",
        "* Typically include two elements:\n",
        "  * A loop that reads each number in series\n",
        "  * An accumulator variable\n",
        "* Known as program that keeps a running total: accumulates total and reads in series\n",
        "* At end of loop, accumulator will reference the total\n"
      ],
      "metadata": {
        "id": "Z4VYbeuhyr-p"
      }
    },
    {
      "cell_type": "markdown",
      "source": [
        "## Calculating a Running Total\n",
        "![accum loop.png](https://drive.google.com/uc?export=view&id=1NnqDu0OoYXxtYDaplU07SGDWKH0Zo_Px)"
      ],
      "metadata": {
        "id": "xT577uAky_Iu"
      }
    },
    {
      "cell_type": "code",
      "source": [
        "# Running total ex1:\n",
        "## Calculate the sum of a series of numbers\n",
        "total = 0\n",
        "end = 10\n",
        "\n",
        "for num in range(end):\n",
        "  total = total + num\n",
        "print(f\"The total is {total}\")"
      ],
      "metadata": {
        "id": "YGsVPbzXzWoY",
        "colab": {
          "base_uri": "https://localhost:8080/"
        },
        "outputId": "abf480ab-f0ce-4a08-d334-1e8d04c46b38"
      },
      "execution_count": 15,
      "outputs": [
        {
          "output_type": "stream",
          "name": "stdout",
          "text": [
            "The total is 45\n"
          ]
        }
      ]
    },
    {
      "cell_type": "code",
      "source": [
        "# Running total ex2:\n",
        "## Calculate the sum of a series of numbers\n",
        "total = 0\n",
        "\n",
        "for num in [1, 3, 5, 7, 9]:\n",
        "  total = total + num\n",
        "print(f\"The total is {total}\")"
      ],
      "metadata": {
        "id": "PIxFbwSF1A-D",
        "colab": {
          "base_uri": "https://localhost:8080/"
        },
        "outputId": "e722eb4c-f6be-483e-dae7-4ed127895550"
      },
      "execution_count": 16,
      "outputs": [
        {
          "output_type": "stream",
          "name": "stdout",
          "text": [
            "The total is 25\n"
          ]
        }
      ]
    },
    {
      "cell_type": "code",
      "source": [
        "# Running total ex3:\n",
        "## Calculate the sum of a series of numbers entered by user\n",
        "total = 0\n",
        "end = 5\n",
        "\n",
        "for i in range(end):\n",
        "  number = int(input(\"Enter a number: \"))\n",
        "  total = total + number\n",
        "print(f\"The total is {total}\")"
      ],
      "metadata": {
        "id": "Ad-rMYSXz_IQ",
        "colab": {
          "base_uri": "https://localhost:8080/"
        },
        "outputId": "01beb0b1-67c2-41f4-9b84-730f2aa29957"
      },
      "execution_count": 17,
      "outputs": [
        {
          "output_type": "stream",
          "name": "stdout",
          "text": [
            "Enter a number: 1\n",
            "Enter a number: 2\n",
            "Enter a number: 3\n",
            "Enter a number: 10\n",
            "Enter a number: 20\n",
            "The total is 36\n"
          ]
        }
      ]
    },
    {
      "cell_type": "markdown",
      "source": [
        "## The Augmented Assignment Operators\n",
        "* In many assignment statements, the variable on the left side of the = operator <br> also appears on the right side of the = operator\n",
        "* Augmented assignment operators: special set of shorthand operators designed <br> for this type of job.\n",
        "\n",
        "![augass.png](https://drive.google.com/uc?export=view&id=1Nqy4GN_vTpH5dZGnFnisb_L145_aw2cO)"
      ],
      "metadata": {
        "id": "Ws4Q0mme1uBB"
      }
    },
    {
      "cell_type": "code",
      "source": [
        "total = 0\n",
        "for num in range(10):\n",
        "  total += num\n",
        "print(total)"
      ],
      "metadata": {
        "id": "zSLxJJBC25Iu",
        "colab": {
          "base_uri": "https://localhost:8080/"
        },
        "outputId": "5cd8cd0d-518a-41da-8956-2317f68a2009"
      },
      "execution_count": 18,
      "outputs": [
        {
          "output_type": "stream",
          "name": "stdout",
          "text": [
            "45\n"
          ]
        }
      ]
    },
    {
      "cell_type": "markdown",
      "source": [
        "## General Loop Patterns\n",
        "* Often we use a $\\texttt{for}$ or $\\texttt{while}$ loop to go through a list of items and <br> we are looking for something such as the largest value of the data.\n",
        "* These loops are generally constructed by:\n",
        "\n",
        "  * Initializing one or more variables before the loop starts\n",
        "\n",
        "  * Performing some computation on each item in the loop body, <br> possibly changing the variables in the body of the loop\n",
        "\n",
        "  * Looking at the resulting variables when the loop completes"
      ],
      "metadata": {
        "id": "7SUmtWMm0TIE"
      }
    },
    {
      "cell_type": "code",
      "source": [
        "# General Loop patterns ex1: Finding Largest positive integer\n",
        "largest = -1   # set it to minimum value so that it will get update.\n",
        "print('Before:', largest)\n",
        "for num in [3, 41, 12, 9, 74, 15]:\n",
        "  if num > largest:\n",
        "    largest = num\n",
        "    print('Loop:', num, largest)\n",
        "print('Largest:', largest)"
      ],
      "metadata": {
        "id": "VPIowh7d1IW1",
        "colab": {
          "base_uri": "https://localhost:8080/"
        },
        "outputId": "7c5b78f3-51b3-4c30-b2af-3200e227f495"
      },
      "execution_count": 19,
      "outputs": [
        {
          "output_type": "stream",
          "name": "stdout",
          "text": [
            "Before: -1\n",
            "Loop: 3 3\n",
            "Loop: 41 41\n",
            "Loop: 74 74\n",
            "Largest: 74\n"
          ]
        }
      ]
    },
    {
      "cell_type": "markdown",
      "source": [
        "### Other loop behaviors\n",
        "* **Sentinal**: a special value to determine the end of the loop\n",
        "* **Input Validation loop**: checking user's input whether or not it's appropriate or not."
      ],
      "metadata": {
        "id": "wdkl27aB2F8Y"
      }
    },
    {
      "cell_type": "code",
      "source": [
        "# Sentinal example: property_tax\n",
        "## This program displays property tax.\n",
        "\n",
        "TAX_FACTOR = 0.0065  # represents the tax factor\n",
        "\n",
        "# Get the first lot number\n",
        "print(\"Enter the property lot number or enter '0' to end\")\n",
        "lot = int(input(\"Lot number: \"))\n",
        "\n",
        "while lot != 0:\n",
        "  # Get the property value\n",
        "  value = float(input(\"Enter the property value: \"))\n",
        "\n",
        "  # Calcuate the property's tax\n",
        "  tax = value * TAX_FACTOR\n",
        "\n",
        "  # Display the tax.\n",
        "  print(f\"Property tax: ${tax:.2f}\")\n",
        "\n",
        "  # Get the next lot number\n",
        "  print(\"Enter the property lot number or enter '0' to end\")\n",
        "  lot = int(input(\"Lot number: \"))"
      ],
      "metadata": {
        "id": "9jTmYvjPCUOW",
        "colab": {
          "base_uri": "https://localhost:8080/"
        },
        "outputId": "4f20332b-c2ea-47b0-8e27-8645f35a99ec"
      },
      "execution_count": 21,
      "outputs": [
        {
          "name": "stdout",
          "output_type": "stream",
          "text": [
            "Enter the property lot number or enter '0' to end\n",
            "Lot number: 123\n",
            "Enter the property value: 432\n",
            "Property tax: $2.81\n",
            "Enter the property lot number or enter '0' to end\n",
            "Lot number: 0\n"
          ]
        }
      ]
    },
    {
      "cell_type": "code",
      "source": [
        "# Input Validation example\n",
        "## The program calculates retail prices.\n",
        "\n",
        "MARK_UP = 2.5 # The markup percentage\n",
        "another = 'y' # Variable to control the loop\n",
        "\n",
        "while another == 'y' or another == 'Y':\n",
        "  # get the item's wholesale cost.\n",
        "  wholesale = float(input(\"Enter the item's wholesale cost: \"))\n",
        "\n",
        "  # Validate the wholesale cost.\n",
        "  while wholesale < 0:\n",
        "    print(\"Error: the cost cannot be negative.\")\n",
        "    wholesale = float(input(\"Enter the correct cost: \"))\n",
        "\n",
        "  # Calculate the retail price\n",
        "  retail = wholesale * MARK_UP\n",
        "  print(f\"Retial price: ${retail:.2f}\")\n",
        "\n",
        "  # Do this again?\n",
        "  another = input('Do you have another item? (y/n): ')\n"
      ],
      "metadata": {
        "id": "JScbOOmODJ7y",
        "colab": {
          "base_uri": "https://localhost:8080/"
        },
        "outputId": "b309787b-df3e-4bcd-f89d-726bb3638cea"
      },
      "execution_count": 22,
      "outputs": [
        {
          "name": "stdout",
          "output_type": "stream",
          "text": [
            "Enter the item's wholesale cost: 123\n",
            "Retial price: $307.50\n",
            "Do you have another item? (y/n): y\n",
            "Enter the item's wholesale cost: -1\n",
            "Error: the cost cannot be negative.\n",
            "Enter the correct cost: 123\n",
            "Retial price: $307.50\n",
            "Do you have another item? (y/n): n\n"
          ]
        }
      ]
    },
    {
      "cell_type": "markdown",
      "source": [
        "## Nested Loops\n",
        "* **Nested loop**: loop that is contained inside another loop\n",
        "* Key points about nested loops:\n",
        " * Inner loop goes through all of its iterations for each iteration of outer loop\n",
        " * Inner loops complete their iterations faster than outer loops\n",
        " * Total number of iterations in nested loop: <br> $\\texttt{number_iterations_inner x \tnumber_iterations_outer}$\n"
      ],
      "metadata": {
        "id": "5FvToJC8FQTn"
      }
    },
    {
      "cell_type": "code",
      "source": [
        "# Nested Loop:\n",
        "for i in range(0, 5):\n",
        "  for j in range(0, 3):\n",
        "    print(j)"
      ],
      "metadata": {
        "id": "hEaQ91lC1mRv",
        "colab": {
          "base_uri": "https://localhost:8080/"
        },
        "outputId": "7d33f6ce-faa6-4fde-bc74-75261873db29"
      },
      "execution_count": 23,
      "outputs": [
        {
          "output_type": "stream",
          "name": "stdout",
          "text": [
            "0\n",
            "1\n",
            "2\n",
            "0\n",
            "1\n",
            "2\n",
            "0\n",
            "1\n",
            "2\n",
            "0\n",
            "1\n",
            "2\n",
            "0\n",
            "1\n",
            "2\n"
          ]
        }
      ]
    },
    {
      "cell_type": "code",
      "source": [
        "# Nested Loop ex1: test score average\n",
        "## The program averages test scores for multiple students\n",
        "\n",
        "# Get the number of students\n",
        "num_students = int(input(\"How many students do you have? \"))\n",
        "\n",
        "# Get the number of test scores per student.\n",
        "num_test_scores = int(input(\"How many test scores per student? \"))\n",
        "\n",
        "# Determine each student's average test score\n",
        "for student in range(num_students):\n",
        "  total = 0\n",
        "\n",
        "  print('Student number', student+1)\n",
        "  for test_num in range(num_test_scores):\n",
        "    print('Test number', test_num + 1, end='')\n",
        "    score = float(input(': '))\n",
        "    # Add the score to the accumulator\n",
        "    total += score\n",
        "\n",
        "  #Calculate the average\n",
        "  average = total/num_test_scores\n",
        "  print(f\"The average for student number {student+1} is {average}.\")"
      ],
      "metadata": {
        "id": "P0OHFBalFllN",
        "colab": {
          "base_uri": "https://localhost:8080/"
        },
        "outputId": "387a9d66-4feb-4cf8-8af6-b8c0f368e70b"
      },
      "execution_count": 24,
      "outputs": [
        {
          "output_type": "stream",
          "name": "stdout",
          "text": [
            "How many students do you have? 3\n",
            "How many test scores per student? 2\n",
            "Student number 1\n",
            "Test number 1: 90\n",
            "Test number 2: 95\n",
            "The average for student number 1 is 92.5.\n",
            "Student number 2\n",
            "Test number 1: 80\n",
            "Test number 2: 75\n",
            "The average for student number 2 is 77.5.\n",
            "Student number 3\n",
            "Test number 1: 60\n",
            "Test number 2: 65\n",
            "The average for student number 3 is 62.5.\n"
          ]
        }
      ]
    },
    {
      "cell_type": "code",
      "source": [
        "# Nested Loop ex2: printing rectangular stars\n",
        "## The program displays a rectangular pattern\n",
        "\n",
        "rows = int(input(\"How many rows? \"))\n",
        "cols = int(input(\"How many columns? \"))\n",
        "\n",
        "for r in range(rows):\n",
        "  for c in range(cols):\n",
        "    print(\"*\", end='')\n",
        "  print()"
      ],
      "metadata": {
        "id": "U320EnBOF7l1",
        "colab": {
          "base_uri": "https://localhost:8080/"
        },
        "outputId": "efcfa55e-33fe-49cd-ccf5-8c6c607e54d9"
      },
      "execution_count": 25,
      "outputs": [
        {
          "output_type": "stream",
          "name": "stdout",
          "text": [
            "How many rows? 3\n",
            "How many columns? 4\n",
            "****\n",
            "****\n",
            "****\n"
          ]
        }
      ]
    },
    {
      "cell_type": "code",
      "source": [
        "# Nested Loop ex3: printing triangle stars\n",
        "## The program displays a triangle pattern\n",
        "BASE_SIZE = 8\n",
        "\n",
        "for r in range(BASE_SIZE):\n",
        "  for c in range(r + 1):\n",
        "    print(\"*\", end='')\n",
        "  print()"
      ],
      "metadata": {
        "id": "8_vY2GBoGnVF",
        "colab": {
          "base_uri": "https://localhost:8080/"
        },
        "outputId": "6aab0a11-3d47-4ebe-9fdd-4967440bc70a"
      },
      "execution_count": 26,
      "outputs": [
        {
          "output_type": "stream",
          "name": "stdout",
          "text": [
            "*\n",
            "**\n",
            "***\n",
            "****\n",
            "*****\n",
            "******\n",
            "*******\n",
            "********\n"
          ]
        }
      ]
    },
    {
      "cell_type": "markdown",
      "source": [
        "## $\\texttt{break}$: Break out of the loop\n",
        "* The `break` statement is used to exit a loop prematurely\n",
        "* It can be used in both for loops and while loops\n",
        "* When `break` is encountered, **the loop is immediately terminated**\n",
        "* Program execution continues with the next statement after the loop\n",
        "* `break` is useful for ending loops based on certain conditions\n"
      ],
      "metadata": {
        "id": "tE1BMdn9H3kj"
      }
    },
    {
      "cell_type": "code",
      "source": [
        "# break ex1:\n",
        "for i in range(1, 6):\n",
        "    if i == 4:\n",
        "        break\n",
        "    print(i)"
      ],
      "metadata": {
        "id": "dXT8AYs3ICPQ",
        "colab": {
          "base_uri": "https://localhost:8080/"
        },
        "outputId": "93a4f0a3-4af1-44d3-fc52-a65f5e2b0a7d"
      },
      "execution_count": 29,
      "outputs": [
        {
          "output_type": "stream",
          "name": "stdout",
          "text": [
            "1\n",
            "2\n",
            "3\n"
          ]
        }
      ]
    },
    {
      "cell_type": "code",
      "source": [
        "# break ex2:\n",
        "count = 0\n",
        "while True:\n",
        "   count += 1\n",
        "   if count == 5:\n",
        "       break\n",
        "   print(count)"
      ],
      "metadata": {
        "id": "wqyj0_29IOjq",
        "colab": {
          "base_uri": "https://localhost:8080/"
        },
        "outputId": "027b5979-9a4f-4383-fb70-07d79175244a"
      },
      "execution_count": 31,
      "outputs": [
        {
          "output_type": "stream",
          "name": "stdout",
          "text": [
            "1\n",
            "2\n",
            "3\n",
            "4\n"
          ]
        }
      ]
    },
    {
      "cell_type": "markdown",
      "source": [
        "### Continue Statement\n",
        "* The `continue` command is used inside loops (`for` and `while`)\n",
        "* It **skips** the rest of the current iteration **and moves to the next one/iteration**\n",
        "* Useful when you want to skip specific items in a loop\n",
        "* Helps avoid nested conditional code\n",
        "* Improves readability and efficiency of your code\n"
      ],
      "metadata": {
        "id": "bXa64xwx9sA5"
      }
    },
    {
      "cell_type": "code",
      "source": [
        "for num in range(8):\n",
        "    if num % 2 == 0:\n",
        "        continue\n",
        "    print(num)"
      ],
      "metadata": {
        "colab": {
          "base_uri": "https://localhost:8080/"
        },
        "id": "5o4Xu9yx92mY",
        "outputId": "02809726-2b5b-4e73-83ca-4ec4e693a8f7"
      },
      "execution_count": 33,
      "outputs": [
        {
          "output_type": "stream",
          "name": "stdout",
          "text": [
            "1\n",
            "3\n",
            "5\n",
            "7\n"
          ]
        }
      ]
    },
    {
      "cell_type": "code",
      "source": [
        "count = 0\n",
        "while count < 5:\n",
        "  count += 1\n",
        "  if count == 3:\n",
        "    continue\n",
        "  print(count)"
      ],
      "metadata": {
        "colab": {
          "base_uri": "https://localhost:8080/"
        },
        "id": "i6atKSQv-Ekg",
        "outputId": "ae5890d7-851a-4a12-b19e-fac4fbed5b94"
      },
      "execution_count": 34,
      "outputs": [
        {
          "output_type": "stream",
          "name": "stdout",
          "text": [
            "1\n",
            "2\n",
            "4\n",
            "5\n"
          ]
        }
      ]
    },
    {
      "cell_type": "markdown",
      "source": [
        "## Summary\n",
        "* $\\texttt{while}$ loop: condition-controlled loop\n",
        "* $\\texttt{for}$ loop: count-controlled loop\n",
        "* $\\texttt{range}$ function\n",
        "* Loop patterns (counting and checking)\n",
        "* break and continue"
      ],
      "metadata": {
        "id": "gWoMUGVSHJE3"
      }
    }
  ]
}
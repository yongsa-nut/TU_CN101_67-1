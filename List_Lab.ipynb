{
  "nbformat": 4,
  "nbformat_minor": 0,
  "metadata": {
    "colab": {
      "provenance": [],
      "authorship_tag": "ABX9TyMsEI2kTH5z8vGHu5ZVwuIa",
      "include_colab_link": true
    },
    "kernelspec": {
      "name": "python3",
      "display_name": "Python 3"
    },
    "language_info": {
      "name": "python"
    }
  },
  "cells": [
    {
      "cell_type": "markdown",
      "metadata": {
        "id": "view-in-github",
        "colab_type": "text"
      },
      "source": [
        "<a href=\"https://colab.research.google.com/github/yongsa-nut/TU_CN101_67-1/blob/main/List_Lab.ipynb\" target=\"_parent\"><img src=\"https://colab.research.google.com/assets/colab-badge.svg\" alt=\"Open In Colab\"/></a>"
      ]
    },
    {
      "cell_type": "markdown",
      "source": [
        "**Q1** What will this program print out?\n",
        "\n",
        "```python\n",
        "temp = [1,2,3,4,5,6,7,8,9,10]\n",
        "print(temp[:3])\n",
        "print(temp[-3:])\n",
        "print(temp[1::2])\n",
        "```"
      ],
      "metadata": {
        "id": "PfH-lWhybvbJ"
      }
    },
    {
      "cell_type": "code",
      "source": [],
      "metadata": {
        "id": "fyc6ajF0bu8U"
      },
      "execution_count": null,
      "outputs": []
    },
    {
      "cell_type": "markdown",
      "source": [
        "**Q2**:  What will this program print out?\n",
        "\n",
        "```python\n",
        "temp = [5,5,4,4,4,3,3]\n",
        "temp[0] = 1\n",
        "temp[1] = len(temp)\n",
        "temp[len(temp)-1] = temp[0]*2\n",
        "print(temp)\n",
        "```"
      ],
      "metadata": {
        "id": "G795h03nbvvN"
      }
    },
    {
      "cell_type": "code",
      "execution_count": null,
      "metadata": {
        "id": "QNwMAj18am2U"
      },
      "outputs": [],
      "source": []
    },
    {
      "cell_type": "markdown",
      "source": [
        "**Q3**: What will this program print out?\n",
        "```python\n",
        "seq1 = [1,2,3]\n",
        "seq2 = [3,3,3]\n",
        "seq3 = seq1 + seq2\n",
        "print(seq3)\n",
        "```"
      ],
      "metadata": {
        "id": "DnuUaTFdcKyq"
      }
    },
    {
      "cell_type": "code",
      "source": [],
      "metadata": {
        "id": "Fq3QbxAPcKfS"
      },
      "execution_count": null,
      "outputs": []
    },
    {
      "cell_type": "markdown",
      "source": [
        "**Q4** What will this program print out?\n",
        "```python\n",
        "seq1 = [0]*5\n",
        "seq2 = [1,2,3]*3\n",
        "print(seq1 + seq2)\n",
        "```"
      ],
      "metadata": {
        "id": "-KlaL5R0cdx6"
      }
    },
    {
      "cell_type": "code",
      "source": [],
      "metadata": {
        "id": "9zB4xZ1qchml"
      },
      "execution_count": null,
      "outputs": []
    },
    {
      "cell_type": "markdown",
      "source": [
        "**Q5**: What will this program print out?\n",
        "\n",
        "```python\n",
        "target = 'E'\n",
        "if target in ['A','B','C']:\n",
        "  print([target]*1)\n",
        "elif target in ['A','D','FE']:\n",
        "  print([target]*2)\n",
        "elif target in ['A','E','I','O','U']:\n",
        "  print([target]*3)\n",
        "else:\n",
        "  print([target]*4)\n",
        "```"
      ],
      "metadata": {
        "id": "FYK3Zja6cpCI"
      }
    },
    {
      "cell_type": "code",
      "source": [],
      "metadata": {
        "id": "FiUr6JDIcpvW"
      },
      "execution_count": null,
      "outputs": []
    },
    {
      "cell_type": "markdown",
      "source": [
        "**Q6**: What will this program print out if the user enters `122`?\n",
        "\n",
        "```python\n",
        "references = [12,234,671,32,122,99]\n",
        "query = int(input('Enter your query'))\n",
        "if query in references:\n",
        "  print('Yes')\n",
        "else:\n",
        "  print('No')\n",
        "```"
      ],
      "metadata": {
        "id": "7vokzkwbcurZ"
      }
    },
    {
      "cell_type": "code",
      "source": [],
      "metadata": {
        "id": "z2un3zk5cu7T"
      },
      "execution_count": null,
      "outputs": []
    },
    {
      "cell_type": "markdown",
      "source": [
        "**Q7**: What will this program print out?\n",
        "\n",
        "```python\n",
        "temp = [30,20,18,90,77,44]\n",
        "new_list = []\n",
        "for num in temp:\n",
        "  if num > 20:\n",
        "    new_list.append(num)\n",
        "print(new_list)\n",
        "```"
      ],
      "metadata": {
        "id": "2llhtNH7eevM"
      }
    },
    {
      "cell_type": "code",
      "source": [],
      "metadata": {
        "id": "Qf47vpdGefHz"
      },
      "execution_count": null,
      "outputs": []
    },
    {
      "cell_type": "markdown",
      "source": [
        "**Q8**: What will this program print out?\n",
        "```python\n",
        "initial = [1,1]\n",
        "for i in range(1,5):\n",
        "  initial.append(initial[i-1] + initial[i])\n",
        "print(initial)\n",
        "```"
      ],
      "metadata": {
        "id": "HT8IvcdVfcS0"
      }
    },
    {
      "cell_type": "code",
      "source": [],
      "metadata": {
        "id": "5HkCcuHvfcCk"
      },
      "execution_count": null,
      "outputs": []
    },
    {
      "cell_type": "markdown",
      "source": [
        "**Q9**: What will this program print out?\n",
        "```python\n",
        "names = [['Alice','Bob'],['Anna','Mike'],['Mary','Richard']]\n",
        "print(names[0][1], names[2][0])\n",
        "```"
      ],
      "metadata": {
        "id": "3ytgblXrf5aI"
      }
    },
    {
      "cell_type": "code",
      "source": [],
      "metadata": {
        "id": "227gS8gWgIJN"
      },
      "execution_count": null,
      "outputs": []
    },
    {
      "cell_type": "markdown",
      "source": [
        "**Q10** Fill in the blank so that the program prints out `[2,4,6,8]`"
      ],
      "metadata": {
        "id": "De3ZMDu_gHmk"
      }
    },
    {
      "cell_type": "code",
      "source": [
        "my_list = []\n",
        "for num in range(1,10):\n",
        "  ________________________\n",
        "    ______________________\n",
        "print(my_list)"
      ],
      "metadata": {
        "id": "kDEIAPYCggSU"
      },
      "execution_count": null,
      "outputs": []
    },
    {
      "cell_type": "markdown",
      "source": [
        "**Q11** Fill in the blank so that the program prints out `['Hi','Sup','Good']`"
      ],
      "metadata": {
        "id": "Ib2M4AXWhD54"
      }
    },
    {
      "cell_type": "code",
      "source": [
        "words = ['Hello','Hi','Yo','Sup','Not much','Good']\n",
        "print(words[______])"
      ],
      "metadata": {
        "id": "TM9CyJZ7hsdN"
      },
      "execution_count": null,
      "outputs": []
    },
    {
      "cell_type": "markdown",
      "source": [
        "**Q12**: Adjacent members\n",
        "\n",
        "Write a program to count how many adjacent items in a given list are the same. For example, given a list [1, 1, 2, 3, 3], there are two cases: [1,1] (index 0 and 1) and [3,3] (index 3 and 4).\n",
        "\n",
        "For this problem, you will be given lists and don't need to get input from the user (see the code blow).\n",
        "\n",
        "Example 1:\n",
        "```\n",
        "test_list = [1,2,3,4,5]\n",
        "0\n",
        "```\n",
        "\n",
        "```\n",
        "test_list = [1, 1, 2, 3, 3]\n",
        "2\n",
        "```\n",
        "\n",
        "```\n",
        "test_list = [1, 1, 1, 1, 1, 1]\n",
        "5\n",
        "```"
      ],
      "metadata": {
        "id": "k9AyNl--goV7"
      }
    },
    {
      "cell_type": "code",
      "source": [],
      "metadata": {
        "id": "cDIVFNK_goDR"
      },
      "execution_count": null,
      "outputs": []
    },
    {
      "cell_type": "markdown",
      "source": [
        "**Q13**: FizzBuzz\n",
        "\n",
        "Given an integer $n$, return a list $answer$ where:\n",
        "\n",
        "* $\\texttt{answer[i] == \"FizzBuzz\"}$ if $\\texttt{i}$ is divisible by 3 and 5.\n",
        "* $\\texttt{answer[i] == \"Fizz\"}$ if $\\texttt{i}$ is divisible by 3.\n",
        "* $\\texttt{answer[i] == \"Buzz\"}$ if $\\texttt{i}$ is divisible by 5.\n",
        "* $\\texttt{answer[i] == i}$ if none of the above conditions are true.\n",
        "\n",
        "\n",
        "Example 1:\n",
        "\n",
        "```\n",
        "Enter n: 3\n",
        "[1,2,'Fizz']\n",
        "```\n",
        "\n",
        "Example 2:\n",
        "\n",
        "```\n",
        "Enter n: 5\n",
        "[1,2,'Fizz',4,'Buzz']\n",
        "```\n",
        "\n",
        "Example 3:\n",
        "\n",
        "```\n",
        "Enter n: 15\n",
        "[1,2,'Fizz',4,'Buzz','Fizz',7,8,'Fizz','Buzz',11,'Fizz',13,14,'FizzBuzz']\n",
        "```"
      ],
      "metadata": {
        "id": "VYaNfVV-gwRK"
      }
    },
    {
      "cell_type": "code",
      "source": [],
      "metadata": {
        "id": "ExoByxEqgw8d"
      },
      "execution_count": null,
      "outputs": []
    }
  ]
}
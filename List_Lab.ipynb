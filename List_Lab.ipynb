{
  "nbformat": 4,
  "nbformat_minor": 0,
  "metadata": {
    "colab": {
      "provenance": [],
      "authorship_tag": "ABX9TyMBs48KJElzyWonHOmjkJPb",
      "include_colab_link": true
    },
    "kernelspec": {
      "name": "python3",
      "display_name": "Python 3"
    },
    "language_info": {
      "name": "python"
    }
  },
  "cells": [
    {
      "cell_type": "markdown",
      "metadata": {
        "id": "view-in-github",
        "colab_type": "text"
      },
      "source": [
        "<a href=\"https://colab.research.google.com/github/yongsa-nut/TU_CN101_67-1/blob/main/List_Lab.ipynb\" target=\"_parent\"><img src=\"https://colab.research.google.com/assets/colab-badge.svg\" alt=\"Open In Colab\"/></a>"
      ]
    },
    {
      "cell_type": "markdown",
      "source": [
        "พิมพ์ชื่อนามสกุล และ id ด้านล่าง"
      ],
      "metadata": {
        "id": "iKSWEcXjog9w"
      }
    },
    {
      "cell_type": "code",
      "source": [],
      "metadata": {
        "id": "mpmEkYgholqd"
      },
      "execution_count": null,
      "outputs": []
    },
    {
      "cell_type": "markdown",
      "source": [
        "**Q1**:  What will this program print out?\n",
        "\n",
        "```python\n",
        "temp = [5,5,4,4,4,3,3]\n",
        "temp[0] = 1\n",
        "temp[1] = len(temp)\n",
        "temp[len(temp)-1] = temp[0]*2\n",
        "print(temp)\n",
        "```"
      ],
      "metadata": {
        "id": "G795h03nbvvN"
      }
    },
    {
      "cell_type": "code",
      "execution_count": null,
      "metadata": {
        "id": "QNwMAj18am2U"
      },
      "outputs": [],
      "source": []
    },
    {
      "cell_type": "markdown",
      "source": [
        "**Q2**: What will this program print out?\n",
        "```python\n",
        "seq1 = [1,2,3]\n",
        "seq2 = [4,4,4]\n",
        "seq3 = seq1 + seq2\n",
        "seq3[4] = 5\n",
        "print(seq3)\n",
        "```"
      ],
      "metadata": {
        "id": "DnuUaTFdcKyq"
      }
    },
    {
      "cell_type": "code",
      "source": [],
      "metadata": {
        "id": "Fq3QbxAPcKfS"
      },
      "execution_count": null,
      "outputs": []
    },
    {
      "cell_type": "markdown",
      "source": [
        "**Q3** What will this program print out?\n",
        "```python\n",
        "seq1 = [0]*5\n",
        "seq2 = [1,2,3]*3\n",
        "print(seq1 + seq2)\n",
        "```"
      ],
      "metadata": {
        "id": "-KlaL5R0cdx6"
      }
    },
    {
      "cell_type": "code",
      "source": [],
      "metadata": {
        "id": "9zB4xZ1qchml"
      },
      "execution_count": null,
      "outputs": []
    },
    {
      "cell_type": "markdown",
      "source": [
        "**Q4**: What will this program print out?\n",
        "\n",
        "```python\n",
        "target = 'E'\n",
        "if target in ['A','B','C']:\n",
        "  print([target]*1)\n",
        "elif target in ['A','D','FE']:\n",
        "  print([target]*2)\n",
        "elif target in ['A','E','I','O','U']:\n",
        "  print([target]*3)\n",
        "else:\n",
        "  print([target]*4)\n",
        "```"
      ],
      "metadata": {
        "id": "FYK3Zja6cpCI"
      }
    },
    {
      "cell_type": "code",
      "source": [],
      "metadata": {
        "id": "FiUr6JDIcpvW"
      },
      "execution_count": null,
      "outputs": []
    },
    {
      "cell_type": "markdown",
      "source": [
        "**Q5**: What will this program print out if the user enters `122`?\n",
        "\n",
        "```python\n",
        "references = [12,234,671,32,122,99]\n",
        "query = int(input('Enter your query'))\n",
        "if query in references:\n",
        "  print('Yes')\n",
        "else:\n",
        "  print('No')\n",
        "```"
      ],
      "metadata": {
        "id": "7vokzkwbcurZ"
      }
    },
    {
      "cell_type": "code",
      "source": [],
      "metadata": {
        "id": "z2un3zk5cu7T"
      },
      "execution_count": null,
      "outputs": []
    },
    {
      "cell_type": "markdown",
      "source": [
        "**Q6**: What will this program print out?\n",
        "\n",
        "```python\n",
        "temp = [30,20,18,90,77,44]\n",
        "new_list = []\n",
        "for num in temp:\n",
        "  if num > 20:\n",
        "    new_list.append(num)\n",
        "print(new_list)\n",
        "```"
      ],
      "metadata": {
        "id": "2llhtNH7eevM"
      }
    },
    {
      "cell_type": "code",
      "source": [],
      "metadata": {
        "id": "Qf47vpdGefHz"
      },
      "execution_count": null,
      "outputs": []
    },
    {
      "cell_type": "markdown",
      "source": [
        "**Q7**: What will this program print out?\n",
        "```python\n",
        "initial = [1,1]\n",
        "for i in range(1,5):\n",
        "  initial.append(initial[i-1] + initial[i])\n",
        "print(initial)\n",
        "```"
      ],
      "metadata": {
        "id": "HT8IvcdVfcS0"
      }
    },
    {
      "cell_type": "code",
      "source": [],
      "metadata": {
        "id": "5HkCcuHvfcCk"
      },
      "execution_count": null,
      "outputs": []
    },
    {
      "cell_type": "markdown",
      "source": [
        "**Q8**: What will this program print out?\n",
        "```python\n",
        "names = [['Alice','Bob'],['Anna','Mike'],['Mary','Richard']]\n",
        "print(names[0][1], names[2][0])\n",
        "```"
      ],
      "metadata": {
        "id": "3ytgblXrf5aI"
      }
    },
    {
      "cell_type": "code",
      "source": [],
      "metadata": {
        "id": "227gS8gWgIJN"
      },
      "execution_count": null,
      "outputs": []
    },
    {
      "cell_type": "markdown",
      "source": [
        "**Q9:** What will the following code print out?\n",
        "\n",
        "```python\n",
        "numbers = [7, 8, 25, 20, 25]\n",
        "numbers.insert(3, 10)\n",
        "numbers.sort()\n",
        "numbers.remove(25)\n",
        "print(numbers)\n",
        "```"
      ],
      "metadata": {
        "id": "YCq7cN7ykaxR"
      }
    },
    {
      "cell_type": "code",
      "source": [],
      "metadata": {
        "id": "BxR14YR7kfnQ"
      },
      "execution_count": null,
      "outputs": []
    },
    {
      "cell_type": "markdown",
      "source": [
        "**Q10**: What will the following code print out?\n",
        "\n",
        "```python\n",
        "items = [1, 2, 3, 4]\n",
        "list1 = [item+1 for item in items]\n",
        "list2 = [item**2 for item in items if item%2 ==0]\n",
        "print(list1)\n",
        "print(list2)\n",
        "```"
      ],
      "metadata": {
        "id": "brnBydr6kf8M"
      }
    },
    {
      "cell_type": "code",
      "source": [],
      "metadata": {
        "id": "qeGlaIuykixo"
      },
      "execution_count": null,
      "outputs": []
    },
    {
      "cell_type": "markdown",
      "source": [
        "**Q11** Fill in the blank so that the program prints out `[2,4,6,8]`"
      ],
      "metadata": {
        "id": "De3ZMDu_gHmk"
      }
    },
    {
      "cell_type": "code",
      "source": [
        "my_list = []\n",
        "for num in range(1,10):\n",
        "  if ______________________:\n",
        "    ______________________\n",
        "print(my_list)"
      ],
      "metadata": {
        "id": "kDEIAPYCggSU"
      },
      "execution_count": null,
      "outputs": []
    },
    {
      "cell_type": "markdown",
      "source": [
        "**Q12** Fill in the blank so that the program prints out `[1, 4, 9, 16]`"
      ],
      "metadata": {
        "id": "Ib2M4AXWhD54"
      }
    },
    {
      "cell_type": "code",
      "source": [
        "numbers = [0, 1, 2, 3]\n",
        "print([_____ for ____ in numbers])"
      ],
      "metadata": {
        "id": "TM9CyJZ7hsdN"
      },
      "execution_count": null,
      "outputs": []
    },
    {
      "cell_type": "markdown",
      "source": [
        "**Q13** Fill in the blank so that the program print out `[5, 10, 15]`"
      ],
      "metadata": {
        "id": "5rQXUaoAkydd"
      }
    },
    {
      "cell_type": "code",
      "source": [
        "sequences = [1, 5, 10, 3, 15, 4, 7, 9]\n",
        "new_list = [____ for ____ in sequences ___________]\n",
        "print(new_list)"
      ],
      "metadata": {
        "id": "mUBmMi13k1v9"
      },
      "execution_count": null,
      "outputs": []
    },
    {
      "cell_type": "markdown",
      "source": [
        "**Q14**: สร้าง list จาก user\n",
        "\n",
        "จงเขียนโปรแกรม เพื่อรับข้อมูลนำเข้าจาก user และมาสร้างเป็น list. User จะพิมพ์ค่า `n` ก่อนแล้วหลังจากนั้นจะพิมพ์ข้อมูล จำนวนเต็มอีก `n` ค่า\n",
        "\n",
        "หลังจากนั้น ให้หาค่า ค่าเฉลี่ยของ list และ สร้าง list อีก list ที่ลบค่าเฉลี่ยออกจากจำนวนทุกค่า\n",
        "\n",
        "**Extra**: ลองทำทั้งแบบที่ใช้ append และ list comprehension\n",
        "\n",
        "Hint: สามารถใช้ `sum()` ได้\n",
        "\n",
        "Example 1:\n",
        "```\n",
        "Enter n: 3\n",
        "Enter number: 1\n",
        "Enter number: 1\n",
        "Enter number: 1\n",
        "The original list is [1, 1, 1]\n",
        "The mean is 1.00\n",
        "The new list is [0.0, 0.0, 0.0]\n",
        "```\n",
        "\n",
        "Example 2:\n",
        "\n",
        "```\n",
        "Enter n: 5\n",
        "Enter number: 1\n",
        "Enter number: 3\n",
        "Enter number: 5\n",
        "Enter number: 7\n",
        "Enter number: 9\n",
        "The original list is [1, 3, 5, 7, 9]\n",
        "The mean is 5.00\n",
        "The new list is [-4.0, -2.0, 0.0, 2.0, 4.0]\n",
        "```\n"
      ],
      "metadata": {
        "id": "k9AyNl--goV7"
      }
    },
    {
      "cell_type": "code",
      "source": [
        "\n",
        "\n"
      ],
      "metadata": {
        "id": "cDIVFNK_goDR"
      },
      "execution_count": null,
      "outputs": []
    },
    {
      "cell_type": "markdown",
      "source": [
        "**Q15**: FizzBuzz\n",
        "\n",
        "Given an integer $n$, return a list $answer$ where:\n",
        "\n",
        "* $\\texttt{answer[i] == \"FizzBuzz\"}$ if $\\texttt{i}$ is divisible by 3 and 5.\n",
        "* $\\texttt{answer[i] == \"Fizz\"}$ if $\\texttt{i}$ is divisible by 3.\n",
        "* $\\texttt{answer[i] == \"Buzz\"}$ if $\\texttt{i}$ is divisible by 5.\n",
        "* $\\texttt{answer[i] == i}$ if none of the above conditions are true.\n",
        "\n",
        "\n",
        "Example 1:\n",
        "\n",
        "```\n",
        "Enter n: 3\n",
        "[1,2,'Fizz']\n",
        "```\n",
        "\n",
        "Example 2:\n",
        "\n",
        "```\n",
        "Enter n: 5\n",
        "[1,2,'Fizz',4,'Buzz']\n",
        "```\n",
        "\n",
        "Example 3:\n",
        "\n",
        "```\n",
        "Enter n: 15\n",
        "[1,2,'Fizz',4,'Buzz','Fizz',7,8,'Fizz','Buzz',11,'Fizz',13,14,'FizzBuzz']\n",
        "```"
      ],
      "metadata": {
        "id": "VYaNfVV-gwRK"
      }
    },
    {
      "cell_type": "code",
      "source": [
        "\n",
        "\n"
      ],
      "metadata": {
        "id": "ExoByxEqgw8d"
      },
      "execution_count": null,
      "outputs": []
    },
    {
      "cell_type": "markdown",
      "source": [
        "## การส่ง\n",
        "- File -> Download -> Download .ipynb\n",
        "- Upload to MS Teams"
      ],
      "metadata": {
        "id": "SUAOgfPAEXw8"
      }
    }
  ]
}
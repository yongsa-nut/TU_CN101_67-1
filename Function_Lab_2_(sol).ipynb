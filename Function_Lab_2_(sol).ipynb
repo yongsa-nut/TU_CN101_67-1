{
  "nbformat": 4,
  "nbformat_minor": 0,
  "metadata": {
    "colab": {
      "provenance": [],
      "authorship_tag": "ABX9TyMtxhbTK7+9sBgFs/gNcSXv",
      "include_colab_link": true
    },
    "kernelspec": {
      "name": "python3",
      "display_name": "Python 3"
    },
    "language_info": {
      "name": "python"
    }
  },
  "cells": [
    {
      "cell_type": "markdown",
      "metadata": {
        "id": "view-in-github",
        "colab_type": "text"
      },
      "source": [
        "<a href=\"https://colab.research.google.com/github/yongsa-nut/TU_CN101_67-1/blob/main/Function_Lab_2_(sol).ipynb\" target=\"_parent\"><img src=\"https://colab.research.google.com/assets/colab-badge.svg\" alt=\"Open In Colab\"/></a>"
      ]
    },
    {
      "cell_type": "markdown",
      "source": [
        "เขียนชื่อ นามสกุล และ รหัสนักศึกษา ด้านล่าง"
      ],
      "metadata": {
        "id": "C72cCxwOnXF7"
      }
    },
    {
      "cell_type": "code",
      "execution_count": null,
      "metadata": {
        "id": "ch9HNflOnUcQ"
      },
      "outputs": [],
      "source": []
    },
    {
      "cell_type": "markdown",
      "source": [
        "**Q1**: What will the following program print out?\n",
        "\n",
        "```python\n",
        "def funcx(n):\n",
        "  y = 1+n**2\n",
        "  return 2*y\n",
        "\n",
        "def main():\n",
        "  print(funcx(funcx(2)))\n",
        "  \n",
        "main()\n",
        "```"
      ],
      "metadata": {
        "id": "gtc29vyTnXw_"
      }
    },
    {
      "cell_type": "code",
      "source": [
        "202"
      ],
      "metadata": {
        "id": "i53RS0N9ngV1"
      },
      "execution_count": null,
      "outputs": []
    },
    {
      "cell_type": "markdown",
      "source": [
        "**Q2**: What will the following program print out?\n",
        "\n",
        "```python\n",
        "def my_func(x=3, y=5):\n",
        " return x*y, x-y\n",
        "\n",
        "x, y = my_func(y=5, x=4)\n",
        "print(x, y)\n",
        "```"
      ],
      "metadata": {
        "id": "nHPrWd_fnglu"
      }
    },
    {
      "cell_type": "code",
      "source": [
        "20 -1"
      ],
      "metadata": {
        "id": "_-OUA9CUnhYI"
      },
      "execution_count": null,
      "outputs": []
    },
    {
      "cell_type": "markdown",
      "source": [
        "**Q3**: What will the following program print out?\n",
        "\n",
        "```python\n",
        "import math\n",
        "\n",
        "if math.e > 5:\n",
        "  print(\"Hello\", end='-')\n",
        "  if math.pi > 3:\n",
        "    print(\"Hi\")\n",
        "  else:\n",
        "    print(\"Bye\")\n",
        "else:\n",
        "  print(\"Noon\", end='-')\n",
        "  if math.pi < 3:\n",
        "    print(\"Rain\")\n",
        "  else:\n",
        "    print(\"Sunny\")\n",
        "```"
      ],
      "metadata": {
        "id": "vtpPQn60nhjm"
      }
    },
    {
      "cell_type": "code",
      "source": [
        "Noon-Sunny"
      ],
      "metadata": {
        "id": "05PWUfYMnigL"
      },
      "execution_count": null,
      "outputs": []
    },
    {
      "cell_type": "markdown",
      "source": [
        "**Q4**: What will the following program print out?\n",
        "\n",
        "```python\n",
        "def double(x=0, y=1):\n",
        "  return x*2, y*2\n",
        "\n",
        "def cal_sum(start, end, step = 2):\n",
        "  total = 0\n",
        "  for i in range(start, end, step):\n",
        "    total += i\n",
        "  return total\n",
        "\n",
        "def main():\n",
        "  start, end = double(y = 3)\n",
        "  result = cal_sum(start, end)\n",
        "  print(result)\n",
        "\n",
        "main()\n",
        "```"
      ],
      "metadata": {
        "id": "YsH8duS-ni3U"
      }
    },
    {
      "cell_type": "code",
      "source": [
        "6"
      ],
      "metadata": {
        "id": "oECSBwHznjrN"
      },
      "execution_count": null,
      "outputs": []
    },
    {
      "cell_type": "markdown",
      "source": [
        "**Q5**: What will the following program print out?\n",
        "\n",
        "```python\n",
        "my_number   = 5\n",
        "your_number = 10\n",
        "\n",
        "def do_something(x, y):\n",
        "  x = x + y\n",
        "  print(x, end=\",\")\n",
        "\n",
        "def do_more(x):\n",
        "  x = my_number + your_number\n",
        "  print(x, end=\",\")\n",
        "\n",
        "def do_another():\n",
        "  global my_number\n",
        "  my_number += 1\n",
        "  do_something(my_number, your_number)\n",
        "\n",
        "def main()\n",
        "  do_something(my_number, your_number)\n",
        "  do_more(5)\n",
        "  do_another()\n",
        "  do_something(my_number, your_number)\n",
        "\n",
        "main()\n",
        "```"
      ],
      "metadata": {
        "id": "kJzt4BLEnj4R"
      }
    },
    {
      "cell_type": "code",
      "source": [
        "15,15,16,16,"
      ],
      "metadata": {
        "id": "jpWF--U2nko4"
      },
      "execution_count": null,
      "outputs": []
    },
    {
      "cell_type": "markdown",
      "source": [
        "**Q6** Fill in the blank so that the program print out 7."
      ],
      "metadata": {
        "id": "wViwKi37oaJp"
      }
    },
    {
      "cell_type": "code",
      "source": [
        "def y(x, z = 4):\n",
        "  return z+x\n",
        "\n",
        "def main():\n",
        "  x = y(3)\n",
        "  print(x)\n",
        "main()"
      ],
      "metadata": {
        "id": "mQ0panAEocDq",
        "outputId": "70399c93-cf63-40d0-eeca-c652a714540f",
        "colab": {
          "base_uri": "https://localhost:8080/"
        }
      },
      "execution_count": null,
      "outputs": [
        {
          "output_type": "stream",
          "name": "stdout",
          "text": [
            "7\n"
          ]
        }
      ]
    },
    {
      "cell_type": "markdown",
      "source": [
        "**Q7**:\n",
        "Fill in the blank to calculate the following equation: $y = \\frac{1}{2\\pi}e^{\\frac{-(x-\\mu)^2}{2}}$ (Note $\\mu$ = mu)"
      ],
      "metadata": {
        "id": "mC5ik0IMoWLO"
      }
    },
    {
      "cell_type": "code",
      "source": [
        "import math\n",
        "x = float(input('Enter x: ' ))\n",
        "mu = float(input('Enter mu: '))\n",
        "y = (1/(2*math.pi))*math.e**(-((x-mu)**2)/2)"
      ],
      "metadata": {
        "id": "bjJFTeJloXwY"
      },
      "execution_count": null,
      "outputs": []
    },
    {
      "cell_type": "markdown",
      "source": [
        "**Q8**: เติม code ในช่องว่างเพื่อให้โปรแกรมแสดงผลเป็นตัวเลขแรนด้อมระหว่างค่า lower และ upper ที่ได้มาจาก user."
      ],
      "metadata": {
        "id": "Sbw9yxuRpttp"
      }
    },
    {
      "cell_type": "code",
      "source": [
        "import random\n",
        "\n",
        "lower = int(input('Enter lower: '))\n",
        "upper = int(input('Enter upper: '))\n",
        "\n",
        "rand_num = random.randint(lower, upper)\n",
        "print(rand_num)"
      ],
      "metadata": {
        "id": "7X9RcKlurAgD",
        "outputId": "7a947547-671b-4e0f-ecf7-a45fe703975e",
        "colab": {
          "base_uri": "https://localhost:8080/"
        }
      },
      "execution_count": null,
      "outputs": [
        {
          "output_type": "stream",
          "name": "stdout",
          "text": [
            "Enter lower: 5\n",
            "Enter upper: 10\n",
            "5\n"
          ]
        }
      ]
    },
    {
      "cell_type": "markdown",
      "source": [
        "**Q9** เติม code ในช่องว่างเพื่อให้ function ส่งค่ากลับ (**return**) ตัวเลขที่แรนด้อมระหว่าง 1 ถึง 50 (เอา 1 และ 50 ด้วย)."
      ],
      "metadata": {
        "id": "OV8BzL71o1_n"
      }
    },
    {
      "cell_type": "code",
      "source": [
        "import random\n",
        "\n",
        "def gen_random_result(i):\n",
        "  random.seed(i)\n",
        "  return random.randint(1,50)\n",
        "\n",
        "def main():\n",
        "  print(gen_random_result(7))\n",
        "\n",
        "main()"
      ],
      "metadata": {
        "id": "hwSjmfs6o5A_",
        "outputId": "e70afb09-cce0-458c-fb65-0333dfb1897f",
        "colab": {
          "base_uri": "https://localhost:8080/"
        }
      },
      "execution_count": null,
      "outputs": [
        {
          "output_type": "stream",
          "name": "stdout",
          "text": [
            "21\n"
          ]
        }
      ]
    },
    {
      "cell_type": "markdown",
      "source": [
        "**Q10**: สร้าง random number list\n",
        "\n",
        "จงเขียน function `gen_random(n)` ที่รับค่า n เข้าไปแล้ว return a list ที่มีตัวเลขที่สุ่มมาระหว่าง 1 ถึง 10.\n",
        "\n",
        "**Input**:\n",
        "- seed number\n",
        "- $n$ indicates the number of random numbers to be generated.\n",
        "\n",
        "**Output**:\n",
        "- A list of randomly generated numbers\n",
        "\n",
        "**หมายเหตุ**:\n",
        "- จะต้อง สร้าง function `main()` มารับค่าจาก user และเรียกใช้ `gen_random(n)`\n",
        "- จะต้อง สร้าง function `gen_random(n)`\n",
        "\n",
        "Example 1:\n",
        "```\n",
        "Enter seed: 7\n",
        "Enter n: 5\n",
        "[6, 3, 7, 1, 2]\n",
        "```\n",
        "\n",
        "Example 2:\n",
        "```\n",
        "Enter seed: 77\n",
        "Enter n: 10\n",
        "[5, 6, 4, 4, 4, 2, 5, 8, 9, 10]\n",
        "```"
      ],
      "metadata": {
        "id": "l2lI5ldNsucm"
      }
    },
    {
      "cell_type": "code",
      "source": [
        "import random\n",
        "\n",
        "def gen_random(n):\n",
        "  # Input: n = the number of random numbers in the list\n",
        "  # Output: list\n",
        "  lst = []\n",
        "  for i in range(n):\n",
        "    num_random = random.randint(1,10)\n",
        "    lst.append(num_random)\n",
        "  # lst = [random.randint(1,10) for i in range(n)]\n",
        "  return lst\n",
        "\n",
        "def main():\n",
        "  seed = int(input('Enter seed: '))\n",
        "  n = int(input('Enter n: '))\n",
        "  random.seed(seed)\n",
        "  lst = gen_random(n)\n",
        "  print(lst)\n",
        "\n",
        "main()"
      ],
      "metadata": {
        "id": "hgS486QssxCB",
        "outputId": "233613e5-f768-408b-aeb3-f97cefbe8fad",
        "colab": {
          "base_uri": "https://localhost:8080/"
        }
      },
      "execution_count": null,
      "outputs": [
        {
          "output_type": "stream",
          "name": "stdout",
          "text": [
            "Enter seed: 77\n",
            "Enter n: 10\n",
            "[5, 6, 4, 4, 4, 2, 5, 8, 9, 10]\n"
          ]
        }
      ]
    },
    {
      "cell_type": "markdown",
      "source": [
        "**Q11**: Mean and Standard Deviation\n",
        "\n",
        "จงเขียนโปรแกรมเพื่อคำนวณค่า standard deviation ของข้อมูลที่ได้รับ\n",
        "\n",
        "สูตรของ standard deviation คือ:\n",
        "\n",
        "$s.d. = \\sqrt{\\frac{∑_{i=1}^n(x_i - x̄)^2}{n}}$,\n",
        "\n",
        "โดยที่ $n$ คือ จำนวนข้อมูล และ $x̄$ คือ mean, $\\frac{1}{n}∑_{i=1}^n(x_i)$.\n",
        "\n",
        "**หมายเหตุ**:\n",
        "- จะต้องสร้าง function `mean(list)` เพื่อ คำนวณหาค่า mean ของ list ที่ให้มา\n",
        "- จะต้องสร้าง function `standard_deviation(list)` เพื่อคำนวณค่า standard deviation และจะต้องมีการเรียกใช้ function `mean(list)`\n",
        "- function `main()` ได้สร้างไว้ให้แล้ว\n",
        "\n",
        "Example 1:\n",
        "```\n",
        "standard_deviation([1, 2, 3, 4, 5])\n",
        "1.41\n",
        "```\n",
        "Explanation:\n",
        "- mean = $(1 + 2 + 3 + 4 + 5)/5$ = 3\n",
        "- $(1-3)^2 + (2-3)^2 + (3-3)^2 + (4-3)^2 + (5-3)^2 = 4 + 1 + 0 + 1 + 4 = 10$\n",
        "- $10/5 = 2$\n",
        "- $\\sqrt{2} = 1.41...$\n",
        "\n",
        "Example 2:\n",
        "```\n",
        "standard_deviation([10, 3, 8, 1, 9, 1, 3])\n",
        "3.59\n",
        "```\n",
        "\n",
        "Example 3:\n",
        "```\n",
        "standard_deviation([5, 5, 3, 8, 9, 7, 10, 6, 3, 9])\n",
        "2.38\n",
        "```\n",
        "\n",
        "\n"
      ],
      "metadata": {
        "id": "un1erguqpvra"
      }
    },
    {
      "cell_type": "code",
      "source": [
        "import math\n",
        "\n",
        "def mean(data):\n",
        "  # Calculate the mean of the data.\n",
        "  # input: data เป็น list e.g., data = [1,2,3,4,5]\n",
        "  # output: ตัวเลขหนึ่งตัว\n",
        "  return sum(data)/len(data)\n",
        "\n",
        "def standard_deviation(data):\n",
        "  # Calculate the standard_deviation of the data.\n",
        "  # input: data เป็น list e.g., data = [1,2,3,4,5]\n",
        "  # output: ตัวเลขหนึ่งตัว\n",
        "\n",
        "  x_bar = mean(data) # เรียกใช้ mean() เพื่อหา ค่า mean\n",
        "  total = 0\n",
        "  for d in data:\n",
        "    total += (d - x_bar)**2\n",
        "  sd = (total/len(data))**(0.5)\n",
        "  # sd = (sum([(d - x_bar)**2 for d in data])/len(data))**(0.5) # list comprehension\n",
        "  return sd\n",
        "\n",
        "def main():\n",
        "\n",
        "  # Example 1\n",
        "  data = [1, 2, 3, 4, 5]\n",
        "  print(f\"{standard_deviation(data):.2f}\") # 1.41\n",
        "  # Example 2\n",
        "  data = [10, 3, 8, 1, 9, 1, 3]\n",
        "  print(f\"{standard_deviation(data):.2f}\") # 3.59\n",
        "  # Example 3\n",
        "  data = [5, 5, 3, 8, 9, 7, 10, 6, 3, 9]\n",
        "  print(f\"{standard_deviation(data):.2f}\") # 2.38\n",
        "\n",
        "main()"
      ],
      "metadata": {
        "id": "LZSMLy5Tpxmk",
        "outputId": "3ad14f7d-e365-46af-b78a-79d0f40e1484",
        "colab": {
          "base_uri": "https://localhost:8080/"
        }
      },
      "execution_count": null,
      "outputs": [
        {
          "output_type": "stream",
          "name": "stdout",
          "text": [
            "1.41\n",
            "3.59\n",
            "2.38\n"
          ]
        }
      ]
    },
    {
      "cell_type": "markdown",
      "source": [
        "**Q12** Calculate Midpoint and Distance\n",
        "\n",
        "เขียนโปรแกรมรับค่าสี่ค่า (x1, y1) และ (x2, y2) จาก user ซึ่งเป็นค่าของคำแหน่ง x,y ของจุดสองจุด. แล้วนำมาคำนวณ ระยะห่างระหว่างจุดสองจุดนี้ และ จุดกึ่งกลาง (mid point) ระหว่างจุดสองจุดนี้\n",
        "\n",
        "Your tasks:\n",
        "* สร้าง $\\texttt{main}$ function เพื่อมารับค่าจาก user.\n",
        "* สร้าง $\\texttt{cal_distance(x1, y1, x2, y2)}$ function ซึ่งรับค่า สี่ค่า และคำนวณระยะทางระหว่างจุดสองจุด และส่งค่านั้นกลับมา\n",
        "  * Distance between $(x_1, y_1)$ and $(x_2, y_2) $ = $\\sqrt{(x_1 - x_2)^2 + (y_1 - y_2)^2}$\n",
        "* สร้าง $\\texttt{cal_midpoint(x1, y1, x2, y2)}$ function ซึ่งรับค่าสี่ค่า และคำนวณจุดกลึ่งกลาง และส่งค่า $x$ และ $y$ ของจุดนั้นกลับมา\n",
        "  * Midpoint ($x_3, y_3$) = $(\\frac{x_1 + x_2}{2}, \\frac{y_1 + y_2}{2})$\n",
        "\n",
        "\n",
        "**Input**: 4 integer numbers\n",
        "\n",
        "**Output**: 1) distance (3 decimals) and 2) the mid point (2 decimals)\n",
        "\n",
        "example:\n",
        "```\n",
        "Enter x1: 1\n",
        "Enter y1: 2\n",
        "Enter x2: 3\n",
        "Enter y2: 4\n",
        "Distance = 2.828\n",
        "Midpoint = (2.00, 3.00)\n",
        "```"
      ],
      "metadata": {
        "id": "E3fop40apaxE"
      }
    },
    {
      "cell_type": "code",
      "source": [
        "#implement cal_distance function here\n",
        "def cal_distance(x1, y1, x2, y2):\n",
        "  # Input: x1, y1, x2, y2 คือ ตำแหน่งของจุดสองจุด\n",
        "  # Output: distance\n",
        "  dist = ((x1 -x2)**2 + (y1-y2)**2)**0.5\n",
        "  return dist\n",
        "\n",
        "#implement cal_midpoint function here\n",
        "def cal_midpoint(x1, y1, x2, y2):\n",
        "  # Input: x1, y1, x2, y2 คือ ตำแหน่งของจุดสองจุด\n",
        "  # Output: x_mid, y_mid\n",
        "  return (x1+x2)/2, (y1+y2)/2\n",
        "\n",
        "def main():\n",
        "  x1 = float(input(\"Enter x1: \"))\n",
        "  y1 = float(input(\"Enter y1: \"))\n",
        "  x2 = float(input(\"Enter x2: \"))\n",
        "  y2 = float(input(\"Enter y2: \"))\n",
        "  #Call the functions and print out answers below\n",
        "  dist = cal_distance(x1,y1,x2,y2)\n",
        "  x_mid, y_mid = cal_midpoint(x1,y1,x2,y2)\n",
        "\n",
        "  print(f'Distance = {dist:.3f}')\n",
        "  print(f'Midpoint = ({x_mid:.2f},{y_mid:.2f})')\n",
        "\n",
        "main()"
      ],
      "metadata": {
        "id": "uB1sO5Qvpb_A",
        "outputId": "62aa3e99-2b6d-4f81-c8fd-e555602ac0ac",
        "colab": {
          "base_uri": "https://localhost:8080/"
        }
      },
      "execution_count": null,
      "outputs": [
        {
          "output_type": "stream",
          "name": "stdout",
          "text": [
            "Enter x1: 1\n",
            "Enter y1: 2\n",
            "Enter x2: 3\n",
            "Enter y2: 4\n",
            "Distance = 2.828\n",
            "Midpoint = (2.00,3.00)\n"
          ]
        }
      ]
    }
  ]
}
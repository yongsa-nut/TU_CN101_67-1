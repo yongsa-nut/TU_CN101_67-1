{
  "nbformat": 4,
  "nbformat_minor": 0,
  "metadata": {
    "colab": {
      "provenance": [],
      "authorship_tag": "ABX9TyMgRAvmnjxOekGfvrNepj+2",
      "include_colab_link": true
    },
    "kernelspec": {
      "name": "python3",
      "display_name": "Python 3"
    },
    "language_info": {
      "name": "python"
    }
  },
  "cells": [
    {
      "cell_type": "markdown",
      "metadata": {
        "id": "view-in-github",
        "colab_type": "text"
      },
      "source": [
        "<a href=\"https://colab.research.google.com/github/yongsa-nut/TU_CN101_67-1/blob/main/Repetition_Structure_and_List_Lab_v2.ipynb\" target=\"_parent\"><img src=\"https://colab.research.google.com/assets/colab-badge.svg\" alt=\"Open In Colab\"/></a>"
      ]
    },
    {
      "cell_type": "markdown",
      "source": [
        "เขียนชื่อ นามสกุล และ id ด้านล่าง"
      ],
      "metadata": {
        "id": "-Lxsz9oTcdl4"
      }
    },
    {
      "cell_type": "code",
      "source": [],
      "metadata": {
        "id": "xW0Mf4oWcgIm"
      },
      "execution_count": null,
      "outputs": []
    },
    {
      "cell_type": "markdown",
      "source": [
        "**Q1**: What is the output of this program?\n",
        "```python\n",
        "my_list = [1,2,3,4,7,12]\n",
        "print(my_list[0], my_list[2], my_list[-1])\n",
        "```"
      ],
      "metadata": {
        "id": "lKf1LVXHmeYd"
      }
    },
    {
      "cell_type": "code",
      "source": [],
      "metadata": {
        "id": "L5CmtQ6jmeAv"
      },
      "execution_count": null,
      "outputs": []
    },
    {
      "cell_type": "markdown",
      "source": [
        "**Q2**: What is the output of this program?\n",
        "```python\n",
        "numbers = [1, 2, 3, 4, 5]\n",
        "for num in numbers:\n",
        "    print(num * 2, end=\" \")\n",
        "```"
      ],
      "metadata": {
        "id": "NBvNyGZ6nkeh"
      }
    },
    {
      "cell_type": "code",
      "source": [],
      "metadata": {
        "id": "8vYc5ahsnkBe"
      },
      "execution_count": null,
      "outputs": []
    },
    {
      "cell_type": "markdown",
      "source": [
        "**Q3**: What is the outout of this program?\n",
        "```python\n",
        "sequences = [7, 9, 10, 12]\n",
        "for i in range(len(sequences)):\n",
        "  print(f'{i} {sequences[i]}')\n",
        "```"
      ],
      "metadata": {
        "id": "dV72zeSQWnuQ"
      }
    },
    {
      "cell_type": "code",
      "source": [],
      "metadata": {
        "id": "13e5WoZgW-LT"
      },
      "execution_count": null,
      "outputs": []
    },
    {
      "cell_type": "markdown",
      "source": [
        "**Q4**: What is the output of this program?\n",
        "\n",
        "```python\n",
        "words = ['AAA','BBB','CCC','DDD','FFF']\n",
        "for i in range(len(words)):\n",
        "  if words[i] != 'BBB':\n",
        "    print(words[i], end=',')\n",
        "  if words[i] == 'DDD':\n",
        "    break\n",
        "```"
      ],
      "metadata": {
        "id": "RqNsh5B-npto"
      }
    },
    {
      "cell_type": "code",
      "source": [],
      "metadata": {
        "id": "yMHJS6IunqAK"
      },
      "execution_count": null,
      "outputs": []
    },
    {
      "cell_type": "markdown",
      "source": [
        "**Q5**: What is the output of this program?\n",
        "```python\n",
        "numbers = [1, 2, 3, 4]\n",
        "numbers[1] = numbers[0] + numbers[1]\n",
        "numbers[2] = numbers[1] + numbers[2]\n",
        "numbers[3] = numbers[2] + numbers[3]\n",
        "print(numbers)\n",
        "```"
      ],
      "metadata": {
        "id": "gmAOf0K8optT"
      }
    },
    {
      "cell_type": "code",
      "source": [],
      "metadata": {
        "id": "39Xqd4Gsoudl"
      },
      "execution_count": null,
      "outputs": []
    },
    {
      "cell_type": "markdown",
      "source": [
        "**Q6**: What is the output of this program?\n",
        "```python\n",
        "seq1 = [1,2,3,4]\n",
        "n1 = len(seq1)\n",
        "seq2 = [323,1234,123156311]\n",
        "n2 = len(seq2)\n",
        "print(n1, n2)\n",
        "```"
      ],
      "metadata": {
        "id": "ql0Rq77hpw8L"
      }
    },
    {
      "cell_type": "code",
      "source": [],
      "metadata": {
        "id": "_5LWK4n3pwsF"
      },
      "execution_count": null,
      "outputs": []
    },
    {
      "cell_type": "markdown",
      "source": [
        "**Q7**: What will the following code print out?\n",
        "```python\n",
        "total = 0\n",
        "for i in range(0, 8, 2):\n",
        "  for j in [0, 2, 5]:\n",
        "    if i > j:\n",
        "      total += i\n",
        "print(total)\n",
        "```"
      ],
      "metadata": {
        "id": "nG1U6ZC_rr75"
      }
    },
    {
      "cell_type": "code",
      "execution_count": null,
      "metadata": {
        "id": "CUHq3TsmlF4Z"
      },
      "outputs": [],
      "source": []
    },
    {
      "cell_type": "markdown",
      "source": [
        "**Q8**: Fill in the blank to print the index and value of each element:\n",
        "```\n",
        "1: apple\n",
        "2: banana\n",
        "3: cherry\n",
        "```"
      ],
      "metadata": {
        "id": "9h1EpMAHqq4K"
      }
    },
    {
      "cell_type": "code",
      "source": [
        "fruits = [\"apple\", \"banana\", \"cherry\"]\n",
        "for i in range(______):\n",
        "  print(f\"{i}: {fruits[__]}\")"
      ],
      "metadata": {
        "id": "ez6Il05XqqrI"
      },
      "execution_count": null,
      "outputs": []
    },
    {
      "cell_type": "markdown",
      "source": [
        "**Q9**: Complete the code to find the largest number in the list:\n",
        "- ในการหาค่ามากสุดใน list นั้นเราสามารถใช้ for loop ได้\n",
        "- ไอเดียคือ เราจะมีตัวแปร (largest) มาเก็บค่ามากสุด ในตอนนี้\n",
        "- หลังจากนั้น เราจะเอาค่าทุกตัวใน list มาเทียบกับค่า มากสุดในตอนนี้\n",
        "  - ถ้าค่าตัวใน list นั้น มากกว่า ตัวแปรค่ามากสุด แสดงว่าตัวนั้นเป็นค่ามากสุดใหม่ ดังนั้น ให้ อัพเดค ตัวแปร largest เป็นค่าตัวนั้น"
      ],
      "metadata": {
        "id": "K2EdQvhRrA4P"
      }
    },
    {
      "cell_type": "code",
      "source": [
        "numbers = [3, 7, 2, 8, 1]\n",
        "largest = numbers[0]\n",
        "for num in numbers:\n",
        "    if num __ largest:\n",
        "      num _____________\n",
        "print(largest)"
      ],
      "metadata": {
        "id": "QdyhROm_rDuQ"
      },
      "execution_count": null,
      "outputs": []
    },
    {
      "cell_type": "markdown",
      "source": [
        "**Q10** เติม code ด้านล่างเพื่อ นับจำนวนตัวเลขใน `DATA` ที่มีค่าระหว่าง 13 และ 18"
      ],
      "metadata": {
        "id": "PjnSR3GmZBxw"
      }
    },
    {
      "cell_type": "code",
      "source": [
        "data = [0, 9, 14, 50, 32, 17, 20, 1]\n",
        "count = 0\n",
        "for ________________:\n",
        "  if _______________:\n",
        "    _________________\n",
        "print(count)"
      ],
      "metadata": {
        "id": "-mDs6IcyZMCW"
      },
      "execution_count": null,
      "outputs": []
    },
    {
      "cell_type": "markdown",
      "source": [
        "**Q11** เติม code ด้านล่างเพื่อ เปลี่ยนค่าของตัวเลขแต่ละตัวใน `sequences` เป็นค่าส่วนต่างระหว่างค่าแต่ละตัวกับค่า `target`. เมื่อรันcode แล้วคำตอบที่ได้ควรเป็น `[3, 2, 2, 13, 4]`"
      ],
      "metadata": {
        "id": "RM8BW0w92ewB"
      }
    },
    {
      "cell_type": "code",
      "source": [
        "sequences = [10, 5, 9, 20, 3]\n",
        "target = 7\n",
        "for _____________:\n",
        "  if ____________:   # ถ้า target มากกว่า ตัวใน sequences\n",
        "    _____________\n",
        "  else:\n",
        "    _____________\n",
        "print(sequences)"
      ],
      "metadata": {
        "id": "e8I7j4rO3nh-"
      },
      "execution_count": null,
      "outputs": []
    },
    {
      "cell_type": "markdown",
      "source": [
        "**Q12** Package Shipment\n",
        "\n",
        "จงเขียนโปรแกรม คำนวณน้ำหนักทั้งหมดของกล่องพัสดุ และตรวจสอบว่า น้ำหนักทั้งหมดเกินกว่า ที่เรือข่นส่งสิ้นค้าจะได้หรือไม่\n",
        "\n",
        "สำหรับข้อนี้นั้น โปรแกรม จะถาม user ก่อนว่าจะกล่องสิ้นค้ากี่กล่อง หลังจากนั้น user จะป้อนข้อมูลเข้ามาว่า ในแต่ละกล่องนั้น จะมีสิ้นค้าอยู่กี่ชิ้นและน้ำหนักของสิ้นค้านั้นคือเท่าไร (หนึ่งกล่องมีสิ้นค้าอยู่แค่ประเภทเดียวเท่านั้น)\n",
        "\n",
        "พอ user ป้อนข้อมูลสิ้นค้าจนครบแล้ว สุดท้าย user จะป้อนข้อมูล น้ำหนักที่เรือสามารถรับได้ ถ้าน้ำหนักของสิ้นค้าทั้งหมดเกิน ให้พิมพ์บอกว่า 'Over limit' ถ้าไม่เกินให้พิมพ์ออกมาว่า 'Can carry'\n",
        "\n",
        "Hint:\n",
        "- สำหรับการพิมพ์รับข้อมูลภายใน loop ให้ได้อย่างตัวอย่าง สามารถ ทำได้ประมาณนี้\n",
        "```\n",
        "weight = float(input(f'Enter the {num} package weight: '))\n",
        "```\n",
        "\n",
        "\n",
        "ตัวอย่าง 1\n",
        "```\n",
        ">Enter the number of packages: 2\n",
        ">Enter the package 1 amount: 10\n",
        ">Enter the package 1 weight: 5\n",
        ">Enter the package 2 amount: 20\n",
        ">Enter the package 2 weight: 10\n",
        "The total weight is 250.00\n",
        ">Enter the weight limit: 300\n",
        "Can carry\n",
        "```\n",
        "\n",
        "ตัวอย่าง 2\n",
        "```\n",
        "Enter the number of packages: 3\n",
        "Enter the package 1 amount: 1\n",
        "Enter the package 1 weight: 100\n",
        "Enter the package 2 amount: 5\n",
        "Enter the package 2 weight: 10\n",
        "Enter the package 3 amount: 10\n",
        "Enter the package 3 weight: 20\n",
        "The total weight is 350.00\n",
        "Enter the weight limit: 300\n",
        "Over weight\n",
        "```\n",
        "\n"
      ],
      "metadata": {
        "id": "z90YnCEkZmy-"
      }
    },
    {
      "cell_type": "code",
      "source": [],
      "metadata": {
        "id": "hlzY_9j0ZpUD"
      },
      "execution_count": null,
      "outputs": []
    },
    {
      "cell_type": "markdown",
      "source": [
        "**Q13**: FizzBuzz ver 0.5\n",
        "\n",
        "จงเขียนโปรแกรม เพื่อรับค่าจาก user ว่าจะให้โปรแกรมเป็น mode ไหน `3` หรือ `5`\n",
        "\n",
        "หลังจากนั้นให้ปริ้นข้อมูลที่อยู่ใน `numbers` ออกมา โดยมีข้อกำหนดดังนี้\n",
        "\n",
        "- ถ้าเป็น mode 3 ให้ print 'Fizz' พร้อมกับตัวเลขนั้น ออกมา ถ้าตัวเลขหารสามลงตัว.\n",
        "\n",
        "- ถ้าเป็น mode 5 ให้ print 'Buzz' พร้อมกับตัวเลขนั้น ออกมา ถ้าตัวเลขหารห้าลงตัว.\n",
        "\n",
        "สุดท้ายพิมพ์ออกมาว่ามีตัวเลขที่ตรงเงื่อนไขกี่ตัว\n",
        "\n",
        "ข้อกำหนดจะต้องมีการเช็คว่า user พิมพ์ ค่าเป็น '3' หรือ '5' เท่านั้น\n",
        "\n",
        "ตัวอย่างที่ 1\n",
        "```\n",
        "Enter mode (3 or 5): 3\n",
        "Fizz 3\n",
        "Fizz 9\n",
        "Fizz 30\n",
        "3\n",
        "```\n",
        "\n",
        "ตัวอย่างที่ 2\n",
        "```\n",
        "Enter mode (3 or 5): 7\n",
        "Mode is not 3 or 5.\n",
        "Enter mode (3 or 5): 9\n",
        "Mode is not 3 or 5.\n",
        "Enter mode (3 or 5): 5\n",
        "Buzz 5\n",
        "Buzz 10\n",
        "Buzz 20\n",
        "Buzz 30\n",
        "Buzz 10\n",
        "5\n",
        "```\n"
      ],
      "metadata": {
        "id": "lXv2j3relb9t"
      }
    },
    {
      "cell_type": "code",
      "source": [],
      "metadata": {
        "id": "F15hg1fdlbku"
      },
      "execution_count": null,
      "outputs": []
    },
    {
      "cell_type": "markdown",
      "source": [
        "## การส่ง\n",
        "- File -> Download -> Download .ipynb\n",
        "- Upload to MS Teams"
      ],
      "metadata": {
        "id": "seUHkJQgFlm4"
      }
    }
  ]
}
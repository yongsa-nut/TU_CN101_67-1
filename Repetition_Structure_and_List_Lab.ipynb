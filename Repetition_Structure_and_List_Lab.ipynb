{
  "nbformat": 4,
  "nbformat_minor": 0,
  "metadata": {
    "colab": {
      "provenance": [],
      "authorship_tag": "ABX9TyMdXrPqjb3oLZlO/hd9pb2t",
      "include_colab_link": true
    },
    "kernelspec": {
      "name": "python3",
      "display_name": "Python 3"
    },
    "language_info": {
      "name": "python"
    }
  },
  "cells": [
    {
      "cell_type": "markdown",
      "metadata": {
        "id": "view-in-github",
        "colab_type": "text"
      },
      "source": [
        "<a href=\"https://colab.research.google.com/github/yongsa-nut/TU_CN101_67-1/blob/main/Repetition_Structure_and_List_Lab.ipynb\" target=\"_parent\"><img src=\"https://colab.research.google.com/assets/colab-badge.svg\" alt=\"Open In Colab\"/></a>"
      ]
    },
    {
      "cell_type": "markdown",
      "source": [
        "**Q1**: What is the output of this program?\n",
        "```python\n",
        "my_list = [1,2,3,4,7,12]\n",
        "print(my_list[0], my_list[2], my_list[-1])\n",
        "```"
      ],
      "metadata": {
        "id": "lKf1LVXHmeYd"
      }
    },
    {
      "cell_type": "code",
      "source": [],
      "metadata": {
        "id": "L5CmtQ6jmeAv"
      },
      "execution_count": null,
      "outputs": []
    },
    {
      "cell_type": "markdown",
      "source": [
        "**Q2**: What is the output of this program?\n",
        "```python\n",
        "numbers = [1, 2, 3, 4, 5]\n",
        "for num in numbers:\n",
        "    print(num * 2, end=\" \")\n",
        "```"
      ],
      "metadata": {
        "id": "NBvNyGZ6nkeh"
      }
    },
    {
      "cell_type": "code",
      "source": [],
      "metadata": {
        "id": "8vYc5ahsnkBe"
      },
      "execution_count": null,
      "outputs": []
    },
    {
      "cell_type": "markdown",
      "source": [
        "**Q3**: What is the output of this program?\n",
        "\n",
        "```python\n",
        "words = ['AAA','BBB','CCC','DDD','FFF']\n",
        "for i in range(len(words)):\n",
        "  if words[i] != 'BBB':\n",
        "    print(words[i], end=',')\n",
        "  if words[i] == 'DDD':\n",
        "    break\n",
        "```"
      ],
      "metadata": {
        "id": "RqNsh5B-npto"
      }
    },
    {
      "cell_type": "code",
      "source": [],
      "metadata": {
        "id": "yMHJS6IunqAK"
      },
      "execution_count": null,
      "outputs": []
    },
    {
      "cell_type": "markdown",
      "source": [
        "**Q4**: What is the output of this program?\n",
        "```python\n",
        "numbers = [1, 2, 3, 4]\n",
        "numbers[1] = numbers[0] + numbers[1]\n",
        "numbers[2] = numbers[1] + numbers[2]\n",
        "numbers[3] = numbers[2] + numbers[3]\n",
        "print(numbers)\n",
        "```"
      ],
      "metadata": {
        "id": "gmAOf0K8optT"
      }
    },
    {
      "cell_type": "code",
      "source": [],
      "metadata": {
        "id": "39Xqd4Gsoudl"
      },
      "execution_count": null,
      "outputs": []
    },
    {
      "cell_type": "markdown",
      "source": [
        "**Q5**: What is the output of this program?\n",
        "```python\n",
        "seq1 = [1,2,3,4]\n",
        "n1 = len(seq1)\n",
        "seq2 = [323,1234,123156311]\n",
        "n2 = len(seq2)\n",
        "print(n1, n2)\n",
        "```"
      ],
      "metadata": {
        "id": "ql0Rq77hpw8L"
      }
    },
    {
      "cell_type": "code",
      "source": [],
      "metadata": {
        "id": "_5LWK4n3pwsF"
      },
      "execution_count": null,
      "outputs": []
    },
    {
      "cell_type": "markdown",
      "source": [
        "**Q6**: What will the following code print out?\n",
        "\n",
        "```python\n",
        "for i in range(0, 10, 3):\n",
        "  for j in range(5, i, - 3):\n",
        "     print(j, end='')  \n",
        "```"
      ],
      "metadata": {
        "id": "HZbDFX0HlPLz"
      }
    },
    {
      "cell_type": "code",
      "source": [],
      "metadata": {
        "id": "Rk7PrUicp642"
      },
      "execution_count": null,
      "outputs": []
    },
    {
      "cell_type": "markdown",
      "source": [
        "**Q7**: What will the following code print out?\n",
        "```python\n",
        "total = 0\n",
        "for i in range(0, 8, 2):\n",
        "  for j in range(0, 3):\n",
        "    if i > j:\n",
        "      total += i\n",
        "print(total)\n",
        "```"
      ],
      "metadata": {
        "id": "nG1U6ZC_rr75"
      }
    },
    {
      "cell_type": "code",
      "execution_count": null,
      "metadata": {
        "id": "CUHq3TsmlF4Z"
      },
      "outputs": [],
      "source": []
    },
    {
      "cell_type": "markdown",
      "source": [
        "**Q8**: Fill in the blank to print the index and value of each element:\n",
        "```\n",
        "0: apple\n",
        "1: banana\n",
        "2: cherry\n",
        "```"
      ],
      "metadata": {
        "id": "9h1EpMAHqq4K"
      }
    },
    {
      "cell_type": "code",
      "source": [
        "fruits = [\"apple\", \"banana\", \"cherry\"]\n",
        "for i in range(__):\n",
        "  print(f\"{i}: {fruits[__]}\")"
      ],
      "metadata": {
        "id": "ez6Il05XqqrI"
      },
      "execution_count": null,
      "outputs": []
    },
    {
      "cell_type": "markdown",
      "source": [
        "**Q9**: Complete the code to find the largest number in the list:"
      ],
      "metadata": {
        "id": "K2EdQvhRrA4P"
      }
    },
    {
      "cell_type": "code",
      "source": [
        "numbers = [3, 7, 2, 8, 1]\n",
        "largest = numbers[0]\n",
        "for num in numbers:\n",
        "    if num __ largest:\n",
        "        ______________\n",
        "print(largest)"
      ],
      "metadata": {
        "id": "QdyhROm_rDuQ"
      },
      "execution_count": null,
      "outputs": []
    },
    {
      "cell_type": "markdown",
      "source": [
        "**Q10** เติม code ด้านล้าง เพื่อหาว่า index ไหนของ `data` เก็บค่าน้อยที่สุดเอาไว้"
      ],
      "metadata": {
        "id": "Jfa6LH1Lsg2O"
      }
    },
    {
      "cell_type": "code",
      "source": [
        "data = [-5, 7, -10, 3, 5, 9]\n",
        "lowest_value = 9999999    # Set to the largest possible\n",
        "lowest_id = -1      # Set to an impossible number\n",
        "\n",
        "for __________________________:\n",
        "  if _______________________:\n",
        "     _______________________\n",
        "     _______________________\n",
        "print(lowest_id)"
      ],
      "metadata": {
        "id": "orlcbyh3shON"
      },
      "execution_count": null,
      "outputs": []
    },
    {
      "cell_type": "markdown",
      "source": [
        "**Q11** เติม code ด้านล่างเพื่อ เปลี่ยนค่าของตัวเลขแต่ละตัวใน `sequences` เป็นค่าส่วนต่างระหว่างค่าแต่ละตัวกับค่า `target`. เมื่อรันcode แล้วคำตอบที่ได้ควรเป็น `[3, 2, 2, 13, 4]`"
      ],
      "metadata": {
        "id": "RM8BW0w92ewB"
      }
    },
    {
      "cell_type": "code",
      "source": [
        "sequences = [10, 5, 9, 20, 3]\n",
        "target = 7\n",
        "for __________________________:\n",
        "  if ___________________:   # ถ้าตัวเลขมากกว่า target\n",
        "    ____________________\n",
        "  else:\n",
        "    ____________________\n",
        "print(sequences)"
      ],
      "metadata": {
        "id": "e8I7j4rO3nh-"
      },
      "execution_count": null,
      "outputs": []
    },
    {
      "cell_type": "markdown",
      "source": [
        "**Q12**: Divisible sequence\n",
        "\n",
        "เขียนโปรแกรมมาเพื่อปริ้นตัวเลขตามลำดับเฉพาะตัวที่หารไม่ลงตัว ตัวที่หารลงตัวให้ปริ้น 'D'` แทน. โดยโปรแกรมนั้นจะรับค่ามาสองค่า $n$ กับ $m$. โดยค่า $n$ นั้นจะต้องมีค่าเป็นจำนวนบวกเท่านั้น และ ค่า $m$ จะต้องมีค่า ระหว่าง 2- 10 เท่านั้น.\n",
        "\n",
        "**Extra**: โปรแกรมจะต้องไม่พิมพ์ `,` ตัวสุดท้ายออกมา (Hint: เช็คเงื่อนไข)\n",
        "\n",
        "\n",
        "Example:\n",
        "\n",
        "```\n",
        ">Enter n: 20\n",
        ">Enter m (2-10): 4\n",
        "1,2,3,D,5,6,7,D,9,10,11,D,13,14,15,D,17,18,19,D\n",
        "```\n",
        "\n",
        "```\n",
        ">Enter n: 30\n",
        ">Enter m (2-10): 3\n",
        "1,2,D,4,5,D,7,8,D,10,11,D,13,14,D,16,17,D,19,20,D,22,23,D,25,26,D,28,29,D\n",
        "```\n",
        "\n",
        "```\n",
        ">Enter n: -10\n",
        "Invalid n. Please return.\n",
        ">Enter n: 20\n",
        ">Enter m (2-10): -50\n",
        "Invalid m. Please return.\n",
        ">Enter m (2-10): 4\n",
        "1,2,3,D,5,6,7,D,9,10,11,D,13,14,15,D,17,18,19,D\n",
        "```"
      ],
      "metadata": {
        "id": "lXv2j3relb9t"
      }
    },
    {
      "cell_type": "code",
      "source": [
        "\n",
        "\n"
      ],
      "metadata": {
        "id": "F15hg1fdlbku"
      },
      "execution_count": null,
      "outputs": []
    },
    {
      "cell_type": "markdown",
      "source": [
        "**Q13** (Extra ถ้าทำทัน): คำนวณค่า variance\n",
        "\n",
        "โจทย์จะให้ list ของตัวเลขมา (ด้านล่าง). ให้คุณเขียนโปรแกรมมาคำนวณค่า variance ของ list ที่ให้หมา ตามสมการด้านล่างดังต่อไปนี้\n",
        "\n",
        "$var = \\frac{1}{n}(\\sum_i^nx_i^2) - \\mu^2$, where $x$ is the list of numbers, $n$ is the length of the list, and $\\mu$ is the mean of the list, $\\mu = \\frac{\\sum_i^nx_i}{n}$.\n",
        "\n",
        "ตัวอย่างเช่น\n",
        "\n",
        "`test_list = [1,2,3,4,5]`\n",
        "\n",
        "$\\mu = (1+2+3+4+5)/5 = 3$\n",
        "\n",
        "$\\frac{1}{n}(\\sum_i^nx_i^2) = (1^2 + 2^2 + 3^2 + 4^2 + 5^2)/5 = 11$\n",
        "\n",
        "$var = 11 - 3 = 8$"
      ],
      "metadata": {
        "id": "8yht2sWmlPlH"
      }
    },
    {
      "cell_type": "code",
      "source": [
        "# simply use these test_list below to test use your code\n",
        "# Comment out to test other lists\n",
        "test_list = [1,2,3,4,5]            # The answer is 2\n",
        "# test_list = [1,1,1,1,1]          # The answer is 0\n",
        "# test_list = [9,1,4,12,0,-2,4,8]  # The answer is 20.5\n",
        "\n",
        "n = len(test_list)                 # This return the length of a list.\n",
        "\n",
        "# 1) Calculate mean\n",
        "total = 0\n",
        "\n",
        "\n",
        "# 2) Calculate sum of x^2\n",
        "sum_of_squared = 0\n",
        "\n",
        "\n",
        "# 3) Finally calculate sum of x^2 - mean and print it out\n",
        "\n"
      ],
      "metadata": {
        "id": "pTFwOySMlP31"
      },
      "execution_count": null,
      "outputs": []
    },
    {
      "cell_type": "markdown",
      "source": [
        "## การส่ง\n",
        "- File -> Download -> Download .ipynb\n",
        "- Upload to MS Teams"
      ],
      "metadata": {
        "id": "seUHkJQgFlm4"
      }
    }
  ]
}
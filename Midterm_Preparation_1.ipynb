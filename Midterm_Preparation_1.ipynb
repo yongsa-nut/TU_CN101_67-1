{
  "nbformat": 4,
  "nbformat_minor": 0,
  "metadata": {
    "colab": {
      "provenance": [],
      "authorship_tag": "ABX9TyMEMD20065nJQ0jPFYv1DhE",
      "include_colab_link": true
    },
    "kernelspec": {
      "name": "python3",
      "display_name": "Python 3"
    },
    "language_info": {
      "name": "python"
    }
  },
  "cells": [
    {
      "cell_type": "markdown",
      "metadata": {
        "id": "view-in-github",
        "colab_type": "text"
      },
      "source": [
        "<a href=\"https://colab.research.google.com/github/yongsa-nut/TU_CN101_67-1/blob/main/Midterm_Preparation_1.ipynb\" target=\"_parent\"><img src=\"https://colab.research.google.com/assets/colab-badge.svg\" alt=\"Open In Colab\"/></a>"
      ]
    },
    {
      "cell_type": "markdown",
      "source": [
        "**Q1**: Fill in the blank so that the program outputs 9 and 6."
      ],
      "metadata": {
        "id": "2Pec-QG_I_-X"
      }
    },
    {
      "cell_type": "code",
      "execution_count": null,
      "metadata": {
        "id": "WuxNHqTCtnZM"
      },
      "outputs": [],
      "source": [
        "x = 69\n",
        "first = x _ 60\n",
        "second = x _ 10\n",
        "print(first, second)"
      ]
    },
    {
      "cell_type": "markdown",
      "source": [
        "**Q2**: What will the following code print out?\n",
        "```python\n",
        "num = 10\n",
        "x = 5\n",
        "num = x + num ** 2 /5 - x * 3\n",
        "x = 10\n",
        "print(num)\n",
        "```"
      ],
      "metadata": {
        "id": "Pl_mGNyVJE6n"
      }
    },
    {
      "cell_type": "code",
      "source": [],
      "metadata": {
        "id": "6tLdM0-PJFu4"
      },
      "execution_count": null,
      "outputs": []
    },
    {
      "cell_type": "markdown",
      "source": [
        "**Q3**: What will the following code print out? Assume inputs are 2 and 4 respectively.\n",
        "```python\n",
        "x = int(input('Enter a number '))\n",
        "y = int(input('Enter a number: '))\n",
        "print(f\"Output = {10-y**x+10*3:.2f}\")\n",
        "```"
      ],
      "metadata": {
        "id": "X0f84ydaJc4A"
      }
    },
    {
      "cell_type": "code",
      "source": [],
      "metadata": {
        "id": "2q4ieKYrJdh8"
      },
      "execution_count": null,
      "outputs": []
    },
    {
      "cell_type": "markdown",
      "source": [
        "**Q4**: What will the following program output?\n",
        "\n",
        "```python\n",
        "if 10 < 5:\n",
        "  print('a', end='')\n",
        "else:\n",
        "  print('b', end='')\n",
        "if 10 > 5 and 5 > 20:\n",
        "  print('c', end='')\n",
        "elif 7 == 5 or 6 > 3:\n",
        "  print('d', end='')\n",
        "if 3%2 == 1:\n",
        "  print('e', end='')\n",
        "```"
      ],
      "metadata": {
        "id": "0V66KxKvJjOU"
      }
    },
    {
      "cell_type": "code",
      "source": [],
      "metadata": {
        "id": "7tQblj_OJlAi"
      },
      "execution_count": null,
      "outputs": []
    },
    {
      "cell_type": "markdown",
      "source": [
        "**Q5**: Fill a number in the blank (__) so that the following program print out 'D'"
      ],
      "metadata": {
        "id": "-fMvkYXYJnsS"
      }
    },
    {
      "cell_type": "code",
      "source": [
        "num = __\n",
        "if num >= 49:\n",
        "  print('A')\n",
        "else:\n",
        "  if num < 45 or num > 60:\n",
        "    print('B')\n",
        "  elif num % 5 == 0 or num%2==0:\n",
        "    print('C')\n",
        "  else:\n",
        "    print('D')"
      ],
      "metadata": {
        "id": "k7QWEbQMJoDM"
      },
      "execution_count": null,
      "outputs": []
    },
    {
      "cell_type": "markdown",
      "source": [
        "**Q6**: What will the following program output?\n",
        "\n",
        "```python\n",
        "a = False\n",
        "b = False\n",
        "c = False\n",
        "\n",
        "if a and not b and not c:\n",
        "  print(\"First\")\n",
        "elif a or not b and not c:\n",
        "  print(\"Second\")\n",
        "else:\n",
        "  print(\"Third\")\n",
        "```"
      ],
      "metadata": {
        "id": "XoTXdhYWJ8aZ"
      }
    },
    {
      "cell_type": "code",
      "source": [],
      "metadata": {
        "id": "XxJh-8qBJ84e"
      },
      "execution_count": null,
      "outputs": []
    },
    {
      "cell_type": "markdown",
      "source": [
        "**Q7**: Fill in the blank so that the program print out 4 2 0 -2 -4"
      ],
      "metadata": {
        "id": "pqwkvtbOJzWn"
      }
    },
    {
      "cell_type": "code",
      "source": [
        "for i in range(______):\n",
        "  print(i, end=' ')"
      ],
      "metadata": {
        "id": "7ziKZUoBJznT"
      },
      "execution_count": null,
      "outputs": []
    },
    {
      "cell_type": "markdown",
      "source": [
        "**Q8**: What will the code below print out?\n",
        "\n",
        "```python\n",
        "total = 0\n",
        "for var in [1, 7, 10, 17, 20]:\n",
        "  if var % 5 == 0:\n",
        "    total += var\n",
        "  else:\n",
        "    total += 7\n",
        "print(total)\n",
        "```"
      ],
      "metadata": {
        "id": "CUjC5eRwKHO-"
      }
    },
    {
      "cell_type": "code",
      "source": [],
      "metadata": {
        "id": "FrZGB4huKHf3"
      },
      "execution_count": null,
      "outputs": []
    },
    {
      "cell_type": "markdown",
      "source": [
        "**Q9**: Write the output of the following program:\n",
        "```python\n",
        "count = 0\n",
        "names = ['Adam','Sophia','Noah','Mary','Nico','John']\n",
        "my_name = 'Nut'\n",
        "for name in names:\n",
        "  if my_name > names:\n",
        "     count += 1\n",
        "print(count)\n",
        "```"
      ],
      "metadata": {
        "id": "_hbAWrjBKMMa"
      }
    },
    {
      "cell_type": "code",
      "source": [],
      "metadata": {
        "id": "fKfQnXlBKMan"
      },
      "execution_count": null,
      "outputs": []
    },
    {
      "cell_type": "markdown",
      "source": [
        "**Q10**: Write the output of this program:\n",
        "```python\n",
        "numbers = [4, 2, 3, 0, 1]\n",
        "temp = [0,0,0,0,0]\n",
        "for i in range(len(numbers)):\n",
        "  temp[i] = numbers[numbers[i]]\n",
        "print(temp)\n",
        "```\n"
      ],
      "metadata": {
        "id": "st5-CG7OKY_Z"
      }
    },
    {
      "cell_type": "code",
      "source": [],
      "metadata": {
        "id": "y7yHPG27KZN0"
      },
      "execution_count": null,
      "outputs": []
    },
    {
      "cell_type": "markdown",
      "source": [
        "**Q11**: คะแนนพฤติกรรม\n",
        "\n",
        "เขียนโปรแกรมเพื่อคำนวณและจัดประเภทคะแนนพฤติกรรมของผู้ใช้\n",
        "โปรแกรมจะรับคะแนนพฤติกรรมเริ่มต้นก่อน (initial behavior score)\n",
        "\n",
        "จากนั้น โปรแกรมจะรับจำนวนเต็ม $n$ ซึ่งเป็นจำนวนครั้งที่ผู้ใช้ได้รับบทลงโทษ หลังจากนั้น โปรแกรมจะรับจำนวนเต็ม $n$ ตัวสำหรับคะแนนลงโทษ คะแนนพฤติกรรมจะถูกลดลงด้วยคะแนนลงโทษทุกตัวที่ใส่เข้ามา\n",
        "\n",
        "สุดท้าย คะแนนที่เหลือจะถูกจัดประเภทตามเกณฑ์ต่อไปนี้:\n",
        "\n",
        "- ถ้าคะแนนมากกว่าหรือเท่ากับ 80 เกรดของคุณคือ \"Excellent\"\n",
        "- ถ้าคะแนนอยู่ระหว่าง 60 ถึง 79 เกรดของคุณคือ \"Good\"\n",
        "- ถ้าคะแนนต่ำกว่า 60 เกรดของคุณคือ \"Bad\"\n",
        "\n",
        "**ข้อมูลนำเข้า**\n",
        "\n",
        "- จำนวนเต็มสำหรับคะแนนพฤติกรรมเริ่มต้น\n",
        "- จำนวนเต็มหนึ่งตัว ($n$) สำหรับจำนวนครั้งของบทลงโทษ\n",
        "- จำนวนเต็ม $n$ ตัวสำหรับคะแนนบทลงโทษ\n",
        "\n",
        "**ข้อมูลส่งออก**\n",
        "\n",
        "- แสดงคะแนนพฤติกรรมที่เหลือและเกรดของคะแนนพฤติกรรม\n",
        "\n",
        "ตัวอย่างที่ 1\n",
        "```\n",
        ">Enter the intial behavior score: 100\n",
        ">Number of penalties: 3\n",
        ">Enter penalty: 10\n",
        ">Enter penalty: 10\n",
        ">Enter penalty: 15\n",
        "The remaining behavior score is 65 and the grade is Good.\n",
        "```\n",
        "\n",
        "ตัวอย่างที่ 2\n",
        "```\n",
        ">Enter the intial behavior score: 120\n",
        ">Number of penalties: 5\n",
        ">Enter penalty: 20\n",
        ">Enter penalty: 30\n",
        ">Enter penalty: 15\n",
        ">Enter penalty: 10\n",
        ">Enter penalty: 5\n",
        "The remaining behavior score is 40 and the grade is Bad.\n",
        "```"
      ],
      "metadata": {
        "id": "PjlrP4NsL-48"
      }
    },
    {
      "cell_type": "code",
      "source": [],
      "metadata": {
        "id": "-rls82-VNeRW"
      },
      "execution_count": null,
      "outputs": []
    },
    {
      "cell_type": "markdown",
      "source": [
        "**Q12**: Cashier Program v3\n",
        "\n",
        "เราจะเขียนโปรแกรมขายของอีกครั้ง คราวนี้เรากำลังขายผลิตภัณฑ์อาหารดังต่อไปนี้: ไข่ (ราคา 5 บาทต่อฟอง) และนม (ราคา 20 บาทต่อกล่อง) สิ่งสำคัญคือ**เราขายเป็นโหล** (12 ชิ้นต่อออร์เดอร์)\n",
        "\n",
        "ลูกค้าสามารถรับส่วนลดได้ตามเงื่อนไขต่อไปนี้:\n",
        "\n",
        "- หากซื้อไข่อย่างน้อย 50 ฟอง จะได้รับส่วนลด 30% สำหรับไข่\n",
        "- หากซื้อนมอย่างน้อย 75 กล่อง จะได้รับส่วนลด 20% สำหรับนม\n",
        "- หากซื้อไข่อย่างน้อย 100 ฟองและนม 100 กล่อง จะได้รับส่วนลดเพิ่มอีก 100 บาท\n",
        "\n",
        "**ข้อมูลนำเข้า**\n",
        "\n",
        "* จำนวนเต็ม: จำนวนไข่ (เป็นโหล)\n",
        "* จำนวนเต็ม: จำนวนนม (เป็นโหล)\n",
        "\n",
        "**ข้อมูลส่งออก**\n",
        "\n",
        "* ยอดรวมก่อนหักส่วนลด แสดงทศนิยมสองตำแหน่ง\n",
        "* ยอดรวมหลังหักส่วนลดทั้งหมด แสดงทศนิยมสองตำแหน่ง\n",
        "\n",
        "**หมายเหตุ**\n",
        "\n",
        "* ต้องใช้ Named Constant\n",
        "\n",
        "คัวอย่าง\n",
        "\n",
        "```\n",
        ">Enter the number of eggs (dozen): 1\n",
        ">Enter the number of milks (dozen): 5\n",
        "The original payment is 1260.00 Baht.\n",
        "The payment after discount is 1260.00 Bath.\n",
        "```\n",
        "\n",
        "```\n",
        ">Enter the number of eggs (dozen): 10\n",
        ">Enter the number of milks (dozen): 10\n",
        "The original payment is 3000.00 Baht.\n",
        "The payment after discount is 2240.00 Baht.\n",
        "```\n",
        "\n",
        "```\n",
        ">Enter the number of eggs (dozen): 5\n",
        ">Enter the number of milks (dozen): 5\n",
        "The original payment is 1500.00 Baht.\n",
        "The payment after discount is 1410.00 Baht.\n",
        "```\n",
        "\n",
        "```\n",
        ">Enter the number of eggs (dozen): 3\n",
        ">Enter the number of milks (dozen): 10\n",
        "The original payment is 2580.00 Baht.\n",
        "The payment after discount is 2100.00 Baht.\n",
        "```"
      ],
      "metadata": {
        "id": "eoPJBSypNrUB"
      }
    },
    {
      "cell_type": "code",
      "source": [],
      "metadata": {
        "id": "vWXctEGXQI6E"
      },
      "execution_count": null,
      "outputs": []
    }
  ]
}
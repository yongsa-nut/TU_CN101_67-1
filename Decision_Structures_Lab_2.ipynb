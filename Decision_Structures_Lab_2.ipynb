{
  "nbformat": 4,
  "nbformat_minor": 0,
  "metadata": {
    "colab": {
      "provenance": [],
      "authorship_tag": "ABX9TyPwL6pM8IQ6AwxrkkcpYuAX",
      "include_colab_link": true
    },
    "kernelspec": {
      "name": "python3",
      "display_name": "Python 3"
    },
    "language_info": {
      "name": "python"
    }
  },
  "cells": [
    {
      "cell_type": "markdown",
      "metadata": {
        "id": "view-in-github",
        "colab_type": "text"
      },
      "source": [
        "<a href=\"https://colab.research.google.com/github/yongsa-nut/TU_CN101_67-1/blob/main/Decision_Structures_Lab_2.ipynb\" target=\"_parent\"><img src=\"https://colab.research.google.com/assets/colab-badge.svg\" alt=\"Open In Colab\"/></a>"
      ]
    },
    {
      "cell_type": "markdown",
      "source": [
        "**Q1**: What will the followign code print out?\n",
        "\n",
        "```python\n",
        "x = 30\n",
        "if x > 50:\n",
        "  print(\"A\")\n",
        "elif x > 40:\n",
        " print(\"B\")\n",
        "elif x > 30:\n",
        " print(\"C\")\n",
        "else:\n",
        " print(\"D\")\n",
        "```"
      ],
      "metadata": {
        "id": "T1zfrpNPXRYB"
      }
    },
    {
      "cell_type": "code",
      "execution_count": null,
      "metadata": {
        "id": "_e1s1KJtXGLp"
      },
      "outputs": [],
      "source": []
    },
    {
      "cell_type": "markdown",
      "source": [
        "**Q2**: What will the following code print out?\n",
        "```python\n",
        "x = 5\n",
        "y = 7\n",
        "z = 10\n",
        "print(f\"{x > z}, {z < y}, {x*2 == (y+z)}, {(x+z) != (1+y*2)}\")\n",
        "```"
      ],
      "metadata": {
        "id": "CJSOPiJrXdNm"
      }
    },
    {
      "cell_type": "code",
      "source": [],
      "metadata": {
        "id": "ij6j1Kk4XeJz"
      },
      "execution_count": null,
      "outputs": []
    },
    {
      "cell_type": "markdown",
      "source": [
        "**Q3**: What will the following code print out?\n",
        "```python\n",
        "value = 52\n",
        "if value > 45:\n",
        "  print(\"First\", end='')\n",
        "if value > 40:\n",
        "  print(\"Second\", end='')\n",
        "if value > 35:\n",
        "  print(\"Third\", end='')\n",
        "else:\n",
        "  print(\"Fourth\", end='')\n",
        "```"
      ],
      "metadata": {
        "id": "Gl4uPGohYJup"
      }
    },
    {
      "cell_type": "code",
      "source": [],
      "metadata": {
        "id": "t0b8OFF8YLC2"
      },
      "execution_count": null,
      "outputs": []
    },
    {
      "cell_type": "markdown",
      "source": [
        "**Q4**: Fill in the code (`_`) below with a boolean operator so that the program will output False."
      ],
      "metadata": {
        "id": "cIb52Y_sYLj0"
      }
    },
    {
      "cell_type": "code",
      "source": [
        "x = 20\n",
        "y = 30\n",
        "truth_value = (x != y) _ (x == y) # Here\n",
        "print(truth_value)"
      ],
      "metadata": {
        "id": "AZXQpD4dYg5T"
      },
      "execution_count": null,
      "outputs": []
    },
    {
      "cell_type": "markdown",
      "source": [
        "**Q5**: Fill in the code below so that the program will output 'Second'."
      ],
      "metadata": {
        "id": "XgA8Az3pYhYG"
      }
    },
    {
      "cell_type": "code",
      "source": [
        "num =      # fill in the value here\n",
        "if num < 10 or num > 15:\n",
        "  print('First')\n",
        "else:\n",
        "  if num % 2 == 0 and num <= 13:\n",
        "    print('Second')\n",
        "  else:\n",
        "    print('Third')"
      ],
      "metadata": {
        "id": "YULQFLM3Yhvj"
      },
      "execution_count": null,
      "outputs": []
    },
    {
      "cell_type": "markdown",
      "source": [
        "**Q6**: Date formatting\n",
        "\n",
        "Write a program to receive day, month, year, and the date format ('US', 'JP', 'TH') from the user and then print out the date in that format.\n",
        "\n",
        "The format for 'US' is Month Day Year.\n",
        "\n",
        "The format for 'JP' is Year Month Day.\n",
        "\n",
        "The format for 'TH' is Day Month Year.\n",
        "\n",
        "Example 1:\n",
        "```\n",
        ">Enter day: 1\n",
        ">Enter month: 10\n",
        ">Enter year: 2024\n",
        ">Enter format: US\n",
        "Month 10 Day 1 Year 2024\n",
        "```\n",
        "\n",
        "Example 2:\n",
        "```\n",
        ">Enter day: 1\n",
        ">Enter month: 10\n",
        ">Enter year: 2024\n",
        ">Enter format: JP\n",
        "Year 2024 Month 10 Day 1\n",
        "```\n",
        "\n",
        "Example 3:\n",
        "```\n",
        ">Enter day: 1\n",
        ">Enter month: 10\n",
        ">Enter year: 2024\n",
        ">Enter format: TH\n",
        "Day 1 Month 10 Year 2024\n",
        "```"
      ],
      "metadata": {
        "id": "Xux1iQ4saS6C"
      }
    },
    {
      "cell_type": "code",
      "source": [],
      "metadata": {
        "id": "Yfgizp6faUr_"
      },
      "execution_count": null,
      "outputs": []
    },
    {
      "cell_type": "markdown",
      "source": [
        "**Q7**: Fizz Buzz v0.5\n",
        "\n",
        "Write a program that receives a number input from the user.\n",
        "* print \"FizzBuzz\" if the number is divisble by 3 and 5.\n",
        "* print \"Fizz\" if the number is divisible by 3.\n",
        "* print \"Buzz\" if the number is divisible by 5.\n",
        "* print the number if none of the above conditions are true.\n",
        "\n",
        "Examples\n",
        "```\n",
        ">Enter the number: 3\n",
        "Fizz\n",
        "```\n",
        "\n",
        "```\n",
        ">Enter the number: 30\n",
        "FizzBuzz\n",
        "```\n",
        "\n",
        "```\n",
        ">Enter the number: 25\n",
        "Buzz\n",
        "```\n",
        "\n",
        "```\n",
        ">Enter the number: 1\n",
        "1\n",
        "```"
      ],
      "metadata": {
        "id": "pRaBV463ZAnI"
      }
    },
    {
      "cell_type": "code",
      "source": [],
      "metadata": {
        "id": "fsqSQwfzZCFO"
      },
      "execution_count": null,
      "outputs": []
    },
    {
      "cell_type": "markdown",
      "source": [
        "**Q8**: Calculate BMI.\n",
        "\n",
        "Write a program to calculate Body Mass Index (BMI) and categorizes it based on the value:\n",
        "\n",
        "- Underweight: BMI < 18.5\n",
        "- Normal weight: 18.5 <= BMI < 25\n",
        "- Overweight: 25 <= BMI < 30\n",
        "- Obesity: BMI >= 30\n",
        "\n",
        "BMI is calculated as: $\\frac{\\text{weight (kg)}}{\\text{(height (m))}^2}$\n",
        "\n",
        "Input:\n",
        "* Weight in kg\n",
        "* Height in meter.\n",
        "\n",
        "Output:\n",
        "* BMI in two decimal places and the category.\n",
        "\n",
        "Example\n",
        "```\n",
        ">Weight (kg): 70\n",
        ">Height (meter): 1.75\n",
        "Your BMI is 22.86.\n",
        "Normal weight.\n",
        "```\n"
      ],
      "metadata": {
        "id": "jyjwdToIZiZT"
      }
    },
    {
      "cell_type": "code",
      "source": [],
      "metadata": {
        "id": "LkH80xHPZiDx"
      },
      "execution_count": null,
      "outputs": []
    },
    {
      "cell_type": "markdown",
      "source": [
        "**Q6**: Cashier Program ver 2.\n",
        "\n",
        "Write a program that takes in the number of products that a customer buys. <br> There are three products: donut, cupcake, and popcorn. <br> The price of donut is 10 baht each; the price of cupcake is 20 baht each; and the price of popcorn is 40 baht each. <br> Calculate the total payment and apply the discount as listed below.\n",
        "\n",
        "* Customers receive 20% off on donuts when purchasing 20 or more donuts.\n",
        "* Customers receive 10% off on cupcake when purchasing 10 or more cupcakes.\n",
        "\n",
        "**Input:**\n",
        "- The number of donut, cupcake, and popcorn.\n",
        "\n",
        "**Output:**\n",
        "- The original payment in two decimal.\n",
        "- The discounted payment.\n",
        "\n",
        "Example\n",
        "```\n",
        ">Enter the number of donut: 30\n",
        ">Enter the number of cupcake: 20\n",
        ">Enter the number of popcorn:  5\n",
        "The total payment befor discount is 900.00 baht.\n",
        "The payment after discount is 800.00 baht.\n",
        "```\n",
        "\n",
        "```\n",
        ">Enter the number of donut: 5\n",
        ">Enter the number of cupcake: 20\n",
        ">Enter the number of popcorn:  3\n",
        "The total payment befor discount is 570.00 baht.\n",
        "The payment after discount is 530.00 baht.\n",
        "```\n",
        "\n",
        "```\n",
        ">Enter the number of donut: 10\n",
        ">Enter the number of cupcake: 10\n",
        ">Enter the number of popcorn:  5\n",
        "The total payment befor discount is 500.00 baht.\n",
        "The payment after discount is 480.00 baht.\n",
        "```"
      ],
      "metadata": {
        "id": "lPbU2XafYqod"
      }
    },
    {
      "cell_type": "code",
      "source": [
        "\n"
      ],
      "metadata": {
        "id": "1lb3eHcfYr8L"
      },
      "execution_count": null,
      "outputs": []
    }
  ]
}
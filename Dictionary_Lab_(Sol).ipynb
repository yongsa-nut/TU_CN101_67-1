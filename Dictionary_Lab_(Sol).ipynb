{
  "nbformat": 4,
  "nbformat_minor": 0,
  "metadata": {
    "colab": {
      "provenance": [],
      "authorship_tag": "ABX9TyPSb8zfwJIBE6ukfgKcE27d",
      "include_colab_link": true
    },
    "kernelspec": {
      "name": "python3",
      "display_name": "Python 3"
    },
    "language_info": {
      "name": "python"
    }
  },
  "cells": [
    {
      "cell_type": "markdown",
      "metadata": {
        "id": "view-in-github",
        "colab_type": "text"
      },
      "source": [
        "<a href=\"https://colab.research.google.com/github/yongsa-nut/TU_CN101_67-1/blob/main/Dictionary_Lab_(Sol).ipynb\" target=\"_parent\"><img src=\"https://colab.research.google.com/assets/colab-badge.svg\" alt=\"Open In Colab\"/></a>"
      ]
    },
    {
      "cell_type": "markdown",
      "source": [
        "เขียนชื่อ นามสกุล และ id ด้านล่าง"
      ],
      "metadata": {
        "id": "p-FYdDrSZWE0"
      }
    },
    {
      "cell_type": "code",
      "source": [],
      "metadata": {
        "id": "xGRBNsYXZYp5"
      },
      "execution_count": null,
      "outputs": []
    },
    {
      "cell_type": "markdown",
      "source": [
        "**ปิดใช้งาน AI บน Colab**\n",
        "\n",
        "Tools > Setting > AI Assistance > Check Hide generative AI features"
      ],
      "metadata": {
        "id": "ChNByKgxZY8p"
      }
    },
    {
      "cell_type": "markdown",
      "source": [
        "**Q1**: What will the following program print out?\n",
        "\n",
        "```python\n",
        "my_dict = {'Mary':1,'Mathil':2,'Mona':3}\n",
        "print(my_dict['Mary'] + 2*my_dict['Mona'])\n",
        "```"
      ],
      "metadata": {
        "id": "RXZkOVKppCMh"
      }
    },
    {
      "cell_type": "code",
      "source": [
        "7"
      ],
      "metadata": {
        "id": "K3Z0-1b0pCoX"
      },
      "execution_count": null,
      "outputs": []
    },
    {
      "cell_type": "markdown",
      "source": [
        "**Q2**: What will the following program print out?\n",
        "\n",
        "```python\n",
        "dict1 = {'A':1,'B':2,'C':3}\n",
        "dict1['A'] = 3\n",
        "dict1['B'] = dict1['C']\n",
        "dict1['Z'] = 5\n",
        "print(dict1)\n",
        "```"
      ],
      "metadata": {
        "id": "wkibhY55pMNQ"
      }
    },
    {
      "cell_type": "code",
      "source": [
        "{'A':3, 'B':3, 'C':3, 'Z':5}"
      ],
      "metadata": {
        "id": "_cuFXvsbpND9"
      },
      "execution_count": null,
      "outputs": []
    },
    {
      "cell_type": "markdown",
      "source": [
        "**Q3**: What will the following program print out?\n",
        "\n",
        "```python\n",
        "my_dict = {'AAA': 'aaa', 'BBB':'bbb', 'ABB':'abb', 'CBA':'cba', 'abc':'ABC'}\n",
        "target = 'ABC'\n",
        "if target in my_dict:\n",
        "  print('Yes')\n",
        "else:\n",
        "  print('No')\n",
        "```"
      ],
      "metadata": {
        "id": "-9BNC2CHpNWN"
      }
    },
    {
      "cell_type": "code",
      "source": [
        "No"
      ],
      "metadata": {
        "id": "uidjm0WApOEn"
      },
      "execution_count": null,
      "outputs": []
    },
    {
      "cell_type": "markdown",
      "source": [
        "**Q4**: What will the following program print out?\n",
        "\n",
        "```python\n",
        "my_dict = {'A':2,'B':5,'C':7,'D':10}\n",
        "total = 0\n",
        "for key in my_dict:\n",
        "  total += my_dict[key]\n",
        "print(total)\n",
        "```"
      ],
      "metadata": {
        "id": "eizSCNCopOVb"
      }
    },
    {
      "cell_type": "code",
      "source": [
        "24"
      ],
      "metadata": {
        "id": "Hu8Fi3-LpPMm"
      },
      "execution_count": null,
      "outputs": []
    },
    {
      "cell_type": "markdown",
      "source": [
        "**Q5**: What will the following program print out?\n",
        "\n",
        "```python\n",
        "my_dict = {'A':1,'B':2,'C':6,'D':8,'E':7}\n",
        "total = 1\n",
        "for key, value in my_dict.items():\n",
        "  if value % 2 == 0:\n",
        "    total *= 2\n",
        "  else:\n",
        "    total *= value\n",
        "print(total)\n",
        "```"
      ],
      "metadata": {
        "id": "aQljZH3ZpPY3"
      }
    },
    {
      "cell_type": "code",
      "source": [
        "56"
      ],
      "metadata": {
        "id": "FEg3SVE7pQK6"
      },
      "execution_count": null,
      "outputs": []
    },
    {
      "cell_type": "markdown",
      "source": [
        "**Q6**: What will the following program print out?\n",
        "\n",
        "```python\n",
        "new_dict = {'2023':[],'2024':[]}\n",
        "new_dict['2023'].append(1)\n",
        "new_dict['2024'].append(10)\n",
        "new_dict['2022'] = ['A','B','C']\n",
        "print(new_dict)\n",
        "```"
      ],
      "metadata": {
        "id": "twXan-fGpQYr"
      }
    },
    {
      "cell_type": "code",
      "source": [
        "{'2023':[1], '2024':[10], '2022':['A','B','C']}"
      ],
      "metadata": {
        "id": "3eb_KW2xpRbm"
      },
      "execution_count": null,
      "outputs": []
    },
    {
      "cell_type": "markdown",
      "source": [
        "**Q7**: What will the following program print out?\n",
        "\n",
        "```python\n",
        "sentences = \"Cat cat dog cat dog Meow meow cat cat meow\"\n",
        "sentences = sentences.upper()\n",
        "words = sentences.split()\n",
        "my_dict = {}\n",
        "for word in words:\n",
        "  my_dict[word] = my_dict.get(word,0) + 1\n",
        "print(my_dict)\n",
        "```"
      ],
      "metadata": {
        "id": "l02Bd4QmpRtb"
      }
    },
    {
      "cell_type": "code",
      "source": [
        "{'CAT':5, 'DOG':2, 'MEOW':3}"
      ],
      "metadata": {
        "id": "VgvhE_bnpSmU"
      },
      "execution_count": null,
      "outputs": []
    },
    {
      "cell_type": "markdown",
      "source": [
        "**Q8**: Fill in the blank so that it prints out ``11``."
      ],
      "metadata": {
        "id": "57p4k2GrlNUA"
      }
    },
    {
      "cell_type": "code",
      "source": [
        "my_dict = {'A': 1, 'B': 11, 'C': 111}\n",
        "print(my_dict['B'])"
      ],
      "metadata": {
        "id": "btGYJW-DlNB_",
        "outputId": "fbd15d4e-1cdc-4452-b666-f1d3f78a19bf",
        "colab": {
          "base_uri": "https://localhost:8080/"
        }
      },
      "execution_count": null,
      "outputs": [
        {
          "output_type": "stream",
          "name": "stdout",
          "text": [
            "11\n"
          ]
        }
      ]
    },
    {
      "cell_type": "markdown",
      "source": [
        "**Q9**: Fill in the blank so that it prints out `30`."
      ],
      "metadata": {
        "id": "HPL2R25RlRQ4"
      }
    },
    {
      "cell_type": "code",
      "source": [
        "dict_list = {'Math':[10, 20, 30],\n",
        "             'Science':[40, 50, 60],\n",
        "             'English':[70, 80, 90]}\n",
        "\n",
        "print(dict_list['Math'][2])"
      ],
      "metadata": {
        "id": "6SEL-ri3lWRd",
        "outputId": "8cfe16c9-cd6c-4eb0-cb38-582af1110d84",
        "colab": {
          "base_uri": "https://localhost:8080/"
        }
      },
      "execution_count": null,
      "outputs": [
        {
          "output_type": "stream",
          "name": "stdout",
          "text": [
            "30\n"
          ]
        }
      ]
    },
    {
      "cell_type": "markdown",
      "source": [
        "**Q10**: Fill in the blank so that it prints out `A`."
      ],
      "metadata": {
        "id": "MIgO95-Fl1SN"
      }
    },
    {
      "cell_type": "code",
      "source": [
        "users = {'Mary':{'age':20, 'gender':'F','grade':'B'},\n",
        "         'John':{'age':30, 'gender':'M','grade':'A'},\n",
        "         'Bob':{'age':25, 'gender':'M','grade':'C'}}\n",
        "\n",
        "print(users['John']['grade'])"
      ],
      "metadata": {
        "id": "89OFqzx4l_XY",
        "outputId": "46c2e694-337c-4d17-99da-d34d44e200f3",
        "colab": {
          "base_uri": "https://localhost:8080/"
        }
      },
      "execution_count": null,
      "outputs": [
        {
          "output_type": "stream",
          "name": "stdout",
          "text": [
            "A\n"
          ]
        }
      ]
    },
    {
      "cell_type": "markdown",
      "source": [
        "**Q11** Fill in the blanks so that the program print out `{'Anna': [30, 20], 'Bob': []}`"
      ],
      "metadata": {
        "id": "An9RPYexo6SG"
      }
    },
    {
      "cell_type": "code",
      "source": [
        "scores = {'Anna':[],'Bob':[]}\n",
        "scores['Anna'].append(30)\n",
        "scores['Anna'].append(20)\n",
        "print(scores)"
      ],
      "metadata": {
        "id": "z0yTFajNY9m7"
      },
      "execution_count": null,
      "outputs": []
    },
    {
      "cell_type": "markdown",
      "source": [
        "**Q12**: Count vowels\n",
        "\n",
        "จงสร้าง dictionary มานับจำนวน สระ (a, e, i, o, u) ที่อยู่ในข้อมูลนำเข้าทั้งหมด\n",
        "\n",
        "**Input**\n",
        "- string\n",
        "\n",
        "**Output**\n",
        "- A dictionary\n",
        "\n",
        "**หมายเหตุ:**\n",
        "- เติม code ใน function `count_vowels(input_string)` ซึ่งรับ string เข้ามา แล้วส่ง dictionary ออก\n",
        "= เติม code ใน function `main()` เพื่อรับข้อมูลจาก user แล้ว เรียกใช้ `count_vowels(input_string)` แล้วนำข้อมูลมาแสดงผล\n",
        "- ลำดับของ dictionary ไม่สำคัญ เช่น `'a'` หลัง `'e'` ได้\n",
        "\n",
        "\n",
        "**ตัวอย่างที่ 1**\n",
        "\n",
        "```\n",
        "Enter input string: AaA eE i o uUuu\n",
        "{'a': 3, 'e': 2, 'i': 1, 'o': 1, 'u': 4}\n",
        "```\n",
        "\n",
        "**ตัวอย่างที่ 2**\n",
        "\n",
        "```\n",
        "Enter input string: Hello How are you? I'm fine thank you.\n",
        "{'a': 2, 'e': 3, 'i': 2, 'o': 4, 'u': 2}\n",
        "```\n"
      ],
      "metadata": {
        "id": "fjipzU35nBsN"
      }
    },
    {
      "cell_type": "code",
      "source": [
        "def count_vowels(input_string):\n",
        "  string_lower = input_string.lower()\n",
        "  my_dict = {'a':0,'e':0,'i':0,'o':0,'u':0}\n",
        "  for char in string_lower:\n",
        "    if char in my_dict:\n",
        "      my_dict[char] += 1\n",
        "  return my_dict\n",
        "\n",
        "def main():\n",
        "  string = input('Enter input string: ')\n",
        "  result_dict = count_vowels(string)\n",
        "  print(result_dict)\n",
        "\n",
        "main()"
      ],
      "metadata": {
        "id": "YQjqwEqPou9A",
        "outputId": "a7230f77-6bdd-4da2-8333-bc9b00e8f4f3",
        "colab": {
          "base_uri": "https://localhost:8080/"
        }
      },
      "execution_count": null,
      "outputs": [
        {
          "output_type": "stream",
          "name": "stdout",
          "text": [
            "Enter input string: AaA eE i o uUuu\n",
            "{'a': 3, 'e': 2, 'i': 1, 'o': 1, 'u': 4}\n"
          ]
        }
      ]
    },
    {
      "cell_type": "markdown",
      "source": [
        "**Q13**: Dictionary of even and odd\n",
        "\n",
        "จงเขียนโปรแกรม ที่รับตัวเลขหลายๆตัว คั่นด้วย comma `,` แล้วนำมาสร้าง dictionary ซึ่งแยกเป็น list เลขคู่ (even) กับ list เลขคี่ (odd)\n",
        "\n",
        "**Input**:\n",
        "- ข้อมูลนำเข้าเป็น string\n",
        "\n",
        "**Output**:\n",
        "- ข้อมูลส่งออกเป็น dictionary\n",
        "\n",
        "**ข้อกำหนด**:\n",
        "- `dict_even_odd(input_string)` function รับ string เข้ามา แล้วส่ง dictionary ออก\n",
        "- `main()` function รับข้อมูลจากผู้ใช้งาน แล้วเรียกใช้ `dict_even_odd(input_string)` แล้วนำค่ามาแสดงผล\n",
        "\n",
        "**ตัวอย่างที่ 1**:\n",
        "```\n",
        "Enter input string: 1\n",
        "{'even': [], 'odd': [1]}\n",
        "```\n",
        "\n",
        "**ตัวอย่างที่ 2**:\n",
        "```\n",
        "Enter input string: 1,3,5,8,10\n",
        "{'even': [8, 10], 'odd': [1, 3, 5]}\n",
        "```\n",
        "\n",
        "**ตัวอย่างที่ 3**:\n",
        "```\n",
        "Enter input string: 0,4,7,9,12\n",
        "{'even': [0, 4, 12], 'odd': [7, 9]}\n",
        "```"
      ],
      "metadata": {
        "id": "vOsxxrFWt7Cm"
      }
    },
    {
      "cell_type": "code",
      "execution_count": null,
      "metadata": {
        "id": "9i8EQN0atpFC",
        "outputId": "0adfcb93-29cd-45f3-c82e-f3e7ebdc3040",
        "colab": {
          "base_uri": "https://localhost:8080/"
        }
      },
      "outputs": [
        {
          "output_type": "stream",
          "name": "stdout",
          "text": [
            "Enter input string:0,4,7,9,12\n",
            "{'even': [0, 4, 12], 'odd': [7, 9]}\n"
          ]
        }
      ],
      "source": [
        "def dict_even_odd(input_string):\n",
        "  list_strings = input_string.split(',')\n",
        "  list_numbers = []\n",
        "  for string in list_strings:\n",
        "    list_numbers.append(int(string))\n",
        "  #for i in range(len(list_strings)):\n",
        "  #  list_strings[i] = int(list_strings[i])\n",
        "\n",
        "  my_dict = {'even':[], 'odd':[]}\n",
        "  for num in list_numbers:\n",
        "    #num = int(num)\n",
        "    if num % 2 ==0:\n",
        "      my_dict['even'].append(num)\n",
        "    else:\n",
        "      my_dict['odd'].append(num)\n",
        "  return my_dict\n",
        "\n",
        "def main():\n",
        "  input_string = input('Enter input string:')\n",
        "  result = dict_even_odd(input_string)\n",
        "  print(result)\n",
        "\n",
        "\n",
        "main()"
      ]
    }
  ]
}
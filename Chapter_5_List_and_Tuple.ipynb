{
  "nbformat": 4,
  "nbformat_minor": 0,
  "metadata": {
    "colab": {
      "provenance": [],
      "authorship_tag": "ABX9TyMxg7diJCWT37Z2cAzeASLB",
      "include_colab_link": true
    },
    "kernelspec": {
      "name": "python3",
      "display_name": "Python 3"
    },
    "language_info": {
      "name": "python"
    }
  },
  "cells": [
    {
      "cell_type": "markdown",
      "metadata": {
        "id": "view-in-github",
        "colab_type": "text"
      },
      "source": [
        "<a href=\"https://colab.research.google.com/github/yongsa-nut/TU_CN101_67-1/blob/main/Chapter_5_List_and_Tuple.ipynb\" target=\"_parent\"><img src=\"https://colab.research.google.com/assets/colab-badge.svg\" alt=\"Open In Colab\"/></a>"
      ]
    },
    {
      "cell_type": "markdown",
      "source": [
        "# Chapter 5 List and Tuple\n",
        "\n",
        "https://github.com/yongsa-nut/TU_Intro_Prog/"
      ],
      "metadata": {
        "id": "67nUlQY97G0V"
      }
    },
    {
      "cell_type": "markdown",
      "source": [
        "## Sequences\n",
        "* **Sequence**: an object that contains multiple items of data\n",
        "  * The items are stored in sequence one after another\n",
        "\n",
        "* Python provides different types of sequences, including $\\texttt{list}$ and $\\texttt{tuple}$\n",
        "  * The **key** difference is that a $\\texttt{list}$ is *mutable* and a $\\texttt{tuple}$ is *immutable*"
      ],
      "metadata": {
        "id": "LNFpzLgiTltU"
      }
    },
    {
      "cell_type": "markdown",
      "source": [
        "## Introduction to $\\texttt{list}$\n",
        "* $\\texttt{list}$: a list of items enclosed in [ ] and separeted by commas.\n",
        "  * Syntax: $\\texttt{list = [item1, item2, item3]}$\n",
        "  * items can be any data type (int, float, string, etc.)\n",
        "* $\\texttt{print}$ can be used to display the entire list."
      ],
      "metadata": {
        "id": "HLSSRbKJU2QN"
      }
    },
    {
      "cell_type": "code",
      "source": [
        "# Creating a list ex1:\n",
        "\n",
        "## Sequence of numbers\n",
        "seq1 = [1, 2, 3, 4, 5]\n",
        "\n",
        "## Sequence of string\n",
        "seq2 = [\"A\",\"B\",\"C\",\"D\"]\n",
        "\n",
        "## Sequence of mixed dta type\n",
        "seq3 = [True,False,0,1,\"True\",\"False\"]\n",
        "\n",
        "print(seq1)\n",
        "print(seq2)\n",
        "print(seq3)"
      ],
      "metadata": {
        "id": "0PyiDsmuVt2M",
        "colab": {
          "base_uri": "https://localhost:8080/"
        },
        "outputId": "5c6b381e-3f7d-4256-e93c-1b916a658bd2"
      },
      "execution_count": 1,
      "outputs": [
        {
          "output_type": "stream",
          "name": "stdout",
          "text": [
            "[1, 2, 3, 4, 5]\n",
            "['A', 'B', 'C', 'D']\n",
            "[True, False, 0, 1, 'True', 'False']\n"
          ]
        }
      ]
    },
    {
      "cell_type": "markdown",
      "source": [
        "### Indexing\n",
        "\n",
        "* You access elements in the list by indexing\n",
        "* Index: a number specifying the position of an element in a list\n",
        "* Syntax: $\\texttt{list[i]}$, where $\\texttt{i}$ is the index\n",
        "* **Importance**: The first index is 0!!\n",
        "  * Sequence of index: $\\texttt{0, 1, ..., n - 1}$, where $\\texttt{n}$ = the length of the list.\n",
        "* Negative indexes identify positions from the end of the list.\n",
        "  * $\\texttt{-1}$ = the last element. $\\texttt{-2}$ the second to last element."
      ],
      "metadata": {
        "id": "pIptAG_Kb5RY"
      }
    },
    {
      "cell_type": "code",
      "source": [
        "# Indexing ex1\n",
        "\n",
        "seq1 = [\"A\",\"B\",\"C\",\"D\",\"E\",\"F\"]\n",
        "#index:  0 , 1 , 2 , 3 , 4 , 5\n",
        "\n",
        "print(seq1[0])\n",
        "print(seq1[1])\n",
        "print(seq1[5])"
      ],
      "metadata": {
        "id": "JvZB_UGZd_Vj",
        "colab": {
          "base_uri": "https://localhost:8080/"
        },
        "outputId": "8b849637-eb8a-45e7-b7f5-a6b043b748ce"
      },
      "execution_count": 2,
      "outputs": [
        {
          "output_type": "stream",
          "name": "stdout",
          "text": [
            "A\n",
            "B\n",
            "F\n"
          ]
        }
      ]
    },
    {
      "cell_type": "code",
      "source": [
        "# Indexing ex2: backward\n",
        "\n",
        "seq1 = [\"A\",\"B\",\"C\",\"D\",\"E\",\"F\"]\n",
        "#back:  -6, -5, -4, -3, -2, -1\n",
        "\n",
        "print(seq1[-1])\n",
        "print(seq1[-3])\n",
        "print(seq1[-5])"
      ],
      "metadata": {
        "id": "1McCUqaPfSfc",
        "colab": {
          "base_uri": "https://localhost:8080/"
        },
        "outputId": "a005e5dc-73b2-418e-90a4-fcc42b2fe6e8"
      },
      "execution_count": 3,
      "outputs": [
        {
          "output_type": "stream",
          "name": "stdout",
          "text": [
            "F\n",
            "D\n",
            "B\n"
          ]
        }
      ]
    },
    {
      "cell_type": "code",
      "source": [
        "# Indexing ex3: error index out of range\n",
        "\n",
        "seq1 = [\"A\",\"B\",\"C\",\"D\",\"E\",\"F\"]\n",
        "\n",
        "print(seq1[6])"
      ],
      "metadata": {
        "id": "bPczadoMfj31",
        "colab": {
          "base_uri": "https://localhost:8080/",
          "height": 176
        },
        "outputId": "1919a28d-4431-494e-9891-2e70790032d4"
      },
      "execution_count": 4,
      "outputs": [
        {
          "output_type": "error",
          "ename": "IndexError",
          "evalue": "list index out of range",
          "traceback": [
            "\u001b[0;31m---------------------------------------------------------------------------\u001b[0m",
            "\u001b[0;31mIndexError\u001b[0m                                Traceback (most recent call last)",
            "\u001b[0;32m<ipython-input-4-74272905b593>\u001b[0m in \u001b[0;36m<cell line: 5>\u001b[0;34m()\u001b[0m\n\u001b[1;32m      3\u001b[0m \u001b[0mseq1\u001b[0m \u001b[0;34m=\u001b[0m \u001b[0;34m[\u001b[0m\u001b[0;34m\"A\"\u001b[0m\u001b[0;34m,\u001b[0m\u001b[0;34m\"B\"\u001b[0m\u001b[0;34m,\u001b[0m\u001b[0;34m\"C\"\u001b[0m\u001b[0;34m,\u001b[0m\u001b[0;34m\"D\"\u001b[0m\u001b[0;34m,\u001b[0m\u001b[0;34m\"E\"\u001b[0m\u001b[0;34m,\u001b[0m\u001b[0;34m\"F\"\u001b[0m\u001b[0;34m]\u001b[0m\u001b[0;34m\u001b[0m\u001b[0;34m\u001b[0m\u001b[0m\n\u001b[1;32m      4\u001b[0m \u001b[0;34m\u001b[0m\u001b[0m\n\u001b[0;32m----> 5\u001b[0;31m \u001b[0mprint\u001b[0m\u001b[0;34m(\u001b[0m\u001b[0mseq1\u001b[0m\u001b[0;34m[\u001b[0m\u001b[0;36m6\u001b[0m\u001b[0;34m]\u001b[0m\u001b[0;34m)\u001b[0m\u001b[0;34m\u001b[0m\u001b[0;34m\u001b[0m\u001b[0m\n\u001b[0m",
            "\u001b[0;31mIndexError\u001b[0m: list index out of range"
          ]
        }
      ]
    },
    {
      "cell_type": "markdown",
      "source": [
        "### $\\texttt{len}$ function\n",
        "* $\\texttt{len}$ function returns the length of a sequence such as a list\n",
        "* Syntax: $\\texttt{len(list)}$\n",
        "* The index of the last element: $\\texttt{len(list) -1}$"
      ],
      "metadata": {
        "id": "av_bdtJKf3AB"
      }
    },
    {
      "cell_type": "code",
      "source": [
        "# Len examples\n",
        "\n",
        "seq1 = [\"A\",\"B\",\"C\",\"D\",\"E\",\"F\"]\n",
        "\n",
        "print(len(seq1))\n",
        "\n",
        "print(f\"Last element: {seq1[len(seq1)-1]}\")"
      ],
      "metadata": {
        "id": "XiP48TeThDeF",
        "colab": {
          "base_uri": "https://localhost:8080/"
        },
        "outputId": "aa291a62-e96c-450d-d195-85b2e348e397"
      },
      "execution_count": 5,
      "outputs": [
        {
          "output_type": "stream",
          "name": "stdout",
          "text": [
            "6\n",
            "Last element: F\n"
          ]
        }
      ]
    },
    {
      "cell_type": "markdown",
      "source": [
        "## $\\texttt{list}$ is mutable\n",
        "* **mutable**: the items in the sequence can be changed.\n",
        "* $\\texttt{list}$ is mutable.\n",
        "* Assigning new value: $\\texttt{list[1] = new_value}$\n",
        "* index has to be valid (not out of range)."
      ],
      "metadata": {
        "id": "wNkYFE4qhitX"
      }
    },
    {
      "cell_type": "code",
      "source": [
        "seq1 = [\"A\",\"B\",\"C\",\"D\",\"E\",\"F\"]\n",
        "\n",
        "print(f\"Before seq1[1] = {seq1[1]}\")\n",
        "seq1[1] = \"O\"\n",
        "print(f\"After seq1[1] = {seq1[1]}\")\n",
        "seq1[1] = 2\n",
        "print(f\"After2 seq1[1] = {seq1[1]}\")"
      ],
      "metadata": {
        "id": "SOcxI95IiitK",
        "colab": {
          "base_uri": "https://localhost:8080/"
        },
        "outputId": "903d7917-f69b-4abb-ce91-f85cc379a03a"
      },
      "execution_count": 6,
      "outputs": [
        {
          "output_type": "stream",
          "name": "stdout",
          "text": [
            "Before seq1[1] = B\n",
            "After seq1[1] = O\n",
            "After2 seq1[1] = 2\n"
          ]
        }
      ]
    },
    {
      "cell_type": "markdown",
      "source": [
        "## Iterate over a list\n",
        "\n",
        "* You can iterate over a list using for loop.\n",
        "* Syntax: $\\texttt{for item in list:}$"
      ],
      "metadata": {
        "id": "WRhr5bf5kA_7"
      }
    },
    {
      "cell_type": "code",
      "source": [
        "seq1 = [\"A\",\"B\",\"C\",\"D\",\"E\",\"F\"]\n",
        "\n",
        "for string in seq1:\n",
        "  print(string)"
      ],
      "metadata": {
        "id": "S1J15DA5kg3U",
        "colab": {
          "base_uri": "https://localhost:8080/"
        },
        "outputId": "d9f91a67-c8f6-4da8-a616-dd8993c29742"
      },
      "execution_count": 8,
      "outputs": [
        {
          "output_type": "stream",
          "name": "stdout",
          "text": [
            "A\n",
            "B\n",
            "C\n",
            "D\n",
            "E\n",
            "F\n"
          ]
        }
      ]
    },
    {
      "cell_type": "markdown",
      "source": [
        "## Another way to iterate over a list using index\n",
        "- index is just a number.\n",
        "- `range()` can be used together with `len()` to generate a sequence of number from 0 to n-1, where n = length of the list.\n",
        "- Example: $\\texttt{for i in range(len(list)):}$"
      ],
      "metadata": {
        "id": "kbyLj6hPCGPK"
      }
    },
    {
      "cell_type": "code",
      "source": [
        "seq1 = [\"A\",\"B\",\"C\",\"D\",\"E\",\"F\"]\n",
        "\n",
        "for i in range(len(seq1)):\n",
        "  print(seq1[i])"
      ],
      "metadata": {
        "colab": {
          "base_uri": "https://localhost:8080/"
        },
        "id": "xPtlHLISCJnL",
        "outputId": "837db6a0-7919-4808-92cf-193bce0e32d3"
      },
      "execution_count": 10,
      "outputs": [
        {
          "output_type": "stream",
          "name": "stdout",
          "text": [
            "A\n",
            "B\n",
            "C\n",
            "D\n",
            "E\n",
            "F\n"
          ]
        }
      ]
    },
    {
      "cell_type": "markdown",
      "source": [
        "## Summary so far\n",
        "* Construction: $\\texttt{variable = [item1, item2, item3]}$\n",
        "\n",
        "* Indexing: $\\texttt{variable[i]}$\n",
        "\n",
        "* Mutable & Assignment: $\\texttt{variable[i] = new_time}$\n",
        "\n",
        "* $\\texttt{len}$: returns the length of a list\n",
        "\n",
        "* for loop:  $\\texttt{for item in variable:}$"
      ],
      "metadata": {
        "id": "u78FAl_pkzZ-"
      }
    },
    {
      "cell_type": "code",
      "source": [
        "# list recap ex1:\n",
        "## Finding the sum of age\n",
        "\n",
        "## creating a list\n",
        "ages = [24, 50, 17, 28, 50]\n",
        "\n",
        "total = 0\n",
        "\n",
        "## loop over list\n",
        "for age in ages:\n",
        "  total += age\n",
        "print(f\"The sum of all ages = {total}\")"
      ],
      "metadata": {
        "id": "bIAkYSDOjCUH",
        "colab": {
          "base_uri": "https://localhost:8080/"
        },
        "outputId": "411c14bc-9f85-4fd3-dcae-bf1bdad5f7fc"
      },
      "execution_count": 11,
      "outputs": [
        {
          "output_type": "stream",
          "name": "stdout",
          "text": [
            "The sum of all ages = 169\n"
          ]
        }
      ]
    },
    {
      "cell_type": "code",
      "source": [
        "# list recap ex2:\n",
        "## Finding the sum of age with indexing\n",
        "\n",
        "## creating a list\n",
        "ages = [24, 50, 17, 28, 50]\n",
        "\n",
        "total = 0\n",
        "\n",
        "## loop over list\n",
        "for i in range(len(ages)):\n",
        "  total += ages[i]\n",
        "print(f\"The sum of all ages = {total}\")"
      ],
      "metadata": {
        "id": "9VNMMaaWm5Cp",
        "colab": {
          "base_uri": "https://localhost:8080/"
        },
        "outputId": "188cd1ae-b757-42be-c151-de46611e12cb"
      },
      "execution_count": 12,
      "outputs": [
        {
          "output_type": "stream",
          "name": "stdout",
          "text": [
            "The sum of all ages = 169\n"
          ]
        }
      ]
    },
    {
      "cell_type": "code",
      "source": [
        "# list recap ex3:\n",
        "## Updating age into old or young\n",
        "OLD_THRESHOLD = 30\n",
        "ages = [24, 50, 17, 28, 50]\n",
        "\n",
        "for i in range(len(ages)):\n",
        "  if ages[i] > OLD_THRESHOLD:\n",
        "    ages[i] = \"old\"\n",
        "  else:\n",
        "    ages[i] = \"young\"\n",
        "\n",
        "print(ages)"
      ],
      "metadata": {
        "id": "6PrDR7OCnJ3w",
        "colab": {
          "base_uri": "https://localhost:8080/"
        },
        "outputId": "88ed3dab-3f51-4bb4-83ce-fd6b203dd0d2"
      },
      "execution_count": 13,
      "outputs": [
        {
          "output_type": "stream",
          "name": "stdout",
          "text": [
            "['young', 'old', 'young', 'young', 'old']\n"
          ]
        }
      ]
    },
    {
      "cell_type": "markdown",
      "source": [
        "## Continue after Midterm"
      ],
      "metadata": {
        "id": "1SZLGa73C00n"
      }
    },
    {
      "cell_type": "markdown",
      "source": [
        "## list slicing\n",
        "* **Slice**: a span of items that are taken from a sequence\n",
        "* Syntax: $\\texttt{list[start:end:step]}$\n",
        "* Span is a list containing copies of elements from $\\texttt{start}$ **up to, <br> but not including, $\\texttt{end}$**.\n",
        "  * If $\\texttt{start}$ is not specified, the default $\\texttt{start}$ is 0.\n",
        "  * If $\\texttt{end}$ is not specified, the default $\\texttt{end}$ is $\\texttt{len(list)}$\n",
        "  * If $\\texttt{step}$ is not specified, the default $\\texttt{step}$ is 1.\n",
        "* Negative indexes work with slicing."
      ],
      "metadata": {
        "id": "nCYde59xhppo"
      }
    },
    {
      "cell_type": "code",
      "source": [
        "# list slicing ex1:\n",
        "\n",
        "seq1 = [\"A\",\"B\",\"C\",\"D\",\"E\",\"F\"]\n",
        "\n",
        "print(seq1[1:3])"
      ],
      "metadata": {
        "id": "Td7W7eiTtbag",
        "colab": {
          "base_uri": "https://localhost:8080/"
        },
        "outputId": "b7fa3ac5-506f-49d2-a64a-99da78a2470a"
      },
      "execution_count": 14,
      "outputs": [
        {
          "output_type": "stream",
          "name": "stdout",
          "text": [
            "['B', 'C']\n"
          ]
        }
      ]
    },
    {
      "cell_type": "code",
      "source": [
        "print(seq1[:3])"
      ],
      "metadata": {
        "id": "64TI4ZHlttCp",
        "colab": {
          "base_uri": "https://localhost:8080/"
        },
        "outputId": "da9b9853-512a-4d9c-a6fe-451c6fd2c1af"
      },
      "execution_count": 15,
      "outputs": [
        {
          "output_type": "stream",
          "name": "stdout",
          "text": [
            "['A', 'B', 'C']\n"
          ]
        }
      ]
    },
    {
      "cell_type": "code",
      "source": [
        "print(seq1[2:])"
      ],
      "metadata": {
        "id": "kPi7Y-GvtvPV",
        "colab": {
          "base_uri": "https://localhost:8080/"
        },
        "outputId": "f97824d1-9a44-40b3-e3d3-cc49a32cd444"
      },
      "execution_count": 16,
      "outputs": [
        {
          "output_type": "stream",
          "name": "stdout",
          "text": [
            "['C', 'D', 'E', 'F']\n"
          ]
        }
      ]
    },
    {
      "cell_type": "code",
      "source": [
        "print(seq1[:])"
      ],
      "metadata": {
        "id": "lEh8JfKGtw2H",
        "colab": {
          "base_uri": "https://localhost:8080/"
        },
        "outputId": "770df75e-fcda-4f97-a49d-747c2346ed0a"
      },
      "execution_count": 17,
      "outputs": [
        {
          "output_type": "stream",
          "name": "stdout",
          "text": [
            "['A', 'B', 'C', 'D', 'E', 'F']\n"
          ]
        }
      ]
    },
    {
      "cell_type": "code",
      "source": [
        "print(seq1[1::2])"
      ],
      "metadata": {
        "id": "6O_YS7aotzFE",
        "colab": {
          "base_uri": "https://localhost:8080/"
        },
        "outputId": "046cd61c-7f04-4752-c8c0-e680c5657544"
      },
      "execution_count": 18,
      "outputs": [
        {
          "output_type": "stream",
          "name": "stdout",
          "text": [
            "['B', 'D', 'F']\n"
          ]
        }
      ]
    },
    {
      "cell_type": "code",
      "source": [
        "print(seq1[-1::-2])"
      ],
      "metadata": {
        "id": "k4RqUlkZt1lI",
        "colab": {
          "base_uri": "https://localhost:8080/"
        },
        "outputId": "7f8abdca-26b7-4ff8-cc5c-1d6a2171debd"
      },
      "execution_count": 19,
      "outputs": [
        {
          "output_type": "stream",
          "name": "stdout",
          "text": [
            "['F', 'D', 'B']\n"
          ]
        }
      ]
    },
    {
      "cell_type": "code",
      "source": [
        "# list slicing ex2:\n",
        "\n",
        "numbers = [1, 2, 3, 4, 5]\n",
        "\n",
        "print(numbers[1:3])"
      ],
      "metadata": {
        "id": "p4P5h9mDt358",
        "colab": {
          "base_uri": "https://localhost:8080/"
        },
        "outputId": "67e7c347-bdab-4fd8-ed49-3feaede7acdd"
      },
      "execution_count": 20,
      "outputs": [
        {
          "output_type": "stream",
          "name": "stdout",
          "text": [
            "[2, 3]\n"
          ]
        }
      ]
    },
    {
      "cell_type": "code",
      "source": [
        "print(numbers[:4])"
      ],
      "metadata": {
        "id": "bCxkEVIkunDK",
        "colab": {
          "base_uri": "https://localhost:8080/"
        },
        "outputId": "697fcb9f-cdf1-4328-dc2c-b44a6b1fc66f"
      },
      "execution_count": 21,
      "outputs": [
        {
          "output_type": "stream",
          "name": "stdout",
          "text": [
            "[1, 2, 3, 4]\n"
          ]
        }
      ]
    },
    {
      "cell_type": "code",
      "source": [
        "print(numbers[3:])"
      ],
      "metadata": {
        "id": "izOptg3DuprM",
        "colab": {
          "base_uri": "https://localhost:8080/"
        },
        "outputId": "1272248a-40bb-4171-dd51-67e8ed39dba0"
      },
      "execution_count": 22,
      "outputs": [
        {
          "output_type": "stream",
          "name": "stdout",
          "text": [
            "[4, 5]\n"
          ]
        }
      ]
    },
    {
      "cell_type": "code",
      "source": [
        "print(numbers[::2])"
      ],
      "metadata": {
        "id": "Wzi3P_tXurFY",
        "colab": {
          "base_uri": "https://localhost:8080/"
        },
        "outputId": "ac40740c-2750-42c5-da39-f568d5dd8965"
      },
      "execution_count": 24,
      "outputs": [
        {
          "output_type": "stream",
          "name": "stdout",
          "text": [
            "[1, 3, 5]\n"
          ]
        }
      ]
    },
    {
      "cell_type": "code",
      "source": [
        "print(numbers[-1:-3:-2])"
      ],
      "metadata": {
        "id": "qX43uuhQuswX",
        "colab": {
          "base_uri": "https://localhost:8080/"
        },
        "outputId": "984700a6-1cba-4f67-919f-4f135cb775ea"
      },
      "execution_count": 23,
      "outputs": [
        {
          "output_type": "stream",
          "name": "stdout",
          "text": [
            "[5]\n"
          ]
        }
      ]
    },
    {
      "cell_type": "markdown",
      "source": [
        "## List Operators: $\\texttt{*}$\n",
        "* $\\texttt{*}$ : a repition operator\n",
        "  * Syntax: $\\texttt{list * n}$\n",
        "  * Creates a new $\\texttt{list}$ which repeats the old $\\texttt{list n}$ times"
      ],
      "metadata": {
        "id": "vu9phxHq7Qt9"
      }
    },
    {
      "cell_type": "code",
      "source": [
        "# * ex1\n",
        "num1 = [1,2,3]\n",
        "num2 = num1 * 3\n",
        "print(num2)"
      ],
      "metadata": {
        "id": "m9l0IUFl7vnI",
        "colab": {
          "base_uri": "https://localhost:8080/"
        },
        "outputId": "dc142020-42c3-4340-dc48-2c0bedf0236a"
      },
      "execution_count": 25,
      "outputs": [
        {
          "output_type": "stream",
          "name": "stdout",
          "text": [
            "[1, 2, 3, 1, 2, 3, 1, 2, 3]\n"
          ]
        }
      ]
    },
    {
      "cell_type": "code",
      "source": [
        "# * ex2\n",
        "zeros = [0]*5\n",
        "print(zeros)"
      ],
      "metadata": {
        "id": "FWQwiUmB8GiA",
        "colab": {
          "base_uri": "https://localhost:8080/"
        },
        "outputId": "fd4db1a8-2738-48e1-a806-df43018a2491"
      },
      "execution_count": 26,
      "outputs": [
        {
          "output_type": "stream",
          "name": "stdout",
          "text": [
            "[0, 0, 0, 0, 0]\n"
          ]
        }
      ]
    },
    {
      "cell_type": "markdown",
      "source": [
        "## List Operators: $\\texttt{+}$\n",
        "* $\\texttt{+}$ : a concatenation operator\n",
        "  * Syntax: $\\texttt{list1 + list2}$\n",
        "  * Creates a new $\\texttt{list}$ which concatenate the two lists together"
      ],
      "metadata": {
        "id": "A-hfgK6V7eJi"
      }
    },
    {
      "cell_type": "code",
      "source": [
        "# + ex\n",
        "seq1 = [\"A\",\"B\",\"C\",\"D\",\"E\",\"F\"]\n",
        "seq2 = [\"G\",\"H\",\"I\"]\n",
        "seq3 = seq1 + seq2\n",
        "\n",
        "print(f\"{seq1} + {seq2} = {seq3}\")"
      ],
      "metadata": {
        "id": "61bw_Ski8NPZ",
        "colab": {
          "base_uri": "https://localhost:8080/"
        },
        "outputId": "32088627-d2f8-4418-c1bc-5fd239214aa5"
      },
      "execution_count": 28,
      "outputs": [
        {
          "output_type": "stream",
          "name": "stdout",
          "text": [
            "['A', 'B', 'C', 'D', 'E', 'F'] + ['G', 'H', 'I'] = ['A', 'B', 'C', 'D', 'E', 'F', 'G', 'H', 'I']\n"
          ]
        }
      ]
    },
    {
      "cell_type": "markdown",
      "source": [
        "## List Operators: $\\texttt{in}$\n",
        "* $\\texttt{in}$ : finding item in a list\n",
        "  * Syntax: $\\texttt{item in list}$\n",
        "  * returns $\\texttt{True}$ if the item is in the list, $\\texttt{False}$ if it is not in the list.\n",
        "  * $\\texttt{not in}$ to check if an item is not in the list."
      ],
      "metadata": {
        "id": "b8kqfO3t7kyn"
      }
    },
    {
      "cell_type": "code",
      "source": [
        "# in example\n",
        "prod_nums = [\"V475\",\"F987\",\"Q143\",\"R688\"]\n",
        "\n",
        "search = input(\"Enter the product number: \")\n",
        "\n",
        "if search in prod_nums:\n",
        "  print(search, \"was found in the list.\")\n",
        "else:\n",
        "  print(search, \"was not found in the list.\")"
      ],
      "metadata": {
        "id": "FmpJeCJk8mDh",
        "colab": {
          "base_uri": "https://localhost:8080/"
        },
        "outputId": "b36a0571-7795-4ed8-ed5d-6aa85004bb62"
      },
      "execution_count": 29,
      "outputs": [
        {
          "output_type": "stream",
          "name": "stdout",
          "text": [
            "Enter the product number: V475\n",
            "V475 was found in the list.\n"
          ]
        }
      ]
    },
    {
      "cell_type": "markdown",
      "source": [
        "## List Operators Summary\n",
        "* $\\texttt{*}$ : a repition operator\n",
        "  * Syntax: $\\texttt{list * n}$\n",
        "  * Creates a new $\\texttt{list}$ which repeats the old $\\texttt{list n}$ times\n",
        "* $\\texttt{+}$ : a concatenation operator\n",
        "  * Syntax: $\\texttt{list1 + list2}$\n",
        "  * Creates a new $\\texttt{list}$ which concatenate the two lists together\n",
        "* $\\texttt{in}$ : finding item in a list\n",
        "  * Syntax: $\\texttt{item in list}$\n",
        "  * returns $\\texttt{True}$ if the item is in the list, $\\texttt{False}$ if it is not in the list.\n",
        "  * $\\texttt{not in}$ to check if an item is not in the list."
      ],
      "metadata": {
        "id": "Nve8BzwZu0Fh"
      }
    },
    {
      "cell_type": "markdown",
      "source": [
        "## List method: $\\texttt{append}$\n",
        "* Method general format: $\\texttt{list.method(params)}$\n",
        "  * Methods modify the list\n",
        "* $\\texttt{append(item)}$: add items to the *end* of the list."
      ],
      "metadata": {
        "id": "HfOSzhRl9ZOD"
      }
    },
    {
      "cell_type": "code",
      "source": [
        "numbers = [1, 2, 3, 4, 5]\n",
        "numbers.append(6)\n",
        "print(numbers)"
      ],
      "metadata": {
        "id": "xxJ3tVaG92St",
        "colab": {
          "base_uri": "https://localhost:8080/"
        },
        "outputId": "7b9279c3-5616-48ec-a305-c7ad0340acfb"
      },
      "execution_count": 30,
      "outputs": [
        {
          "output_type": "stream",
          "name": "stdout",
          "text": [
            "[1, 2, 3, 4, 5, 6]\n"
          ]
        }
      ]
    },
    {
      "cell_type": "markdown",
      "source": [
        "## List method: $\\texttt{index}$\n",
        "* $\\texttt{index(item)}$: determine the index of an item in the list.\n",
        "  * the item must be in the list, else $\\texttt{ValueError}$"
      ],
      "metadata": {
        "id": "UE3a_urA-iRT"
      }
    },
    {
      "cell_type": "code",
      "source": [
        "numbers = [1,2,3,4,5]\n",
        "print(numbers.index(3))"
      ],
      "metadata": {
        "id": "z_Q5LHVa-tYG",
        "colab": {
          "base_uri": "https://localhost:8080/"
        },
        "outputId": "c00f2b9a-7704-499d-edd4-5d61b9428614"
      },
      "execution_count": 31,
      "outputs": [
        {
          "output_type": "stream",
          "name": "stdout",
          "text": [
            "2\n"
          ]
        }
      ]
    },
    {
      "cell_type": "code",
      "source": [
        "print(numbers.index(7)) # error case"
      ],
      "metadata": {
        "id": "70WklbUM-y5P",
        "colab": {
          "base_uri": "https://localhost:8080/",
          "height": 141
        },
        "outputId": "03e36f5e-771d-458b-e046-a636ec4baae1"
      },
      "execution_count": 32,
      "outputs": [
        {
          "output_type": "error",
          "ename": "ValueError",
          "evalue": "7 is not in list",
          "traceback": [
            "\u001b[0;31m---------------------------------------------------------------------------\u001b[0m",
            "\u001b[0;31mValueError\u001b[0m                                Traceback (most recent call last)",
            "\u001b[0;32m<ipython-input-32-98bdcdb59cfb>\u001b[0m in \u001b[0;36m<cell line: 1>\u001b[0;34m()\u001b[0m\n\u001b[0;32m----> 1\u001b[0;31m \u001b[0mprint\u001b[0m\u001b[0;34m(\u001b[0m\u001b[0mnumbers\u001b[0m\u001b[0;34m.\u001b[0m\u001b[0mindex\u001b[0m\u001b[0;34m(\u001b[0m\u001b[0;36m7\u001b[0m\u001b[0;34m)\u001b[0m\u001b[0;34m)\u001b[0m \u001b[0;31m# error case\u001b[0m\u001b[0;34m\u001b[0m\u001b[0;34m\u001b[0m\u001b[0m\n\u001b[0m",
            "\u001b[0;31mValueError\u001b[0m: 7 is not in list"
          ]
        }
      ]
    },
    {
      "cell_type": "markdown",
      "source": [
        "## List Method: $\\texttt{insert}$\n",
        "\n",
        "* $\\texttt{insert(index, item)}$: insert $\\texttt{item}$ at position $\\texttt{index}$ of the list"
      ],
      "metadata": {
        "id": "s1e6XJrJ-2AE"
      }
    },
    {
      "cell_type": "code",
      "source": [
        "numbers = [1, 2, 3, 4, 5]\n",
        "numbers.insert(2, 55)\n",
        "print(numbers)"
      ],
      "metadata": {
        "id": "AmpiRtVQ-7g8",
        "colab": {
          "base_uri": "https://localhost:8080/"
        },
        "outputId": "cf70197e-669b-45c4-8591-b3f323686a84"
      },
      "execution_count": 33,
      "outputs": [
        {
          "output_type": "stream",
          "name": "stdout",
          "text": [
            "[1, 2, 55, 3, 4, 5]\n"
          ]
        }
      ]
    },
    {
      "cell_type": "markdown",
      "source": [
        "## List Method: $\\texttt{sort}$\n",
        "\n",
        "* $\\texttt{sort()}$ sort the elements the list in ascending order (lowest to highest)"
      ],
      "metadata": {
        "id": "mrzr8s0q_Dlr"
      }
    },
    {
      "cell_type": "code",
      "source": [
        "numbers = [1,2,3,4,5]\n",
        "numbers.sort()\n",
        "print(numbers)"
      ],
      "metadata": {
        "id": "CQ4ZxEvm_Lv6",
        "colab": {
          "base_uri": "https://localhost:8080/"
        },
        "outputId": "d43d9c94-8e82-45c1-dabb-c9bb7a99be70"
      },
      "execution_count": 34,
      "outputs": [
        {
          "output_type": "stream",
          "name": "stdout",
          "text": [
            "[1, 2, 3, 4, 5]\n"
          ]
        }
      ]
    },
    {
      "cell_type": "markdown",
      "source": [
        "## List Method: $\\texttt{remove}$\n",
        "\n",
        "* $\\texttt{remove(item)}$: removes the first occurance of $\\texttt{item}$ in the list\n",
        "  * Raise $\\texttt{ValueError}$ exception if $\\texttt{item}$ is not in the list"
      ],
      "metadata": {
        "id": "wU7JItFw_QgJ"
      }
    },
    {
      "cell_type": "code",
      "source": [
        "numbers = [1, 2, 3, 4, 5]\n",
        "numbers.remove(2)\n",
        "print(numbers)"
      ],
      "metadata": {
        "id": "YdAZqKIa_lIL",
        "colab": {
          "base_uri": "https://localhost:8080/"
        },
        "outputId": "d2c4f5bd-05aa-44f7-9efe-b5802332ebbe"
      },
      "execution_count": 35,
      "outputs": [
        {
          "output_type": "stream",
          "name": "stdout",
          "text": [
            "[1, 3, 4, 5]\n"
          ]
        }
      ]
    },
    {
      "cell_type": "markdown",
      "source": [
        "## List Method: $\\texttt{reverse()}$\n",
        "\n",
        "* $\\texttt{reverse()}$: reverses the order of the elements in the list"
      ],
      "metadata": {
        "id": "baX-8Rti_hCQ"
      }
    },
    {
      "cell_type": "code",
      "source": [
        "numbers = [1,2,3,4,5]\n",
        "numbers.reverse()\n",
        "print(numbers)"
      ],
      "metadata": {
        "id": "GMVUucIW_tVm",
        "colab": {
          "base_uri": "https://localhost:8080/"
        },
        "outputId": "7be532c9-5cec-44b9-8563-2ed8ddef51a9"
      },
      "execution_count": 36,
      "outputs": [
        {
          "output_type": "stream",
          "name": "stdout",
          "text": [
            "[5, 4, 3, 2, 1]\n"
          ]
        }
      ]
    },
    {
      "cell_type": "markdown",
      "source": [
        "## List Methods Summary\n",
        "* Method general format: $\\texttt{list.method(params)}$\n",
        "  * Methods modify the list\n",
        "* $\\texttt{append(item)}$: add items to the *end* of the list.\n",
        "* $\\texttt{index(item)}$: determine the index of an item in the list.\n",
        "  * the item must be in the list, else $\\texttt{ValueError}$\n",
        "* $\\texttt{insert(index, item)}$: insert $\\texttt{item}$ at position $\\texttt{index}$ of the list\n",
        "* $\\texttt{sort()}$ sort the elements the list in ascending order (lowest to highest)\n",
        "* $\\texttt{remove(item)}$: removes the first occurance of $\\texttt{item}$ in the list\n",
        "  * Raise $\\texttt{ValueError}$ exception if $\\texttt{item}$ is not in the list\n",
        "* $\\texttt{reverse()}$: reverses the order of the elements in the list"
      ],
      "metadata": {
        "id": "jRYtBCYLyBbK"
      }
    },
    {
      "cell_type": "markdown",
      "source": [
        "## $\\texttt{del}$ built-in function\n",
        "* $\\texttt{del}$ statement: removes an element from a specific index in a list\n",
        "* Syntax: $\\texttt{del list[i]}$"
      ],
      "metadata": {
        "id": "k_VaeEx23lB_"
      }
    },
    {
      "cell_type": "code",
      "source": [
        "seq1 = [\"A\",\"B\",\"C\",\"D\",\"E\",\"F\"]\n",
        "\n",
        "del seq1[1]\n",
        "\n",
        "print(seq1)\n",
        "\n",
        "del seq1[-1]\n",
        "\n",
        "print(seq1)"
      ],
      "metadata": {
        "id": "rDvzmzl633LH",
        "colab": {
          "base_uri": "https://localhost:8080/"
        },
        "outputId": "a106fba7-9299-4710-eeac-610126503fe1"
      },
      "execution_count": 37,
      "outputs": [
        {
          "output_type": "stream",
          "name": "stdout",
          "text": [
            "['A', 'C', 'D', 'E', 'F']\n",
            "['A', 'C', 'D', 'E']\n"
          ]
        }
      ]
    },
    {
      "cell_type": "markdown",
      "source": [
        "## Useful Built-in functions\n",
        "* $\\texttt{min}$ and $\\texttt{max}$ functions: returns the minimum and maximum values in the list.\n",
        "  * Syntax: $\\texttt{min(list)}$ and $\\texttt{max(list)}$\n",
        "* $\\texttt{sum}$ function: returns the sum of all values in the list\n",
        "  * Syntax: $\\texttt{sum(list)}$"
      ],
      "metadata": {
        "id": "fdLgad6u4F65"
      }
    },
    {
      "cell_type": "code",
      "source": [
        "# max min sum example\n",
        "numbers = [1, 2, 3, 4, 5]\n",
        "\n",
        "print(\"The minimum value is \", min(numbers))\n",
        "print(\"The maximum value is \", max(numbers))\n",
        "print(\"The sum is \", sum(numbers))"
      ],
      "metadata": {
        "id": "PA_o86jm4eOk",
        "colab": {
          "base_uri": "https://localhost:8080/"
        },
        "outputId": "6d6464ab-c75f-423f-e352-c455275b45cc"
      },
      "execution_count": 38,
      "outputs": [
        {
          "output_type": "stream",
          "name": "stdout",
          "text": [
            "The minimum value is  1\n",
            "The maximum value is  5\n",
            "The sum is  15\n"
          ]
        }
      ]
    },
    {
      "cell_type": "markdown",
      "source": [
        "## List Referencing\n",
        "\n",
        "* Consider a case when you create a list and assign it to a variable. <br> $\\texttt{list1 = [1,2,3,4]}$\n",
        "\n",
        "* When you assign a list to another variable, the new variable will <br> point to the same list in the memory.\n",
        "<br> $\\texttt{list2 = list1}$\n",
        "* The assignment just copies the reference to the list, not the actual list.\n",
        "<br><br>\n",
        "\n",
        "&emsp;&emsp;&emsp;&emsp;&emsp;![function1.png](https://drive.google.com/uc?export=view&id=1O7Us32iHPMdx6-nSOTnh1EP7xKHDYX-n)\n"
      ],
      "metadata": {
        "id": "FYKrqUsg_7lN"
      }
    },
    {
      "cell_type": "code",
      "source": [
        "# List referencing\n",
        "list1 = [1,2,3,4]\n",
        "list2 = list1\n",
        "print(f\"Before: list1 = {list1}, list2 = {list2}\")\n",
        "\n",
        "list1[1] = 0\n",
        "\n",
        "print(f\"After: list1 = {list1}, list2 = {list2}\") # both change"
      ],
      "metadata": {
        "id": "FUe0OMhwCx1k",
        "colab": {
          "base_uri": "https://localhost:8080/"
        },
        "outputId": "fb440fbd-eabf-4e87-ceb8-7ebc3358c161"
      },
      "execution_count": 39,
      "outputs": [
        {
          "output_type": "stream",
          "name": "stdout",
          "text": [
            "Before: list1 = [1, 2, 3, 4], list2 = [1, 2, 3, 4]\n",
            "After: list1 = [1, 0, 3, 4], list2 = [1, 0, 3, 4]\n"
          ]
        }
      ]
    },
    {
      "cell_type": "markdown",
      "source": [
        "## Copying lists\n",
        "\n",
        "* To make a copy of a list you must copy each element of the list\n",
        "\n",
        "* Two methods to do this:\n",
        "  * Creating a new empty list and using a for loop to add a copy of <br> each  element from the original list to the new list\n",
        "  * Creating a new empty list and concatenating the old list to the new empty list\n",
        "\n"
      ],
      "metadata": {
        "id": "9FlAr92FDTxd"
      }
    },
    {
      "cell_type": "code",
      "source": [
        "# Copy method 1:\n",
        "## create a new empty list and loop to add the old list into it\n",
        "# old list\n",
        "list1 = [1, 2, 3, 4]\n",
        "\n",
        "# new list\n",
        "list2 = []\n",
        "\n",
        "for item in list1:\n",
        "  list2.append(item)\n",
        "\n",
        "## copy test\n",
        "list1[0] = 0\n",
        "print(f\"list1 = {list1}, list2 = {list2}\")"
      ],
      "metadata": {
        "id": "u3CIQ-hlDtf8",
        "colab": {
          "base_uri": "https://localhost:8080/"
        },
        "outputId": "d3bbc016-abcd-49a4-d8e9-0266e5e3c101"
      },
      "execution_count": 40,
      "outputs": [
        {
          "output_type": "stream",
          "name": "stdout",
          "text": [
            "list1 = [0, 2, 3, 4], list2 = [1, 2, 3, 4]\n"
          ]
        }
      ]
    },
    {
      "cell_type": "code",
      "source": [
        "# Copy method 2:\n",
        "## create a new empty list and concate the old list\n",
        "# old list\n",
        "list1 = [1, 2, 3, 4]\n",
        "\n",
        "# new list\n",
        "list2 = [] + list1\n",
        "\n",
        "## copy test\n",
        "list1[0] = 0\n",
        "print(f\"list1 = {list1}, list2 = {list2}\")"
      ],
      "metadata": {
        "id": "wGn-ZinWEN3Y",
        "colab": {
          "base_uri": "https://localhost:8080/"
        },
        "outputId": "98f14c48-92b8-41e9-e605-a7110624c536"
      },
      "execution_count": 41,
      "outputs": [
        {
          "output_type": "stream",
          "name": "stdout",
          "text": [
            "list1 = [0, 2, 3, 4], list2 = [1, 2, 3, 4]\n"
          ]
        }
      ]
    },
    {
      "cell_type": "markdown",
      "source": [
        "## Pass by reference\n",
        "* Recap: when you assign a list to a new variable, it only assigns the <br> reference to the list and does not create a new list.\n",
        "\n",
        "* The main reason is because list is mutable.\n",
        "\n",
        "* This behavior is the same when you pass a list to a function.\n",
        "\n",
        "* This mean when the function manipulate the list, it will change the list <br> like a global variable."
      ],
      "metadata": {
        "id": "IsNIJ79vFd5b"
      }
    },
    {
      "cell_type": "markdown",
      "source": [
        "## Two-dimensional lists\n",
        "\n",
        "* The items in the list can be other lists.\n",
        "* **Two-dimensional list**: a list that contains other lists as its elements\n",
        "  * Common to think of two-dimensional lists as having rows and columns\n",
        "  * Useful for working with multiple sets of data\n",
        "* To process data in a two-dimensional list need to use two indexes\n",
        "* Typically use nested loops to process"
      ],
      "metadata": {
        "id": "-fKtyloJG_MB"
      }
    },
    {
      "cell_type": "code",
      "source": [
        "# 2d-list ex1:\n",
        "students = [[\"Joe\",\"Kim\"],[\"Sam\",\"Sue\"],[\"Kelly\",\"Chris\"]]\n",
        "print(students)\n",
        "print(students[0])\n",
        "print(students[0][1], students[0][0])"
      ],
      "metadata": {
        "id": "YrYXdubcHvwa",
        "colab": {
          "base_uri": "https://localhost:8080/"
        },
        "outputId": "24a83d80-63ae-4bb5-c9d7-58f067dbfc13"
      },
      "execution_count": 43,
      "outputs": [
        {
          "output_type": "stream",
          "name": "stdout",
          "text": [
            "[['Joe', 'Kim'], ['Sam', 'Sue'], ['Kelly', 'Chris']]\n",
            "['Joe', 'Kim']\n",
            "Kim Joe\n"
          ]
        }
      ]
    },
    {
      "cell_type": "code",
      "source": [
        "# 2d-list ex2:\n",
        "\n",
        "## create a 2d board\n",
        "board = [[1, 2, 3],\n",
        "         [4, 5, 6],\n",
        "         [7, 8, 9]]\n",
        "\n",
        "for i in range(len(board)):\n",
        "  for j in range(len(board[i])):\n",
        "    board[i][j] = board[i][j]**2\n",
        "\n",
        "print(board)"
      ],
      "metadata": {
        "id": "pIKbSoBqID-z",
        "colab": {
          "base_uri": "https://localhost:8080/"
        },
        "outputId": "805fc7b6-a995-45e5-8063-ca9f743fd11d"
      },
      "execution_count": 44,
      "outputs": [
        {
          "output_type": "stream",
          "name": "stdout",
          "text": [
            "[[1, 4, 9], [16, 25, 36], [49, 64, 81]]\n"
          ]
        }
      ]
    },
    {
      "cell_type": "markdown",
      "source": [
        "## List summary\n",
        "* $\\texttt{list}$ is a mutable sequence\n",
        "* $\\texttt{list}$ construction $\\texttt{[item1, item2, item3]}$\n",
        "* list functions and operators: $\\texttt{len, *, +, in}$\n",
        "* list methods: $\\texttt{append, remove, insert, reverse, sort, del}$\n",
        "* list referencing (copy and pass by reference)\n",
        "* Two-dimension lists"
      ],
      "metadata": {
        "id": "da3C2XmYTsz-"
      }
    },
    {
      "cell_type": "markdown",
      "source": [
        "## Tuples\n",
        "\n",
        "* Tuple: an immutable sequence\n",
        "* Very similar to a list\n",
        "* Once it is created it cannot be changed\n",
        "* Syntax: $\\texttt{tuple_name = (item1, item2)}$\n",
        "* Tuples support operations as lists\n",
        "  * Subscript indexing for retrieving elements\n",
        "  * Methods such as index\n",
        "  * Built in functions such as $\\texttt{len}$, $\\texttt{min}$, $\\texttt{max}$, $\\texttt{sum}$\n",
        "  * Slicing expressions\n",
        "  * The $\\texttt{in}$, $\\texttt{+}$, and $\\texttt{*}$ operators"
      ],
      "metadata": {
        "id": "1-pM2UxRJfLE"
      }
    },
    {
      "cell_type": "code",
      "source": [
        "# Tuple ex1:\n",
        "my_tuple = (1, 2, 3, 4, 5)\n",
        "print(my_tuple)\n",
        "print(my_tuple[0])\n",
        "print(my_tuple[::2])"
      ],
      "metadata": {
        "id": "nA5saU8oJ7Jj",
        "colab": {
          "base_uri": "https://localhost:8080/"
        },
        "outputId": "5daa7253-ac5d-457e-a954-dea5215dbbdb"
      },
      "execution_count": 45,
      "outputs": [
        {
          "output_type": "stream",
          "name": "stdout",
          "text": [
            "(1, 2, 3, 4, 5)\n",
            "1\n",
            "(1, 3, 5)\n"
          ]
        }
      ]
    },
    {
      "cell_type": "code",
      "source": [
        "# Tuple ex2:\n",
        "## both types of for loop work\n",
        "names = (\"Holly\",\"Warren\",\"Ashley\")\n",
        "\n",
        "for n in names:\n",
        "  print(n)\n",
        "print(\"------\")\n",
        "for i in range(len(names)):\n",
        "  print(names[i])"
      ],
      "metadata": {
        "id": "SV3L_xaOKVMn",
        "colab": {
          "base_uri": "https://localhost:8080/"
        },
        "outputId": "e1798ab3-06a2-4f05-a02c-c1e5bd459c8d"
      },
      "execution_count": 46,
      "outputs": [
        {
          "output_type": "stream",
          "name": "stdout",
          "text": [
            "Holly\n",
            "Warren\n",
            "Ashley\n",
            "------\n",
            "Holly\n",
            "Warren\n",
            "Ashley\n"
          ]
        }
      ]
    },
    {
      "cell_type": "markdown",
      "source": [
        "## Tuples are immutable\n",
        "* Tuples do not support the methods:\n",
        "  * $\\texttt{append}$\n",
        "  * $\\texttt{remove}$\n",
        "  * $\\texttt{insert}$\n",
        "  * $\\texttt{reverse}$\n",
        "  * $\\texttt{sort}$\n",
        "* Tuples do not support $\\texttt{del}$ statement"
      ],
      "metadata": {
        "id": "aO9fGqASJ73D"
      }
    },
    {
      "cell_type": "markdown",
      "source": [
        "## Advantage of using tuples\n",
        "* Faster\n",
        "* Safer\n",
        "* Some operations in Python require use of tuples."
      ],
      "metadata": {
        "id": "Ou_6OnXpKzER"
      }
    },
    {
      "cell_type": "markdown",
      "source": [
        "## Conversion\n",
        "\n",
        "* $\\texttt{list()}$ function: converts tuple to list\n",
        "* $\\texttt{tuple()}$ function: converts list to tuple\n",
        "* They work with range too.\n",
        "* Both methods create a new list/tuple.\n",
        "  * can be used to copy list too."
      ],
      "metadata": {
        "id": "jVrYRCsnKWpN"
      }
    },
    {
      "cell_type": "code",
      "source": [
        "# conversion ex1\n",
        "list1 = [1, 2, 3, 4]\n",
        "tuple1 = (\"A\", \"B\", \"C\", \"D\")\n",
        "\n",
        "print(f\"list1 = {list1}, tuple1 = {tuple1}\")\n",
        "\n",
        "list2 = list(tuple1)\n",
        "tuple2 = tuple(list1)\n",
        "\n",
        "print(f\"list2 = {list2}, tuple2 = {tuple2}\")"
      ],
      "metadata": {
        "id": "DkLOw_wTLKoR",
        "colab": {
          "base_uri": "https://localhost:8080/"
        },
        "outputId": "b9080d0b-cb63-4473-d64a-5e9f722db47b"
      },
      "execution_count": 47,
      "outputs": [
        {
          "output_type": "stream",
          "name": "stdout",
          "text": [
            "list1 = [1, 2, 3, 4], tuple1 = ('A', 'B', 'C', 'D')\n",
            "list2 = ['A', 'B', 'C', 'D'], tuple2 = (1, 2, 3, 4)\n"
          ]
        }
      ]
    },
    {
      "cell_type": "code",
      "source": [
        "# range to list and tuple\n",
        "\n",
        "list_range1 = list(range(5))\n",
        "tuple_range1 = tuple(range(5))\n",
        "\n",
        "print(list_range1)\n",
        "print(tuple_range1)"
      ],
      "metadata": {
        "id": "AUlRK1YbLpIa",
        "colab": {
          "base_uri": "https://localhost:8080/"
        },
        "outputId": "6b709882-ec41-401d-e907-550115b41eec"
      },
      "execution_count": 48,
      "outputs": [
        {
          "output_type": "stream",
          "name": "stdout",
          "text": [
            "[0, 1, 2, 3, 4]\n",
            "(0, 1, 2, 3, 4)\n"
          ]
        }
      ]
    },
    {
      "cell_type": "markdown",
      "source": [
        "## Summary\n",
        "* $\\texttt{list}$ is a mutable sequence\n",
        "* $\\texttt{list}$ construction $\\texttt{[item1, item2, item3]}$\n",
        "* list functions and operators: $\\texttt{len, *, +, in}$\n",
        "* list methods: $\\texttt{append, remove, insert, reverse, sort, del}$\n",
        "* list referencing (copy and pass by reference)\n",
        "* Two-dimension lists\n",
        "* $\\texttt{tuple}$ is an unmutable sequence.\n",
        "* $\\texttt{tuple}$ construction $\\texttt{(item1, item2, item3)}$\n",
        "* Tuples do not support mutable methods.\n",
        "* Conversion using $\\texttt{list()}$ and $\\texttt{tuple()}$"
      ],
      "metadata": {
        "id": "ai-CaLTLpQzm"
      }
    }
  ]
}
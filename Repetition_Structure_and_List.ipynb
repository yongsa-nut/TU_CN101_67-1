{
  "nbformat": 4,
  "nbformat_minor": 0,
  "metadata": {
    "colab": {
      "provenance": [],
      "authorship_tag": "ABX9TyOY48RpIv/sTB+QcX3gZta9",
      "include_colab_link": true
    },
    "kernelspec": {
      "name": "python3",
      "display_name": "Python 3"
    },
    "language_info": {
      "name": "python"
    }
  },
  "cells": [
    {
      "cell_type": "markdown",
      "metadata": {
        "id": "view-in-github",
        "colab_type": "text"
      },
      "source": [
        "<a href=\"https://colab.research.google.com/github/yongsa-nut/TU_CN101_67-1/blob/main/Repetition_Structure_and_List.ipynb\" target=\"_parent\"><img src=\"https://colab.research.google.com/assets/colab-badge.svg\" alt=\"Open In Colab\"/></a>"
      ]
    },
    {
      "cell_type": "markdown",
      "source": [
        "**Q1**: What is the output of this program?\n",
        "```python\n",
        "my_list = [1,2,3,4,7,12]\n",
        "print(my_list[0], my_list[2], my_list[-1])\n",
        "```"
      ],
      "metadata": {
        "id": "lKf1LVXHmeYd"
      }
    },
    {
      "cell_type": "code",
      "source": [],
      "metadata": {
        "id": "L5CmtQ6jmeAv"
      },
      "execution_count": null,
      "outputs": []
    },
    {
      "cell_type": "markdown",
      "source": [
        "**Q2**: What is the output of this program?\n",
        "```python\n",
        "numbers = [1, 2, 3, 4, 5]\n",
        "for num in numbers:\n",
        "    print(num * 2, end=\" \")\n",
        "```"
      ],
      "metadata": {
        "id": "NBvNyGZ6nkeh"
      }
    },
    {
      "cell_type": "code",
      "source": [],
      "metadata": {
        "id": "8vYc5ahsnkBe"
      },
      "execution_count": null,
      "outputs": []
    },
    {
      "cell_type": "markdown",
      "source": [
        "**Q3**: What is the output of this program?\n",
        "\n",
        "```python\n",
        "words = ['AAA','BBB','CCC','DDD','FFF']\n",
        "for i in range(len(words)):\n",
        "  if words[i] != 'BBB':\n",
        "    print(words[i], end=',')\n",
        "```"
      ],
      "metadata": {
        "id": "RqNsh5B-npto"
      }
    },
    {
      "cell_type": "code",
      "source": [],
      "metadata": {
        "id": "yMHJS6IunqAK"
      },
      "execution_count": null,
      "outputs": []
    },
    {
      "cell_type": "markdown",
      "source": [
        "**Q4**: What is the output of this program?\n",
        "```python\n",
        "numbers = [1, 2, 3, 4]\n",
        "numbers[1] = numbers[0] + numbers[1]\n",
        "numbers[2] = numbers[1] + numbers[2]\n",
        "numbers[3] = numbers[2] + numbers[3]\n",
        "print(numbers)\n",
        "```"
      ],
      "metadata": {
        "id": "gmAOf0K8optT"
      }
    },
    {
      "cell_type": "code",
      "source": [],
      "metadata": {
        "id": "39Xqd4Gsoudl"
      },
      "execution_count": null,
      "outputs": []
    },
    {
      "cell_type": "markdown",
      "source": [
        "**Q5**: What is the output of this program?\n",
        "```python\n",
        "seq1 = [1,2,3,4]\n",
        "n1 = len(seq1)\n",
        "seq2 = [323,1234,123156311]\n",
        "n2 = len(seq2)\n",
        "print(n1 > n2)\n",
        "```"
      ],
      "metadata": {
        "id": "ql0Rq77hpw8L"
      }
    },
    {
      "cell_type": "code",
      "source": [],
      "metadata": {
        "id": "_5LWK4n3pwsF"
      },
      "execution_count": null,
      "outputs": []
    },
    {
      "cell_type": "markdown",
      "source": [
        "**Q6**: What will the following code print out?\n",
        "\n",
        "```python\n",
        "for i in range(0, 10, 3):\n",
        "  for j in range(5, i, - 3):\n",
        "     print(j, end='')  \n",
        "```"
      ],
      "metadata": {
        "id": "HZbDFX0HlPLz"
      }
    },
    {
      "cell_type": "markdown",
      "source": [
        "**Q8**: What will the following code print out?\n",
        "```python\n",
        "total = 0\n",
        "for i in range(0, 8, 2):\n",
        "  for j in range(0, 3):\n",
        "    if i > j:\n",
        "      total += i\n",
        "    else:\n",
        "      total += 1\n",
        "print(total)\n",
        "```"
      ],
      "metadata": {
        "id": "nG1U6ZC_rr75"
      }
    },
    {
      "cell_type": "code",
      "execution_count": null,
      "metadata": {
        "id": "CUHq3TsmlF4Z"
      },
      "outputs": [],
      "source": []
    },
    {
      "cell_type": "markdown",
      "source": [
        "**Q8**: Fill in the blank to print the index and value of each element:"
      ],
      "metadata": {
        "id": "9h1EpMAHqq4K"
      }
    },
    {
      "cell_type": "code",
      "source": [
        "fruits = [\"apple\", \"banana\", \"cherry\"]\n",
        "for i in range(__):\n",
        "  print(f\"{i}: {fruits[__]}\")"
      ],
      "metadata": {
        "id": "ez6Il05XqqrI"
      },
      "execution_count": null,
      "outputs": []
    },
    {
      "cell_type": "markdown",
      "source": [
        "**Q9**: Complete the code to find the largest number in the list:"
      ],
      "metadata": {
        "id": "K2EdQvhRrA4P"
      }
    },
    {
      "cell_type": "code",
      "source": [
        "numbers = [3, 7, 2, 8, 1]\n",
        "largest = numbers[0]\n",
        "for num in numbers:\n",
        "    if num __ largest:\n",
        "        largest = num\n",
        "print(largest)"
      ],
      "metadata": {
        "id": "QdyhROm_rDuQ"
      },
      "execution_count": null,
      "outputs": []
    },
    {
      "cell_type": "markdown",
      "source": [
        "**Q10** Complete the code to print out the number of words in the list that are the same as the target."
      ],
      "metadata": {
        "id": "Jfa6LH1Lsg2O"
      }
    },
    {
      "cell_type": "code",
      "source": [
        "target = 'Hello'\n",
        "words = ['Hello','Hello','hello','hell','hey','Hi','Hello','Hello There']\n",
        "count = 0\n",
        "for __________________________:\n",
        "  if _______________________:\n",
        "    ________________________\n",
        "print(count)"
      ],
      "metadata": {
        "id": "orlcbyh3shON"
      },
      "execution_count": null,
      "outputs": []
    },
    {
      "cell_type": "markdown",
      "source": [
        "**Q11**: Divisible sequence\n",
        "\n",
        "Write a program that take in two numbers $n$ and $m$ from a user. <br> Then print out a sequence of numbers from 1 to $n$ separated by commas. <br> If a number in the sequence is divisible by $m$, print 'D' instead.\n",
        "\n",
        "**Extra**: Don't print out any extra comma at the end.\n",
        "\n",
        "\n",
        "Example:\n",
        "\n",
        "```\n",
        "Enter n: 20\n",
        "Enter m: 4\n",
        "1,2,3,D,5,6,7,D,9,10,11,D,13,14,15,D,17,18,19,D\n",
        "```\n",
        "\n",
        "```\n",
        "Enter n: 100\n",
        "Enter m: 3\n",
        "1,2,D,4,5,D,7,8,D,10,11,D,13,14,D,16,17,D,19,20,D,22,23,D,25,26,D,28,29,D,31,32,D,34,35,D,37,38,D,40,41,D,43,44,D,46,47,D,49,50,D,52,53,D,55,56,D,58,59,D,61,62,D,64,65,D,67,68,D,70,71,D,73,74,D,76,77,D,79,80,D,82,83,D,85,86,D,88,89,D,91,92,D,94,95,D,97,98,D,100\n",
        "```"
      ],
      "metadata": {
        "id": "lXv2j3relb9t"
      }
    },
    {
      "cell_type": "code",
      "source": [],
      "metadata": {
        "id": "F15hg1fdlbku"
      },
      "execution_count": null,
      "outputs": []
    },
    {
      "cell_type": "markdown",
      "source": [
        "**Q12**: Calculate variance\n",
        "\n",
        "You are given a list of numbers. Your task is to calculate the variance of the list using the following formula\n",
        "\n",
        "$var = \\frac{1}{n}\\sum_i^nx_i^2 - \\mu^2$, where $x$ is the list of numbers, $n$ is the length of the list, and $\\mu$ is the mean of the list, $\\mu = \\frac{\\sum_i^nx_i}{n}$.\n",
        "\n",
        "**Hint:** separate the calculation into two parts (two loops): the sum of square and the square of mean. Then subtract them at the en"
      ],
      "metadata": {
        "id": "8yht2sWmlPlH"
      }
    },
    {
      "cell_type": "code",
      "source": [
        "# simply use these test_list below to test use your code\n",
        "# Comment out to test other lists\n",
        "test_list = [1,2,3,4,5]            # The answer is 2\n",
        "# test_list = [1,1,1,1,1]          # The answer is 0\n",
        "# test_list = [9,1,4,12,0,-2,4,8]  # The answer is 20.5\n",
        "\n",
        "n = len(test_list)                 # This return the length of a list.\n",
        "\n",
        "# Your code below\n"
      ],
      "metadata": {
        "id": "pTFwOySMlP31"
      },
      "execution_count": null,
      "outputs": []
    }
  ]
}
{
  "nbformat": 4,
  "nbformat_minor": 0,
  "metadata": {
    "colab": {
      "provenance": [],
      "authorship_tag": "ABX9TyPnBexnzpZHLxDUA6+wT6mB",
      "include_colab_link": true
    },
    "kernelspec": {
      "name": "python3",
      "display_name": "Python 3"
    },
    "language_info": {
      "name": "python"
    }
  },
  "cells": [
    {
      "cell_type": "markdown",
      "metadata": {
        "id": "view-in-github",
        "colab_type": "text"
      },
      "source": [
        "<a href=\"https://colab.research.google.com/github/yongsa-nut/TU_CN101_67-1/blob/main/Function_Lab1.ipynb\" target=\"_parent\"><img src=\"https://colab.research.google.com/assets/colab-badge.svg\" alt=\"Open In Colab\"/></a>"
      ]
    },
    {
      "cell_type": "markdown",
      "source": [
        "เขียนชื่อ นามสกุล และ รหัสนักศึกษา ด้านล่าง"
      ],
      "metadata": {
        "id": "TwSOaeRbnDpz"
      }
    },
    {
      "cell_type": "code",
      "source": [],
      "metadata": {
        "id": "ZzvzZBCfnHvf"
      },
      "execution_count": null,
      "outputs": []
    },
    {
      "cell_type": "markdown",
      "source": [
        "**Q1**: What will the following program output?\n",
        "\n",
        "```python\n",
        "def print_greeting():\n",
        "  print(\"Hello\")\n",
        "  print(\"Hi\")\n",
        "\n",
        "print_greeting()\n",
        "print_greeting()\n",
        "```"
      ],
      "metadata": {
        "id": "y9NBKodVxuUW"
      }
    },
    {
      "cell_type": "code",
      "execution_count": null,
      "metadata": {
        "id": "sbITL11ytvGn"
      },
      "outputs": [],
      "source": []
    },
    {
      "cell_type": "markdown",
      "source": [
        "**Q2**: What will the following program output?\n",
        "\n",
        "```python\n",
        "def func1():\n",
        "  print(\"AAA\", end='-')\n",
        "\n",
        "def func2():\n",
        "  func1()\n",
        "  print(\"BBB\",end='-')\n",
        "  func1()\n",
        "\n",
        "func2()\n",
        "```"
      ],
      "metadata": {
        "id": "QTuJvhi8xz6X"
      }
    },
    {
      "cell_type": "code",
      "source": [],
      "metadata": {
        "id": "Ajw6s6jVx4Uw"
      },
      "execution_count": null,
      "outputs": []
    },
    {
      "cell_type": "markdown",
      "source": [
        "**Q3** What will the following program output?\n",
        "\n",
        "```python\n",
        "def aaa():\n",
        "  print(\"aaa\", end=\"\")\n",
        "\n",
        "def bbb():\n",
        "  print(\"bbb\", end=\"\")\n",
        "\n",
        "def ccc():\n",
        "  print(\"ccc\", end=\"\")\n",
        "\n",
        "def main():\n",
        "  bbb()\n",
        "  aaa()\n",
        "\n",
        "main()\n",
        "```"
      ],
      "metadata": {
        "id": "Ua69A8-Qxr2m"
      }
    },
    {
      "cell_type": "code",
      "source": [],
      "metadata": {
        "id": "uv8hfDkExrqe"
      },
      "execution_count": null,
      "outputs": []
    },
    {
      "cell_type": "markdown",
      "source": [
        "**Q4**: What will the following program output?\n",
        "\n",
        "```python\n",
        "def calculate(x):\n",
        "  y = x**2\n",
        "  print(x, y)\n",
        "\n",
        "calculate(2)\n",
        "y = 5\n",
        "calculate(y+1)\n",
        "```"
      ],
      "metadata": {
        "id": "m4eLrRBCyjIs"
      }
    },
    {
      "cell_type": "code",
      "source": [],
      "metadata": {
        "id": "Hbe0nd6vyqEF"
      },
      "execution_count": null,
      "outputs": []
    },
    {
      "cell_type": "markdown",
      "source": [
        "**Q5** What will the following program output?\n",
        "\n",
        "```python\n",
        "def do_something(x, y):\n",
        "  print(f\"{x+y}\")\n",
        "\n",
        "def main():\n",
        "  do_something(1*3, 2+2)\n",
        "\n",
        "main()\n",
        "```"
      ],
      "metadata": {
        "id": "-mylKOlQyqRI"
      }
    },
    {
      "cell_type": "code",
      "source": [],
      "metadata": {
        "id": "pK-CKb2JysZs"
      },
      "execution_count": null,
      "outputs": []
    },
    {
      "cell_type": "markdown",
      "source": [
        "**Q6** What will the following program output?\n",
        "\n",
        "```python\n",
        "def xxx():\n",
        "  return 5\n",
        "\n",
        "def yyy():\n",
        "  return 7\n",
        "\n",
        "print(xxx() + yyy())\n",
        "x = yyy()\n",
        "y = xxx()\n",
        "z = x*y\n",
        "print(z)\n",
        "```"
      ],
      "metadata": {
        "id": "Am5hD8ihzFC0"
      }
    },
    {
      "cell_type": "code",
      "source": [],
      "metadata": {
        "id": "wfZRsn0hzLAn"
      },
      "execution_count": null,
      "outputs": []
    },
    {
      "cell_type": "markdown",
      "source": [
        "**Q7**: What will the following program output?\n",
        "\n",
        "```python\n",
        "def func1(x):\n",
        "  x = x + 1\n",
        "  return x\n",
        "  \n",
        "print(func1(1) + func1(2))\n",
        "```"
      ],
      "metadata": {
        "id": "J4x4Ml9uz9I4"
      }
    },
    {
      "cell_type": "code",
      "source": [],
      "metadata": {
        "id": "cRMpN22C0BqP"
      },
      "execution_count": null,
      "outputs": []
    },
    {
      "cell_type": "markdown",
      "source": [
        "**Q8:** What will the following program output?\n",
        "\n",
        "```python\n",
        "def func2(x, y):\n",
        "  return (x*y) + 2\n",
        "\n",
        "z = func2(y=2, x=3)\n",
        "print(func2(x=z, y = 2))\n",
        "```"
      ],
      "metadata": {
        "id": "X5ZqVjUk0Zk9"
      }
    },
    {
      "cell_type": "code",
      "source": [],
      "metadata": {
        "id": "RFDHovax0mNG"
      },
      "execution_count": null,
      "outputs": []
    },
    {
      "cell_type": "markdown",
      "source": [
        "**Q9**: What will the following program output?\n",
        "\n",
        "```python\n",
        "def aaa(x=1, y=2):\n",
        "  print(f\"{x+y}\", end=\",\")\n",
        "\n",
        "def bbb(x, y =2, z =3):\n",
        "  total = x + y + z\n",
        "  return total\n",
        "\n",
        "def main():\n",
        "  aaa()\n",
        "  result1 = bbb(5, 5, 5)\n",
        "  result2 = bbb(3, 3)\n",
        "  print(result1, result2)\n",
        "\n",
        "main()\n",
        "```"
      ],
      "metadata": {
        "id": "fUCEcldP0_ML"
      }
    },
    {
      "cell_type": "code",
      "source": [],
      "metadata": {
        "id": "dAy4KR_a1C12"
      },
      "execution_count": null,
      "outputs": []
    },
    {
      "cell_type": "markdown",
      "source": [
        "**Q10**: What will the following program output?\n",
        "\n",
        "```python\n",
        "def first(x):\n",
        "  x = x + 1\n",
        "  print(x, end=\"\")\n",
        "\n",
        "def second(x):\n",
        "  x = x + 2\n",
        "  return x\n",
        "\n",
        "def third(x):\n",
        "  x = x + 3\n",
        "  y = 5\n",
        "  return x\n",
        "\n",
        "def main():\n",
        "  x = 0\n",
        "  y = 0\n",
        "  first(x)\n",
        "  second(x)\n",
        "  y = y + third(x)\n",
        "  print(x, y)\n",
        "\n",
        "main()\n",
        "```"
      ],
      "metadata": {
        "id": "gp9cKhpD0oov"
      }
    },
    {
      "cell_type": "code",
      "source": [],
      "metadata": {
        "id": "3dz_i6KI1Yyn"
      },
      "execution_count": null,
      "outputs": []
    },
    {
      "cell_type": "markdown",
      "source": [
        "**Q11**: What will the program output?\n",
        "\n",
        "```python\n",
        "def do_thing(num):\n",
        "  return num+1\n",
        "\n",
        "my_list = [do_thing(i) for i in range(1,5)]\n",
        "print(my_list)\n",
        "```"
      ],
      "metadata": {
        "id": "t9020ucD3GWH"
      }
    },
    {
      "cell_type": "code",
      "source": [],
      "metadata": {
        "id": "3_ne7BYH3Gt5"
      },
      "execution_count": null,
      "outputs": []
    },
    {
      "cell_type": "markdown",
      "source": [
        "**Q12**: Fill in the code below so that the code print out 6."
      ],
      "metadata": {
        "id": "LIzF8CBW1bBG"
      }
    },
    {
      "cell_type": "code",
      "source": [
        "def calX(x, y):\n",
        "  return x + y\n",
        "\n",
        "print(calX(calX(3,__), 2))"
      ],
      "metadata": {
        "id": "uawPPg5G1anH"
      },
      "execution_count": null,
      "outputs": []
    },
    {
      "cell_type": "markdown",
      "source": [
        "**Q13**: Fill in the code so that the program print out \"Hello\""
      ],
      "metadata": {
        "id": "C42hQzkC1jtx"
      }
    },
    {
      "cell_type": "code",
      "source": [
        "def do_something():\n",
        "  ________________\n",
        "\n",
        "do_something()"
      ],
      "metadata": {
        "id": "uz74-vq41o9b"
      },
      "execution_count": null,
      "outputs": []
    },
    {
      "cell_type": "markdown",
      "source": [
        "**Q14**: Fill in the code so that the program call the function `generate` and print out 5."
      ],
      "metadata": {
        "id": "RbmV5C0P2cRp"
      }
    },
    {
      "cell_type": "code",
      "source": [
        "def generate(x):\n",
        "  x *= 3\n",
        "  return x+2\n",
        "\n",
        "y = ________________\n",
        "print(y)"
      ],
      "metadata": {
        "id": "6ECDm6BL2rSs"
      },
      "execution_count": null,
      "outputs": []
    },
    {
      "cell_type": "markdown",
      "source": [
        "**Q15**: Fill in the code below so that the program call a function ``multiple_items`` to get an input from the user and return the values back to the main to be printed out.\n",
        "\n",
        "Example of output:\n",
        "```\n",
        "Which is your favorite bridge? Baltimore\n",
        "When was it constructed? 1972\n",
        "My favorite bridge is 'Baltimore' and it was constructed in '1972'.\n",
        "```"
      ],
      "metadata": {
        "id": "tpJ-Drcx1vAo"
      }
    },
    {
      "cell_type": "code",
      "source": [
        "def multiple_items():\n",
        "  bridge = input(\"Which is your favorite bridge? \")\n",
        "  year = input(\"When was it constructed? \")\n",
        "  return bridge, year\n",
        "\n",
        "def main():\n",
        "  ______________________ #Fill in your code here\n",
        "  print(f\"My favorite bridge is '{brg}' and it was constructed in '{yr}'.\")\n",
        "main()"
      ],
      "metadata": {
        "id": "VqtmISXX12Hx"
      },
      "execution_count": null,
      "outputs": []
    },
    {
      "cell_type": "markdown",
      "source": [
        "**Q16**: Welcome\n",
        "\n",
        "จงเขียน function ``print_welcome(n)`` ซึ่งรับค่า `n` และ ปริ้นคำว่า \"Welcome\" ออกมา n ครั้ง\n",
        "\n",
        "**Input**:\n",
        "- $n$\n",
        "\n",
        "**Output**:\n",
        "- \"Welcome\" $n$ times/lines\n",
        "\n",
        "Example:\n",
        "\n",
        "```\n",
        "Enter n: 3\n",
        "Welcome\n",
        "Welcome\n",
        "Welcome\n",
        "```"
      ],
      "metadata": {
        "id": "iAr_v9U03YYw"
      }
    },
    {
      "cell_type": "code",
      "source": [
        "# implement print_welcome(n) here\n",
        "\n",
        "\n",
        "\n",
        "def main():\n",
        "  n = int(input(\"Enter n: \"))\n",
        "  print_welcome(n)\n",
        "main()"
      ],
      "metadata": {
        "id": "d5gQQmSD3Zjy"
      },
      "execution_count": null,
      "outputs": []
    },
    {
      "cell_type": "markdown",
      "source": [
        "**Q17**: Fahrenheit to Celsius function\n",
        "\n",
        "จงสร้าง $\\texttt{FtoC}$ function ซึ่งรับค่าตัวเลขหนึ่งค่า ซึ่งเป็นค่าอุณหภูมิในหน่วย Fahrenheit และส่งค่า (return) ค่าอุณหภูมิเป็น Celsius ออกมา. The formula is $C = (F-32)*5/9$.\n",
        "\n",
        "Input:\n",
        "* a real number for temperature in F.\n",
        "\n",
        "Output:\n",
        "* a real number for Celsius in two decimals\n",
        "\n",
        "Example1:\n",
        "```\n",
        "Enter temperature (F):89\n",
        "31.67\n",
        "```\n",
        "\n",
        "Example2:\n",
        "```\n",
        "Enter temperature (F):32\n",
        "0.00\n",
        "```"
      ],
      "metadata": {
        "id": "aLNvNR_B3qMO"
      }
    },
    {
      "cell_type": "code",
      "source": [
        "# Implement FtoC function below\n",
        "\n",
        "\n",
        "\n",
        "def main():\n",
        "  temp = float(input(\"Enter temperature (F): \"))\n",
        "  print(f\"{FtoC(temp):.2f}\")\n",
        "main()"
      ],
      "metadata": {
        "id": "DUf0Rs8y3vjs"
      },
      "execution_count": null,
      "outputs": []
    },
    {
      "cell_type": "markdown",
      "source": [
        "**Q18** Rectangle\n",
        "\n",
        "จงสร้าง function `rectangle(w,h)` ที่รับค่า ความกว้าง `w` และความยาว `h` และส่งข้อมูลออกสองค่าคือ พื้นที่ และ เส้นรอบรูป\n",
        "\n",
        "**input**\n",
        "- จำนวนจริง w\n",
        "- จำนวนจริง h\n",
        "\n",
        "**output**\n",
        "- พื้นที่ สองตำแหน่ง\n",
        "- เส้นรอบรูป สองตำแหน่ง\n",
        "\n",
        "**ข้อกำหนด**\n",
        "- จะต้องสร้าง `main()` function มารับข้อมูลจาก user และ เรียกใช้ function `rectangle(w,h)` หลังจากนั้น ให้แสดงผลออกมา. (ดูตัวอย่างได้จากข้อก่อนหน้านี้)\n",
        "\n",
        "**ตัวอย่าง 1**\n",
        "\n",
        "```\n",
        ">Enter w: 5\n",
        ">Enter h: 6\n",
        "Area is 30.00\n",
        "Perimeter is 22.00\n",
        "```\n",
        "\n",
        "**ตัวอย่าง 2**\n",
        "\n",
        "```\n",
        ">Enter w: 10\n",
        ">Enter h: 2.5\n",
        "Area is 25.00\n",
        "Perimeter is 25.00\n",
        "```\n"
      ],
      "metadata": {
        "id": "3M1VlnIy4eIN"
      }
    },
    {
      "cell_type": "code",
      "source": [],
      "metadata": {
        "id": "w8_4qkY06mPq"
      },
      "execution_count": null,
      "outputs": []
    }
  ]
}